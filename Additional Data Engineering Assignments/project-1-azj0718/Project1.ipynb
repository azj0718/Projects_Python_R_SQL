{
 "cells": [
  {
   "cell_type": "markdown",
   "id": "3aaa9242",
   "metadata": {},
   "source": [
    "# Project 1 - Query Project\n",
    "\n",
    "### As a data scientist at Lyft Bay Wheels, I have initially performed data exploration on the static sanfrancisco dataset through Google BigQuery to better understand the situation around bikeshare stations, bikeshare statuses, and bikeshare trips within the area of San Francisco and migrated the final queries onto this Jupyter Notebook to provide data that supports my recommendations in an effort to increase ridership for the company. After performing some data analysis against the bikeshare_stations, bikeshare_status, and bikeshare_trips static tables in the san_francisco dataset, below are the recommendations to increase ridership along with the the data analysis performed to support my claims:"
   ]
  },
  {
   "cell_type": "markdown",
   "id": "93bfc3e1",
   "metadata": {},
   "source": [
    "## Imports:"
   ]
  },
  {
   "cell_type": "code",
   "execution_count": 35,
   "id": "b52753e8",
   "metadata": {},
   "outputs": [],
   "source": [
    "import numpy as np\n",
    "import pandas as pd\n",
    "import matplotlib.pyplot as plt\n",
    "import seaborn as sns\n",
    "%matplotlib inline"
   ]
  },
  {
   "cell_type": "markdown",
   "id": "7c5b1e44",
   "metadata": {},
   "source": [
    "## Data Import, Cleaning, and Analysis:"
   ]
  },
  {
   "cell_type": "markdown",
   "id": "83e268fc",
   "metadata": {},
   "source": [
    "The first query below was created to provide a list of the top 10 starting stations that have the lowest number of trips. Since a bike trip starts from a selected station, the intent was to take a look at which starting stations have the lowest count of bike trips so that a recommendation could be provided in order to bring up the number of rides from that starting station. Based on the results, the top 10 starting point stations with the lowest number of trips would be Clay at Battery, Market at 10th, 2nd at South Park, Evelyn Park and Ride, Embarcadero at Vallejo, Broadway St at Battery St, Embarcadero at Bryant, Grant Avenue at Columbus Avenue, St James Park, and Spear at Folsom. It is also worth mentioning that even though I could've used the bigquery magic command to create a name for the table just like the other follow-up data frames, I have decided to create at least one csv output file to demonstrate capabilities of being able to import and read csv files within the jupyter notebook as well."
   ]
  },
  {
   "cell_type": "code",
   "execution_count": 36,
   "id": "ea09bd44",
   "metadata": {},
   "outputs": [
    {
     "name": "stdout",
     "output_type": "stream",
     "text": [
      "Waiting on bqjob_r7281542985270cc5_00000179d467e114_1 ... (0s) Current status: DONE   \n"
     ]
    }
   ],
   "source": [
    "! bq query --use_legacy_sql=false --format=csv 'SELECT start_station_name, number_of_trips FROM bike_trip_data.numberoftrips WHERE number_of_trips <= 105 ORDER BY number_of_trips ASC LIMIT 10' > startstation_trips.csv"
   ]
  },
  {
   "cell_type": "code",
   "execution_count": 37,
   "id": "56e40639",
   "metadata": {},
   "outputs": [
    {
     "data": {
      "text/html": [
       "<div>\n",
       "<style scoped>\n",
       "    .dataframe tbody tr th:only-of-type {\n",
       "        vertical-align: middle;\n",
       "    }\n",
       "\n",
       "    .dataframe tbody tr th {\n",
       "        vertical-align: top;\n",
       "    }\n",
       "\n",
       "    .dataframe thead th {\n",
       "        text-align: right;\n",
       "    }\n",
       "</style>\n",
       "<table border=\"1\" class=\"dataframe\">\n",
       "  <thead>\n",
       "    <tr style=\"text-align: right;\">\n",
       "      <th></th>\n",
       "      <th>start_station_name</th>\n",
       "      <th>number_of_trips</th>\n",
       "    </tr>\n",
       "  </thead>\n",
       "  <tbody>\n",
       "    <tr>\n",
       "      <th>0</th>\n",
       "      <td>Clay at Battery</td>\n",
       "      <td>101</td>\n",
       "    </tr>\n",
       "    <tr>\n",
       "      <th>1</th>\n",
       "      <td>Market at 10th</td>\n",
       "      <td>101</td>\n",
       "    </tr>\n",
       "    <tr>\n",
       "      <th>2</th>\n",
       "      <td>2nd at South Park</td>\n",
       "      <td>102</td>\n",
       "    </tr>\n",
       "    <tr>\n",
       "      <th>3</th>\n",
       "      <td>Evelyn Park and Ride</td>\n",
       "      <td>102</td>\n",
       "    </tr>\n",
       "    <tr>\n",
       "      <th>4</th>\n",
       "      <td>Embarcadero at Vallejo</td>\n",
       "      <td>102</td>\n",
       "    </tr>\n",
       "    <tr>\n",
       "      <th>5</th>\n",
       "      <td>Broadway St at Battery St</td>\n",
       "      <td>102</td>\n",
       "    </tr>\n",
       "    <tr>\n",
       "      <th>6</th>\n",
       "      <td>Embarcadero at Bryant</td>\n",
       "      <td>102</td>\n",
       "    </tr>\n",
       "    <tr>\n",
       "      <th>7</th>\n",
       "      <td>Grant Avenue at Columbus Avenue</td>\n",
       "      <td>103</td>\n",
       "    </tr>\n",
       "    <tr>\n",
       "      <th>8</th>\n",
       "      <td>St James Park</td>\n",
       "      <td>103</td>\n",
       "    </tr>\n",
       "    <tr>\n",
       "      <th>9</th>\n",
       "      <td>Spear at Folsom</td>\n",
       "      <td>103</td>\n",
       "    </tr>\n",
       "  </tbody>\n",
       "</table>\n",
       "</div>"
      ],
      "text/plain": [
       "                start_station_name  number_of_trips\n",
       "0                  Clay at Battery              101\n",
       "1                   Market at 10th              101\n",
       "2                2nd at South Park              102\n",
       "3             Evelyn Park and Ride              102\n",
       "4           Embarcadero at Vallejo              102\n",
       "5        Broadway St at Battery St              102\n",
       "6            Embarcadero at Bryant              102\n",
       "7  Grant Avenue at Columbus Avenue              103\n",
       "8                    St James Park              103\n",
       "9                  Spear at Folsom              103"
      ]
     },
     "execution_count": 37,
     "metadata": {},
     "output_type": "execute_result"
    }
   ],
   "source": [
    "startingstations_with_lowest_trips = pd.read_csv('startstation_trips.csv')\n",
    "\n",
    "startingstations_with_lowest_trips"
   ]
  },
  {
   "cell_type": "markdown",
   "id": "a711fe8f",
   "metadata": {},
   "source": [
    "The second query below was created to take a look at the amount of bike trips per duration of hours. It is important to note the huge difference in bike trip counts within less than one hour compared to 1 hour+. There was a total of 936,280 bike trips that had a duration of less one hour compared to 26,500 trips in between 1 hour and 2 hours. As shown in the query results, a majority of the bike trips were less than a hour which shows that most trips are very short. It is also worth mentioning that I have created the following view called 'trips_1' in Google BigQuery in order convert the durations into minutes/hours and also performed \"feature engineering\" to create some new columns that were easier to work with:\n",
    "\n",
    "```sql\n",
    "select\n",
    "    trip_id,\n",
    "    CAST(ROUND(duration_sec / 60.0) AS INT64) AS duration_minutes,\n",
    "    CAST(ROUND(duration_sec / 3600.0) AS INT64) AS duration_hours_rounded,\n",
    "    EXTRACT(DAYOFWEEK from start_date) AS dow_int,\n",
    "    CASE EXTRACT(DAYOFWEEK FROM start_date)\n",
    "        WHEN 1 THEN \"Sunday\"\n",
    "        WHEN 2 THEN \"Monday\"\n",
    "        WHEN 3 THEN \"Tuesday\"\n",
    "        WHEN 4 THEN \"Wednesday\"\n",
    "        WHEN 5 THEN \"Thursday\"\n",
    "        WHEN 6 THEN \"Friday\"\n",
    "        WHEN 7 THEN \"Saturday\"\n",
    "        END AS dow_str,\n",
    "    EXTRACT(HOUR FROM start_date) AS start_hour,\n",
    "    start_date,\n",
    "    end_date,\n",
    "    start_station_name,\n",
    "    start_station_id,\n",
    "    end_station_name,\n",
    "    end_station_id,\n",
    "    bike_number,\n",
    "    zip_code,\n",
    "    subscriber_type\n",
    "from `bigquery-public-data.san_francisco.bikeshare_trips`\n",
    "```"
   ]
  },
  {
   "cell_type": "code",
   "execution_count": 38,
   "id": "af3c47a6",
   "metadata": {},
   "outputs": [
    {
     "name": "stderr",
     "output_type": "stream",
     "text": [
      "Query complete after 0.00s: 100%|██████████| 3/3 [00:00<00:00, 1336.76query/s]                        \n",
      "Downloading: 100%|██████████| 10/10 [00:01<00:00,  6.34rows/s]\n"
     ]
    }
   ],
   "source": [
    "%%bigquery biketrips_duration_hours\n",
    "\n",
    "SELECT duration_hours_rounded, count(*) FROM `bike_trip_data.trips_1` GROUP BY duration_hours_rounded ORDER BY 1 LIMIT 10"
   ]
  },
  {
   "cell_type": "code",
   "execution_count": 39,
   "id": "0fbec88f",
   "metadata": {},
   "outputs": [
    {
     "data": {
      "text/html": [
       "<div>\n",
       "<style scoped>\n",
       "    .dataframe tbody tr th:only-of-type {\n",
       "        vertical-align: middle;\n",
       "    }\n",
       "\n",
       "    .dataframe tbody tr th {\n",
       "        vertical-align: top;\n",
       "    }\n",
       "\n",
       "    .dataframe thead th {\n",
       "        text-align: right;\n",
       "    }\n",
       "</style>\n",
       "<table border=\"1\" class=\"dataframe\">\n",
       "  <thead>\n",
       "    <tr style=\"text-align: right;\">\n",
       "      <th></th>\n",
       "      <th>duration_hours_rounded</th>\n",
       "      <th>f0_</th>\n",
       "    </tr>\n",
       "  </thead>\n",
       "  <tbody>\n",
       "    <tr>\n",
       "      <th>0</th>\n",
       "      <td>0</td>\n",
       "      <td>936280</td>\n",
       "    </tr>\n",
       "    <tr>\n",
       "      <th>1</th>\n",
       "      <td>1</td>\n",
       "      <td>26500</td>\n",
       "    </tr>\n",
       "    <tr>\n",
       "      <th>2</th>\n",
       "      <td>2</td>\n",
       "      <td>7924</td>\n",
       "    </tr>\n",
       "    <tr>\n",
       "      <th>3</th>\n",
       "      <td>3</td>\n",
       "      <td>4217</td>\n",
       "    </tr>\n",
       "    <tr>\n",
       "      <th>4</th>\n",
       "      <td>4</td>\n",
       "      <td>2643</td>\n",
       "    </tr>\n",
       "    <tr>\n",
       "      <th>5</th>\n",
       "      <td>5</td>\n",
       "      <td>1692</td>\n",
       "    </tr>\n",
       "    <tr>\n",
       "      <th>6</th>\n",
       "      <td>6</td>\n",
       "      <td>1110</td>\n",
       "    </tr>\n",
       "    <tr>\n",
       "      <th>7</th>\n",
       "      <td>7</td>\n",
       "      <td>757</td>\n",
       "    </tr>\n",
       "    <tr>\n",
       "      <th>8</th>\n",
       "      <td>8</td>\n",
       "      <td>572</td>\n",
       "    </tr>\n",
       "    <tr>\n",
       "      <th>9</th>\n",
       "      <td>9</td>\n",
       "      <td>251</td>\n",
       "    </tr>\n",
       "  </tbody>\n",
       "</table>\n",
       "</div>"
      ],
      "text/plain": [
       "   duration_hours_rounded     f0_\n",
       "0                       0  936280\n",
       "1                       1   26500\n",
       "2                       2    7924\n",
       "3                       3    4217\n",
       "4                       4    2643\n",
       "5                       5    1692\n",
       "6                       6    1110\n",
       "7                       7     757\n",
       "8                       8     572\n",
       "9                       9     251"
      ]
     },
     "execution_count": 39,
     "metadata": {},
     "output_type": "execute_result"
    }
   ],
   "source": [
    "biketrips_duration_hours"
   ]
  },
  {
   "cell_type": "markdown",
   "id": "6e12582d",
   "metadata": {},
   "source": [
    "The third query below was created to take a look at which day of the week had the lowest count of bike trips. As shown in the results, the day of week with the lowest count of bike trips was Sunday with 46,336 trips and next was Saturday with 54,333 trips which should that weekends usually have a lower number of bike trips compared to weekdays. I have also created the following view called trips_2 out of the trips_1 view in order to specifically take a look at which bike trips had a duration in between 5 to 20 minutes:\n",
    "\n",
    "```sql\n",
    "select *\n",
    "from `bike_trip_data.trips_1`\n",
    "where duration_minutes >= 5\n",
    "        and duration_hours_rounded <= 20\n",
    "```"
   ]
  },
  {
   "cell_type": "code",
   "execution_count": 40,
   "id": "b5782cdd",
   "metadata": {},
   "outputs": [
    {
     "name": "stderr",
     "output_type": "stream",
     "text": [
      "Query complete after 0.00s: 100%|██████████| 3/3 [00:00<00:00, 1177.18query/s]                        \n",
      "Downloading: 100%|██████████| 7/7 [00:01<00:00,  5.14rows/s]\n"
     ]
    }
   ],
   "source": [
    "%%bigquery dayofweek_biketrips\n",
    "\n",
    "SELECT dow_int, dow_str, count(*) FROM `bike_trip_data.trips_2` GROUP BY dow_int, dow_str ORDER BY 1"
   ]
  },
  {
   "cell_type": "code",
   "execution_count": 41,
   "id": "83ab51fd",
   "metadata": {},
   "outputs": [
    {
     "data": {
      "text/html": [
       "<div>\n",
       "<style scoped>\n",
       "    .dataframe tbody tr th:only-of-type {\n",
       "        vertical-align: middle;\n",
       "    }\n",
       "\n",
       "    .dataframe tbody tr th {\n",
       "        vertical-align: top;\n",
       "    }\n",
       "\n",
       "    .dataframe thead th {\n",
       "        text-align: right;\n",
       "    }\n",
       "</style>\n",
       "<table border=\"1\" class=\"dataframe\">\n",
       "  <thead>\n",
       "    <tr style=\"text-align: right;\">\n",
       "      <th></th>\n",
       "      <th>dow_int</th>\n",
       "      <th>dow_str</th>\n",
       "      <th>f0_</th>\n",
       "    </tr>\n",
       "  </thead>\n",
       "  <tbody>\n",
       "    <tr>\n",
       "      <th>0</th>\n",
       "      <td>1</td>\n",
       "      <td>Sunday</td>\n",
       "      <td>46336</td>\n",
       "    </tr>\n",
       "    <tr>\n",
       "      <th>1</th>\n",
       "      <td>2</td>\n",
       "      <td>Monday</td>\n",
       "      <td>144920</td>\n",
       "    </tr>\n",
       "    <tr>\n",
       "      <th>2</th>\n",
       "      <td>3</td>\n",
       "      <td>Tuesday</td>\n",
       "      <td>157046</td>\n",
       "    </tr>\n",
       "    <tr>\n",
       "      <th>3</th>\n",
       "      <td>4</td>\n",
       "      <td>Wednesday</td>\n",
       "      <td>154204</td>\n",
       "    </tr>\n",
       "    <tr>\n",
       "      <th>4</th>\n",
       "      <td>5</td>\n",
       "      <td>Thursday</td>\n",
       "      <td>151062</td>\n",
       "    </tr>\n",
       "    <tr>\n",
       "      <th>5</th>\n",
       "      <td>6</td>\n",
       "      <td>Friday</td>\n",
       "      <td>137194</td>\n",
       "    </tr>\n",
       "    <tr>\n",
       "      <th>6</th>\n",
       "      <td>7</td>\n",
       "      <td>Saturday</td>\n",
       "      <td>54333</td>\n",
       "    </tr>\n",
       "  </tbody>\n",
       "</table>\n",
       "</div>"
      ],
      "text/plain": [
       "   dow_int    dow_str     f0_\n",
       "0        1     Sunday   46336\n",
       "1        2     Monday  144920\n",
       "2        3    Tuesday  157046\n",
       "3        4  Wednesday  154204\n",
       "4        5   Thursday  151062\n",
       "5        6     Friday  137194\n",
       "6        7   Saturday   54333"
      ]
     },
     "execution_count": 41,
     "metadata": {},
     "output_type": "execute_result"
    }
   ],
   "source": [
    "dayofweek_biketrips"
   ]
  },
  {
   "cell_type": "markdown",
   "id": "ff5c2c0c",
   "metadata": {},
   "source": [
    "The fourth query below was created to view which landmarks had the most bikes available on a frequent basis. Initially, I have scoped the results to show top 10 results but then wanted to further resolve my curiosity by expanding the results limit to 20, 30, 40, and then 50 results. As you can see from the top 10 of the results, San Francisco showed up 5 times whereas San Jose showed up 3 times and Redwood city show up 2 times. When I further visualized the data through a seaborn barplot, San Francisco happened to still be number 1 in terms of the most amount of bikes available on a frequent basis compared to San Jose as 2nd place, Redwood City as 3rd place, Mountain View as 4th place, and Palo Alto as 5th place."
   ]
  },
  {
   "cell_type": "code",
   "execution_count": 42,
   "id": "99cfaa09",
   "metadata": {},
   "outputs": [
    {
     "name": "stderr",
     "output_type": "stream",
     "text": [
      "Query complete after 0.00s: 100%|██████████| 4/4 [00:00<00:00, 2142.14query/s]                        \n",
      "Downloading: 100%|██████████| 50/50 [00:01<00:00, 31.55rows/s]\n"
     ]
    }
   ],
   "source": [
    "%%bigquery landmark_bikesavailable\n",
    "\n",
    "SELECT distinct(bikeshare_stations.landmark), bikeshare_status.bikes_available FROM bigquery-public-data.san_francisco.bikeshare_status INNER JOIN bigquery-public-data.san_francisco.bikeshare_stations ON bikeshare_status.station_id=bikeshare_stations.station_id\n",
    "ORDER BY bikes_available DESC LIMIT 50"
   ]
  },
  {
   "cell_type": "code",
   "execution_count": 43,
   "id": "310d0700",
   "metadata": {},
   "outputs": [
    {
     "data": {
      "text/html": [
       "<div>\n",
       "<style scoped>\n",
       "    .dataframe tbody tr th:only-of-type {\n",
       "        vertical-align: middle;\n",
       "    }\n",
       "\n",
       "    .dataframe tbody tr th {\n",
       "        vertical-align: top;\n",
       "    }\n",
       "\n",
       "    .dataframe thead th {\n",
       "        text-align: right;\n",
       "    }\n",
       "</style>\n",
       "<table border=\"1\" class=\"dataframe\">\n",
       "  <thead>\n",
       "    <tr style=\"text-align: right;\">\n",
       "      <th></th>\n",
       "      <th>landmark</th>\n",
       "      <th>bikes_available</th>\n",
       "    </tr>\n",
       "  </thead>\n",
       "  <tbody>\n",
       "    <tr>\n",
       "      <th>0</th>\n",
       "      <td>San Francisco</td>\n",
       "      <td>29</td>\n",
       "    </tr>\n",
       "    <tr>\n",
       "      <th>1</th>\n",
       "      <td>San Francisco</td>\n",
       "      <td>28</td>\n",
       "    </tr>\n",
       "    <tr>\n",
       "      <th>2</th>\n",
       "      <td>San Francisco</td>\n",
       "      <td>27</td>\n",
       "    </tr>\n",
       "    <tr>\n",
       "      <th>3</th>\n",
       "      <td>San Jose</td>\n",
       "      <td>27</td>\n",
       "    </tr>\n",
       "    <tr>\n",
       "      <th>4</th>\n",
       "      <td>Redwood City</td>\n",
       "      <td>26</td>\n",
       "    </tr>\n",
       "    <tr>\n",
       "      <th>5</th>\n",
       "      <td>San Jose</td>\n",
       "      <td>26</td>\n",
       "    </tr>\n",
       "    <tr>\n",
       "      <th>6</th>\n",
       "      <td>San Francisco</td>\n",
       "      <td>26</td>\n",
       "    </tr>\n",
       "    <tr>\n",
       "      <th>7</th>\n",
       "      <td>Redwood City</td>\n",
       "      <td>25</td>\n",
       "    </tr>\n",
       "    <tr>\n",
       "      <th>8</th>\n",
       "      <td>San Francisco</td>\n",
       "      <td>25</td>\n",
       "    </tr>\n",
       "    <tr>\n",
       "      <th>9</th>\n",
       "      <td>San Jose</td>\n",
       "      <td>25</td>\n",
       "    </tr>\n",
       "    <tr>\n",
       "      <th>10</th>\n",
       "      <td>San Francisco</td>\n",
       "      <td>24</td>\n",
       "    </tr>\n",
       "    <tr>\n",
       "      <th>11</th>\n",
       "      <td>Redwood City</td>\n",
       "      <td>24</td>\n",
       "    </tr>\n",
       "    <tr>\n",
       "      <th>12</th>\n",
       "      <td>San Jose</td>\n",
       "      <td>24</td>\n",
       "    </tr>\n",
       "    <tr>\n",
       "      <th>13</th>\n",
       "      <td>Mountain View</td>\n",
       "      <td>23</td>\n",
       "    </tr>\n",
       "    <tr>\n",
       "      <th>14</th>\n",
       "      <td>San Jose</td>\n",
       "      <td>23</td>\n",
       "    </tr>\n",
       "    <tr>\n",
       "      <th>15</th>\n",
       "      <td>San Francisco</td>\n",
       "      <td>23</td>\n",
       "    </tr>\n",
       "    <tr>\n",
       "      <th>16</th>\n",
       "      <td>Redwood City</td>\n",
       "      <td>23</td>\n",
       "    </tr>\n",
       "    <tr>\n",
       "      <th>17</th>\n",
       "      <td>San Jose</td>\n",
       "      <td>22</td>\n",
       "    </tr>\n",
       "    <tr>\n",
       "      <th>18</th>\n",
       "      <td>Mountain View</td>\n",
       "      <td>22</td>\n",
       "    </tr>\n",
       "    <tr>\n",
       "      <th>19</th>\n",
       "      <td>Redwood City</td>\n",
       "      <td>22</td>\n",
       "    </tr>\n",
       "    <tr>\n",
       "      <th>20</th>\n",
       "      <td>San Francisco</td>\n",
       "      <td>22</td>\n",
       "    </tr>\n",
       "    <tr>\n",
       "      <th>21</th>\n",
       "      <td>Palo Alto</td>\n",
       "      <td>22</td>\n",
       "    </tr>\n",
       "    <tr>\n",
       "      <th>22</th>\n",
       "      <td>Mountain View</td>\n",
       "      <td>21</td>\n",
       "    </tr>\n",
       "    <tr>\n",
       "      <th>23</th>\n",
       "      <td>San Jose</td>\n",
       "      <td>21</td>\n",
       "    </tr>\n",
       "    <tr>\n",
       "      <th>24</th>\n",
       "      <td>San Francisco</td>\n",
       "      <td>21</td>\n",
       "    </tr>\n",
       "    <tr>\n",
       "      <th>25</th>\n",
       "      <td>Palo Alto</td>\n",
       "      <td>21</td>\n",
       "    </tr>\n",
       "    <tr>\n",
       "      <th>26</th>\n",
       "      <td>Redwood City</td>\n",
       "      <td>21</td>\n",
       "    </tr>\n",
       "    <tr>\n",
       "      <th>27</th>\n",
       "      <td>San Francisco</td>\n",
       "      <td>20</td>\n",
       "    </tr>\n",
       "    <tr>\n",
       "      <th>28</th>\n",
       "      <td>Mountain View</td>\n",
       "      <td>20</td>\n",
       "    </tr>\n",
       "    <tr>\n",
       "      <th>29</th>\n",
       "      <td>Redwood City</td>\n",
       "      <td>20</td>\n",
       "    </tr>\n",
       "    <tr>\n",
       "      <th>30</th>\n",
       "      <td>Palo Alto</td>\n",
       "      <td>20</td>\n",
       "    </tr>\n",
       "    <tr>\n",
       "      <th>31</th>\n",
       "      <td>San Jose</td>\n",
       "      <td>20</td>\n",
       "    </tr>\n",
       "    <tr>\n",
       "      <th>32</th>\n",
       "      <td>Mountain View</td>\n",
       "      <td>19</td>\n",
       "    </tr>\n",
       "    <tr>\n",
       "      <th>33</th>\n",
       "      <td>San Francisco</td>\n",
       "      <td>19</td>\n",
       "    </tr>\n",
       "    <tr>\n",
       "      <th>34</th>\n",
       "      <td>Palo Alto</td>\n",
       "      <td>19</td>\n",
       "    </tr>\n",
       "    <tr>\n",
       "      <th>35</th>\n",
       "      <td>Redwood City</td>\n",
       "      <td>19</td>\n",
       "    </tr>\n",
       "    <tr>\n",
       "      <th>36</th>\n",
       "      <td>San Jose</td>\n",
       "      <td>19</td>\n",
       "    </tr>\n",
       "    <tr>\n",
       "      <th>37</th>\n",
       "      <td>San Francisco</td>\n",
       "      <td>18</td>\n",
       "    </tr>\n",
       "    <tr>\n",
       "      <th>38</th>\n",
       "      <td>Palo Alto</td>\n",
       "      <td>18</td>\n",
       "    </tr>\n",
       "    <tr>\n",
       "      <th>39</th>\n",
       "      <td>Redwood City</td>\n",
       "      <td>18</td>\n",
       "    </tr>\n",
       "    <tr>\n",
       "      <th>40</th>\n",
       "      <td>Mountain View</td>\n",
       "      <td>18</td>\n",
       "    </tr>\n",
       "    <tr>\n",
       "      <th>41</th>\n",
       "      <td>San Jose</td>\n",
       "      <td>18</td>\n",
       "    </tr>\n",
       "    <tr>\n",
       "      <th>42</th>\n",
       "      <td>San Francisco</td>\n",
       "      <td>17</td>\n",
       "    </tr>\n",
       "    <tr>\n",
       "      <th>43</th>\n",
       "      <td>Redwood City</td>\n",
       "      <td>17</td>\n",
       "    </tr>\n",
       "    <tr>\n",
       "      <th>44</th>\n",
       "      <td>Palo Alto</td>\n",
       "      <td>17</td>\n",
       "    </tr>\n",
       "    <tr>\n",
       "      <th>45</th>\n",
       "      <td>San Jose</td>\n",
       "      <td>17</td>\n",
       "    </tr>\n",
       "    <tr>\n",
       "      <th>46</th>\n",
       "      <td>Mountain View</td>\n",
       "      <td>17</td>\n",
       "    </tr>\n",
       "    <tr>\n",
       "      <th>47</th>\n",
       "      <td>Palo Alto</td>\n",
       "      <td>16</td>\n",
       "    </tr>\n",
       "    <tr>\n",
       "      <th>48</th>\n",
       "      <td>Redwood City</td>\n",
       "      <td>16</td>\n",
       "    </tr>\n",
       "    <tr>\n",
       "      <th>49</th>\n",
       "      <td>San Francisco</td>\n",
       "      <td>16</td>\n",
       "    </tr>\n",
       "  </tbody>\n",
       "</table>\n",
       "</div>"
      ],
      "text/plain": [
       "         landmark  bikes_available\n",
       "0   San Francisco               29\n",
       "1   San Francisco               28\n",
       "2   San Francisco               27\n",
       "3        San Jose               27\n",
       "4    Redwood City               26\n",
       "5        San Jose               26\n",
       "6   San Francisco               26\n",
       "7    Redwood City               25\n",
       "8   San Francisco               25\n",
       "9        San Jose               25\n",
       "10  San Francisco               24\n",
       "11   Redwood City               24\n",
       "12       San Jose               24\n",
       "13  Mountain View               23\n",
       "14       San Jose               23\n",
       "15  San Francisco               23\n",
       "16   Redwood City               23\n",
       "17       San Jose               22\n",
       "18  Mountain View               22\n",
       "19   Redwood City               22\n",
       "20  San Francisco               22\n",
       "21      Palo Alto               22\n",
       "22  Mountain View               21\n",
       "23       San Jose               21\n",
       "24  San Francisco               21\n",
       "25      Palo Alto               21\n",
       "26   Redwood City               21\n",
       "27  San Francisco               20\n",
       "28  Mountain View               20\n",
       "29   Redwood City               20\n",
       "30      Palo Alto               20\n",
       "31       San Jose               20\n",
       "32  Mountain View               19\n",
       "33  San Francisco               19\n",
       "34      Palo Alto               19\n",
       "35   Redwood City               19\n",
       "36       San Jose               19\n",
       "37  San Francisco               18\n",
       "38      Palo Alto               18\n",
       "39   Redwood City               18\n",
       "40  Mountain View               18\n",
       "41       San Jose               18\n",
       "42  San Francisco               17\n",
       "43   Redwood City               17\n",
       "44      Palo Alto               17\n",
       "45       San Jose               17\n",
       "46  Mountain View               17\n",
       "47      Palo Alto               16\n",
       "48   Redwood City               16\n",
       "49  San Francisco               16"
      ]
     },
     "execution_count": 43,
     "metadata": {},
     "output_type": "execute_result"
    }
   ],
   "source": [
    "landmark_bikesavailable"
   ]
  },
  {
   "cell_type": "markdown",
   "id": "0621a3ea",
   "metadata": {},
   "source": [
    "The fifth query below was created to view which stations had the lowest count of usage. Based on the query results, Station 88 had the lowest usage with a count of only 38 trips compared to Station 91 with 125 trips, Station 89 with 157 trips, and so on. I have further visualized these results through a seaborn barplot in the data visualization section and added a cut-off line in red in order to view which stations had lower than 20,000 trips so that recommendations could be provided for those specific stations. It is also worth mentioning that I have also used the trips_2 view for this analysis and unioned the count for starting stations and ending stations."
   ]
  },
  {
   "cell_type": "code",
   "execution_count": 44,
   "id": "92cc8a64",
   "metadata": {},
   "outputs": [
    {
     "name": "stderr",
     "output_type": "stream",
     "text": [
      "Query complete after 0.00s: 100%|██████████| 5/5 [00:00<00:00, 2735.65query/s]                        \n",
      "Downloading: 100%|██████████| 74/74 [00:01<00:00, 47.82rows/s]\n"
     ]
    }
   ],
   "source": [
    "%%bigquery stationid_tripcount\n",
    "\n",
    "SELECT station_id, sum(trip_count)\n",
    "FROM\n",
    "(\n",
    "SELECT start_station_id as station_id, count(*) as trip_count\n",
    "FROM `bike_trip_data.trips_2`\n",
    "GROUP BY start_station_id\n",
    "UNION ALL\n",
    "SELECT end_station_id as station_id, count(*) as trip_count\n",
    "FROM `bike_trip_data.trips_2`\n",
    "GROUP BY end_station_id\n",
    ")\n",
    "GROUP BY station_id order by 2"
   ]
  },
  {
   "cell_type": "code",
   "execution_count": 46,
   "id": "d65c0c21",
   "metadata": {},
   "outputs": [
    {
     "data": {
      "text/html": [
       "<div>\n",
       "<style scoped>\n",
       "    .dataframe tbody tr th:only-of-type {\n",
       "        vertical-align: middle;\n",
       "    }\n",
       "\n",
       "    .dataframe tbody tr th {\n",
       "        vertical-align: top;\n",
       "    }\n",
       "\n",
       "    .dataframe thead th {\n",
       "        text-align: right;\n",
       "    }\n",
       "</style>\n",
       "<table border=\"1\" class=\"dataframe\">\n",
       "  <thead>\n",
       "    <tr style=\"text-align: right;\">\n",
       "      <th></th>\n",
       "      <th>station_id</th>\n",
       "      <th>f0_</th>\n",
       "    </tr>\n",
       "  </thead>\n",
       "  <tbody>\n",
       "    <tr>\n",
       "      <th>0</th>\n",
       "      <td>88</td>\n",
       "      <td>38</td>\n",
       "    </tr>\n",
       "    <tr>\n",
       "      <th>1</th>\n",
       "      <td>91</td>\n",
       "      <td>125</td>\n",
       "    </tr>\n",
       "    <tr>\n",
       "      <th>2</th>\n",
       "      <td>89</td>\n",
       "      <td>157</td>\n",
       "    </tr>\n",
       "    <tr>\n",
       "      <th>3</th>\n",
       "      <td>90</td>\n",
       "      <td>252</td>\n",
       "    </tr>\n",
       "    <tr>\n",
       "      <th>4</th>\n",
       "      <td>21</td>\n",
       "      <td>303</td>\n",
       "    </tr>\n",
       "    <tr>\n",
       "      <th>...</th>\n",
       "      <td>...</td>\n",
       "      <td>...</td>\n",
       "    </tr>\n",
       "    <tr>\n",
       "      <th>69</th>\n",
       "      <td>61</td>\n",
       "      <td>75276</td>\n",
       "    </tr>\n",
       "    <tr>\n",
       "      <th>70</th>\n",
       "      <td>60</td>\n",
       "      <td>84880</td>\n",
       "    </tr>\n",
       "    <tr>\n",
       "      <th>71</th>\n",
       "      <td>50</td>\n",
       "      <td>91345</td>\n",
       "    </tr>\n",
       "    <tr>\n",
       "      <th>72</th>\n",
       "      <td>69</td>\n",
       "      <td>99003</td>\n",
       "    </tr>\n",
       "    <tr>\n",
       "      <th>73</th>\n",
       "      <td>70</td>\n",
       "      <td>152686</td>\n",
       "    </tr>\n",
       "  </tbody>\n",
       "</table>\n",
       "<p>74 rows × 2 columns</p>\n",
       "</div>"
      ],
      "text/plain": [
       "    station_id     f0_\n",
       "0           88      38\n",
       "1           91     125\n",
       "2           89     157\n",
       "3           90     252\n",
       "4           21     303\n",
       "..         ...     ...\n",
       "69          61   75276\n",
       "70          60   84880\n",
       "71          50   91345\n",
       "72          69   99003\n",
       "73          70  152686\n",
       "\n",
       "[74 rows x 2 columns]"
      ]
     },
     "execution_count": 46,
     "metadata": {},
     "output_type": "execute_result"
    }
   ],
   "source": [
    "stationid_tripcount"
   ]
  },
  {
   "cell_type": "markdown",
   "id": "7ada5584",
   "metadata": {},
   "source": [
    "The sixth query below was created to answer the following Part 3 question: What are the 5 most popular trips that you would called \"commuter trips\"?\n",
    "\n",
    "For this question, I have created a SQL query that selected the count of starting and ending stations that had a starting hour in between 6 and 9 as well as in between 16 and 19 so that only trips within the time ranges of commuting to work and leaving work were captured. I have limited the results to 5 so that only the top 5 were provided. Also for better visualization purposes, I have updated the dataframe in order to group both the starting station and ending station into an additiona column rather than displaying both columns seperately in my seaborn barplot."
   ]
  },
  {
   "cell_type": "code",
   "execution_count": 49,
   "id": "48209393",
   "metadata": {},
   "outputs": [
    {
     "name": "stderr",
     "output_type": "stream",
     "text": [
      "Query complete after 0.00s: 100%|██████████| 1/1 [00:00<00:00, 942.96query/s] \n",
      "Downloading: 100%|██████████| 5/5 [00:01<00:00,  3.23rows/s]\n"
     ]
    }
   ],
   "source": [
    "%%bigquery commuter_trips\n",
    "\n",
    "SELECT start_station_name, end_station_name, count(*)\n",
    "FROM `bike_trip_data.trips_2`\n",
    "WHERE start_station_name <> end_station_name\n",
    "    and dow_int <> 1\n",
    "    and dow_int <> 7\n",
    "    and (start_hour >= 6 and start_hour <= 9) or (start_hour >= 16 and start_hour <= 19)\n",
    "GROUP BY start_station_name, end_station_name\n",
    "ORDER BY 3 desc\n",
    "LIMIT 5"
   ]
  },
  {
   "cell_type": "code",
   "execution_count": 50,
   "id": "071f307b",
   "metadata": {},
   "outputs": [],
   "source": [
    "commuter_trips['start_to_end_station'] = commuter_trips['start_station_name'] + ' to ' + commuter_trips['end_station_name']"
   ]
  },
  {
   "cell_type": "code",
   "execution_count": 21,
   "id": "b07d6832",
   "metadata": {},
   "outputs": [
    {
     "data": {
      "text/html": [
       "<div>\n",
       "<style scoped>\n",
       "    .dataframe tbody tr th:only-of-type {\n",
       "        vertical-align: middle;\n",
       "    }\n",
       "\n",
       "    .dataframe tbody tr th {\n",
       "        vertical-align: top;\n",
       "    }\n",
       "\n",
       "    .dataframe thead th {\n",
       "        text-align: right;\n",
       "    }\n",
       "</style>\n",
       "<table border=\"1\" class=\"dataframe\">\n",
       "  <thead>\n",
       "    <tr style=\"text-align: right;\">\n",
       "      <th></th>\n",
       "      <th>start_station_name</th>\n",
       "      <th>end_station_name</th>\n",
       "      <th>f0_</th>\n",
       "      <th>start_to_end_station</th>\n",
       "    </tr>\n",
       "  </thead>\n",
       "  <tbody>\n",
       "    <tr>\n",
       "      <th>0</th>\n",
       "      <td>Harry Bridges Plaza (Ferry Building)</td>\n",
       "      <td>2nd at Townsend</td>\n",
       "      <td>5700</td>\n",
       "      <td>Harry Bridges Plaza (Ferry Building) to 2nd at...</td>\n",
       "    </tr>\n",
       "    <tr>\n",
       "      <th>1</th>\n",
       "      <td>2nd at Townsend</td>\n",
       "      <td>Harry Bridges Plaza (Ferry Building)</td>\n",
       "      <td>5449</td>\n",
       "      <td>2nd at Townsend to Harry Bridges Plaza (Ferry ...</td>\n",
       "    </tr>\n",
       "    <tr>\n",
       "      <th>2</th>\n",
       "      <td>Embarcadero at Sansome</td>\n",
       "      <td>Steuart at Market</td>\n",
       "      <td>5194</td>\n",
       "      <td>Embarcadero at Sansome to Steuart at Market</td>\n",
       "    </tr>\n",
       "    <tr>\n",
       "      <th>3</th>\n",
       "      <td>San Francisco Caltrain (Townsend at 4th)</td>\n",
       "      <td>Harry Bridges Plaza (Ferry Building)</td>\n",
       "      <td>5166</td>\n",
       "      <td>San Francisco Caltrain (Townsend at 4th) to Ha...</td>\n",
       "    </tr>\n",
       "    <tr>\n",
       "      <th>4</th>\n",
       "      <td>Embarcadero at Folsom</td>\n",
       "      <td>San Francisco Caltrain (Townsend at 4th)</td>\n",
       "      <td>4961</td>\n",
       "      <td>Embarcadero at Folsom to San Francisco Caltrai...</td>\n",
       "    </tr>\n",
       "  </tbody>\n",
       "</table>\n",
       "</div>"
      ],
      "text/plain": [
       "                         start_station_name  \\\n",
       "0      Harry Bridges Plaza (Ferry Building)   \n",
       "1                           2nd at Townsend   \n",
       "2                    Embarcadero at Sansome   \n",
       "3  San Francisco Caltrain (Townsend at 4th)   \n",
       "4                     Embarcadero at Folsom   \n",
       "\n",
       "                           end_station_name   f0_  \\\n",
       "0                           2nd at Townsend  5700   \n",
       "1      Harry Bridges Plaza (Ferry Building)  5449   \n",
       "2                         Steuart at Market  5194   \n",
       "3      Harry Bridges Plaza (Ferry Building)  5166   \n",
       "4  San Francisco Caltrain (Townsend at 4th)  4961   \n",
       "\n",
       "                                start_to_end_station  \n",
       "0  Harry Bridges Plaza (Ferry Building) to 2nd at...  \n",
       "1  2nd at Townsend to Harry Bridges Plaza (Ferry ...  \n",
       "2        Embarcadero at Sansome to Steuart at Market  \n",
       "3  San Francisco Caltrain (Townsend at 4th) to Ha...  \n",
       "4  Embarcadero at Folsom to San Francisco Caltrai...  "
      ]
     },
     "execution_count": 21,
     "metadata": {},
     "output_type": "execute_result"
    }
   ],
   "source": [
    "commuter_trips"
   ]
  },
  {
   "cell_type": "markdown",
   "id": "a68c5d36",
   "metadata": {},
   "source": [
    "Additionally, below are some other sql queries that were only ran in order to better understand the sanfrancisco dataset but weren't added to the data visualization recommendations section."
   ]
  },
  {
   "cell_type": "code",
   "execution_count": 53,
   "id": "89eb3579",
   "metadata": {},
   "outputs": [
    {
     "name": "stderr",
     "output_type": "stream",
     "text": [
      "Query complete after 0.00s: 100%|██████████| 1/1 [00:00<00:00, 456.75query/s]                          \n",
      "Downloading: 100%|██████████| 4/4 [00:01<00:00,  2.65rows/s]\n"
     ]
    },
    {
     "data": {
      "text/html": [
       "<div>\n",
       "<style scoped>\n",
       "    .dataframe tbody tr th:only-of-type {\n",
       "        vertical-align: middle;\n",
       "    }\n",
       "\n",
       "    .dataframe tbody tr th {\n",
       "        vertical-align: top;\n",
       "    }\n",
       "\n",
       "    .dataframe thead th {\n",
       "        text-align: right;\n",
       "    }\n",
       "</style>\n",
       "<table border=\"1\" class=\"dataframe\">\n",
       "  <thead>\n",
       "    <tr style=\"text-align: right;\">\n",
       "      <th></th>\n",
       "      <th>name</th>\n",
       "    </tr>\n",
       "  </thead>\n",
       "  <tbody>\n",
       "    <tr>\n",
       "      <th>0</th>\n",
       "      <td>Santa Clara at Almaden</td>\n",
       "    </tr>\n",
       "    <tr>\n",
       "      <th>1</th>\n",
       "      <td>Cowper at University</td>\n",
       "    </tr>\n",
       "    <tr>\n",
       "      <th>2</th>\n",
       "      <td>University and Emerson</td>\n",
       "    </tr>\n",
       "    <tr>\n",
       "      <th>3</th>\n",
       "      <td>Castro Street and El Camino Real</td>\n",
       "    </tr>\n",
       "  </tbody>\n",
       "</table>\n",
       "</div>"
      ],
      "text/plain": [
       "                               name\n",
       "0            Santa Clara at Almaden\n",
       "1              Cowper at University\n",
       "2            University and Emerson\n",
       "3  Castro Street and El Camino Real"
      ]
     },
     "execution_count": 53,
     "metadata": {},
     "output_type": "execute_result"
    }
   ],
   "source": [
    "%%bigquery\n",
    "\n",
    "#SQL Query to answer the question of which docking stations have less than a total of 15 dock counts?\n",
    "#Based on the results, the docking stations with less than a total of 15 dock counts would be Santa Clara at Almaden, Cowper at University, University and Emerson, and Castro Street and El Camino Real.\n",
    "\n",
    "SELECT name\n",
    "FROM `bigquery-public-data.san_francisco.bikeshare_stations`\n",
    "WHERE dockcount < 15"
   ]
  },
  {
   "cell_type": "code",
   "execution_count": 59,
   "id": "76682100",
   "metadata": {},
   "outputs": [
    {
     "name": "stderr",
     "output_type": "stream",
     "text": [
      "Query complete after 0.00s: 100%|██████████| 2/2 [00:00<00:00, 993.20query/s]                         \n",
      "Downloading: 100%|██████████| 1/1 [00:01<00:00,  1.58s/rows]\n"
     ]
    },
    {
     "data": {
      "text/html": [
       "<div>\n",
       "<style scoped>\n",
       "    .dataframe tbody tr th:only-of-type {\n",
       "        vertical-align: middle;\n",
       "    }\n",
       "\n",
       "    .dataframe tbody tr th {\n",
       "        vertical-align: top;\n",
       "    }\n",
       "\n",
       "    .dataframe thead th {\n",
       "        text-align: right;\n",
       "    }\n",
       "</style>\n",
       "<table border=\"1\" class=\"dataframe\">\n",
       "  <thead>\n",
       "    <tr style=\"text-align: right;\">\n",
       "      <th></th>\n",
       "      <th>f0_</th>\n",
       "    </tr>\n",
       "  </thead>\n",
       "  <tbody>\n",
       "    <tr>\n",
       "      <th>0</th>\n",
       "      <td>220374</td>\n",
       "    </tr>\n",
       "  </tbody>\n",
       "</table>\n",
       "</div>"
      ],
      "text/plain": [
       "      f0_\n",
       "0  220374"
      ]
     },
     "execution_count": 59,
     "metadata": {},
     "output_type": "execute_result"
    }
   ],
   "source": [
    "%%bigquery\n",
    "\n",
    "#SQL Query to answer the question of what are the count of bike trips that have a duration of less than 5 minutes?\n",
    "\n",
    "#Based on the results, there were 220,374 bike trips that had a duration of less than 5 minutes which shows that a majority of bike trips are very short.\n",
    "\n",
    "SELECT count(*) FROM `bike_trip_data.trips_1` WHERE duration_minutes <= 5"
   ]
  },
  {
   "cell_type": "code",
   "execution_count": 61,
   "id": "3fb966a9",
   "metadata": {},
   "outputs": [
    {
     "name": "stderr",
     "output_type": "stream",
     "text": [
      "Query complete after 0.00s: 100%|██████████| 2/2 [00:00<00:00, 1074.77query/s]                        \n",
      "Downloading: 100%|██████████| 1/1 [00:01<00:00,  1.50s/rows]\n"
     ]
    },
    {
     "data": {
      "text/html": [
       "<div>\n",
       "<style scoped>\n",
       "    .dataframe tbody tr th:only-of-type {\n",
       "        vertical-align: middle;\n",
       "    }\n",
       "\n",
       "    .dataframe tbody tr th {\n",
       "        vertical-align: top;\n",
       "    }\n",
       "\n",
       "    .dataframe thead th {\n",
       "        text-align: right;\n",
       "    }\n",
       "</style>\n",
       "<table border=\"1\" class=\"dataframe\">\n",
       "  <thead>\n",
       "    <tr style=\"text-align: right;\">\n",
       "      <th></th>\n",
       "      <th>f0_</th>\n",
       "    </tr>\n",
       "  </thead>\n",
       "  <tbody>\n",
       "    <tr>\n",
       "      <th>0</th>\n",
       "      <td>628444</td>\n",
       "    </tr>\n",
       "  </tbody>\n",
       "</table>\n",
       "</div>"
      ],
      "text/plain": [
       "      f0_\n",
       "0  628444"
      ]
     },
     "execution_count": 61,
     "metadata": {},
     "output_type": "execute_result"
    }
   ],
   "source": [
    "%%bigquery\n",
    "\n",
    "#SQL Query to answer the question of what are the count of bike trips that have a duration of less than 10 minutes?\n",
    "\n",
    "#Based on the results, there were 628,8444 bike trips that had a duration of less than 10 minutes which shows that a majority of bike trips are very short.\n",
    "\n",
    "SELECT count(*) FROM `bike_trip_data.trips_1` WHERE duration_minutes <= 10"
   ]
  },
  {
   "cell_type": "markdown",
   "id": "6cc94492",
   "metadata": {},
   "source": [
    "## Data Visualization and Recommendations:"
   ]
  },
  {
   "cell_type": "markdown",
   "id": "1eaaa857",
   "metadata": {},
   "source": [
    "#### Visualization for count of bike trips that had a duration of less than 1 hour compared to 1 hour+"
   ]
  },
  {
   "cell_type": "code",
   "execution_count": 73,
   "id": "15e5d78d",
   "metadata": {},
   "outputs": [
    {
     "data": {
      "text/plain": [
       "Text(0, 0.5, 'Hour')"
      ]
     },
     "execution_count": 73,
     "metadata": {},
     "output_type": "execute_result"
    },
    {
     "data": {
      "image/png": "[encoded data removed]",
      "text/plain": [
       "<Figure size 1008x432 with 1 Axes>"
      ]
     },
     "metadata": {
      "needs_background": "light"
     },
     "output_type": "display_data"
    }
   ],
   "source": [
    "biketrips_duration_hours.plot(kind='barh', figsize=[14,6], legend=None)\n",
    "\n",
    "plt.title('Number of Bike trips Per Hour')\n",
    "plt.xlabel('Number of Bike Trips')\n",
    "plt.ylabel('Hour')"
   ]
  },
  {
   "cell_type": "markdown",
   "id": "4d62784e",
   "metadata": {},
   "source": [
    "#### Recommendation:"
   ]
  },
  {
   "cell_type": "markdown",
   "id": "ddcb5272",
   "metadata": {},
   "source": [
    "As you can see, the largest count of bike trips are within 0 to 1 hour which means that most customers are riding the bikes for a very short amount of time whether it'd be only to ride for commute and back or just to move from a close distance of location A to location B. In order to increase the duration of bike trips, I would like to recommend a point system that would allow customers to receive a number of points for every additional hour that is ridden within a single bike trip. For every additional hour, the customer would receive a number of point(s) that matches the amount of hour(s). For example, 1 additional hour would lead to 1 point, 2 additional hours would lead to 2 points, 3 additional hours would lead to 3 points, and so on. Each point would equal 5 dollars that could be spent on the next bike trip but also making sure that there is a cap of only receiving 20 points per month so that customers aren't always riding the bikes for free. This would increase the duration of bike trips due to incentivizing the bike trips through a fair and equal point system."
   ]
  },
  {
   "cell_type": "markdown",
   "id": "9fea5f73",
   "metadata": {},
   "source": [
    "#### Visualization for count of starting stations with the lowest number of trips"
   ]
  },
  {
   "cell_type": "code",
   "execution_count": 78,
   "id": "04e94b67",
   "metadata": {},
   "outputs": [
    {
     "data": {
      "text/plain": [
       "Text(0.5, 1.0, 'Count of Starting Stations with Lowest Number of Trips')"
      ]
     },
     "execution_count": 78,
     "metadata": {},
     "output_type": "execute_result"
    },
    {
     "data": {
      "image/png": "[encoded data removed]",
      "text/plain": [
       "<Figure size 864x360 with 1 Axes>"
      ]
     },
     "metadata": {
      "needs_background": "light"
     },
     "output_type": "display_data"
    }
   ],
   "source": [
    "startingstations_with_lowest_trips.number_of_trips.hist(figsize=(12,5), color='#86bf91', align='mid', range=[100, 105])\n",
    "plt.ylabel('Count of Starting Stations')\n",
    "plt.xlabel('Number of Trips')\n",
    "plt.title('Count of Starting Stations with Lowest Number of Trips')"
   ]
  },
  {
   "cell_type": "markdown",
   "id": "ea5a84ba",
   "metadata": {},
   "source": [
    "#### Recommendation:"
   ]
  },
  {
   "cell_type": "markdown",
   "id": "029b28d1",
   "metadata": {},
   "source": [
    "As you can see, there are 2 starting stations (Clay at Battery / Market at 10th) that have a total of only 101 bike trips, 5 starting stations (South Park / Evelyn Park and Ride / Embarcadero at Vallejo / Broadway St at Battery St / Embarcadero at Bryant) with a total of only 102 bike trips, and 3 starting stations (Grant Avenue at Columbus Avenue / St James Park / Spear at Folsom) that have a total of only 103 bike trips. The number of trips were considered very low at these 10 stations compared to other starting stations that had over thousands of trips with leads to the recommendation of initially providing a special discount of 20% at these 10 starting station locations. This would at least increase the amount of bike trips within these locations and based on how the results turn out, the discount could reduce to 10% after a 3-month cycle and back down to the regular price after another 3-month cycle once regular customers are captured to be using bikes at these starting stations on a regular basis."
   ]
  },
  {
   "cell_type": "markdown",
   "id": "e3209e01",
   "metadata": {},
   "source": [
    "#### Visualization for count of bike trips per day of the week"
   ]
  },
  {
   "cell_type": "code",
   "execution_count": 79,
   "id": "13358bd8",
   "metadata": {},
   "outputs": [
    {
     "data": {
      "image/png": "[encoded data removed]",
      "text/plain": [
       "<Figure size 1152x432 with 1 Axes>"
      ]
     },
     "metadata": {
      "needs_background": "light"
     },
     "output_type": "display_data"
    }
   ],
   "source": [
    "plt.figure(figsize=(16, 6))\n",
    "ax = sns.barplot(x='dow_str', y='f0_', data=dayofweek_biketrips)\n",
    "\n",
    "ax.set(xlabel='Day of Week', ylabel='Number of Bike Trips', title='Number of Bike Trips Per Day of Week')\n",
    "plt.show()"
   ]
  },
  {
   "cell_type": "markdown",
   "id": "a2d12ff6",
   "metadata": {},
   "source": [
    "#### Recommendation:"
   ]
  },
  {
   "cell_type": "markdown",
   "id": "5eb26e35",
   "metadata": {},
   "source": [
    "As you can see, the number of bike trips are lowest on the weekends for Sunday with a count of 46,336 and Saturday with a count of 54,333. Since the weekdays seem to have a steady number of bike trips, I would recommend offering a weekend promotion similar to how NYC MTA LIRR promotes City Tickets at a discounted price of more than half the regular price on weekends. It would be reasonable to set the weekend promotion at a 60% discount in order to initially see how the number of bike trips fluctuates on weekends for the next 6 months and then decrease the weekend pass discount to 50% once the number of bike trips increases on both Saturday and Sunday."
   ]
  },
  {
   "cell_type": "markdown",
   "id": "d5cbdc0a",
   "metadata": {},
   "source": [
    "#### Visualization for the number of bikes available per landmark"
   ]
  },
  {
   "cell_type": "code",
   "execution_count": 80,
   "id": "a4dd8077",
   "metadata": {},
   "outputs": [
    {
     "data": {
      "image/png": "[encoded data removed]",
      "text/plain": [
       "<Figure size 1152x432 with 1 Axes>"
      ]
     },
     "metadata": {
      "needs_background": "light"
     },
     "output_type": "display_data"
    }
   ],
   "source": [
    "plt.figure(figsize=(16, 6))\n",
    "ax = sns.barplot(x='landmark', y='bikes_available', data=landmark_bikesavailable)\n",
    "\n",
    "ax.set(xlabel='Landmark', ylabel='Number of Bikes Available', title='Number of Bikes Available Per Landmark')\n",
    "plt.show()"
   ]
  },
  {
   "cell_type": "markdown",
   "id": "e055b961",
   "metadata": {},
   "source": [
    "#### Recommendation"
   ]
  },
  {
   "cell_type": "markdown",
   "id": "6df28a79",
   "metadata": {},
   "source": [
    "As you can see, San Francisco has the highest number of bikes available on average compared to other landmarks such as Mountain View and Palo Alto. Since the city offers many opportunities for people to commute through other means of travel besides car, I would like to recommend promoting an exclusive membership for customers in San Francisco that would allow customers to obtain the first 3 months free if an annual membership is selected. Since San Francisco has been ranked the 2nd best bike friendly city in the country, it would be reasonable to take advantage of the landscape by also partnering with cycling apps that provide fitness metrics for those in the city who are increased in staying healthy through means of cycling. With the hopes of allowing customers to choose biking over other means of travel, this would allow customers to eventually get used to riding bicycles as their primary means of travel but also utilize the service to meet their health goals."
   ]
  },
  {
   "cell_type": "markdown",
   "id": "9ee26e9a",
   "metadata": {},
   "source": [
    "#### Visualization for count of trips per station"
   ]
  },
  {
   "cell_type": "code",
   "execution_count": 82,
   "id": "c233a8cf",
   "metadata": {},
   "outputs": [
    {
     "data": {
      "image/png": "[encoded data removed]",
      "text/plain": [
       "<Figure size 1440x432 with 1 Axes>"
      ]
     },
     "metadata": {
      "needs_background": "light"
     },
     "output_type": "display_data"
    }
   ],
   "source": [
    "stationid_tripcount\n",
    "\n",
    "plt.figure(figsize=(20, 6))\n",
    "ax = sns.barplot(x='station_id', y='f0_', data=stationid_tripcount, order=stationid_tripcount.sort_values('f0_',ascending = False).station_id)\n",
    "\n",
    "ax.set(xlabel='Station ID', ylabel='Count of Trips', title='Count of Trips Per Station ID')\n",
    "ax.axhline(20000, ls='--', c='red')\n",
    "plt.show()"
   ]
  },
  {
   "cell_type": "markdown",
   "id": "56912036",
   "metadata": {},
   "source": [
    "#### Recommendation:"
   ]
  },
  {
   "cell_type": "markdown",
   "id": "dbb2444f",
   "metadata": {},
   "source": [
    "As you can see, there are a certain number of stations that have very low trip counts (e.g. 59, 46, 58, 28, and 6) compared to stations with the highest trip counts (e.g. 70, 69, 50, 60, and 61). To address the issue of low trip counts starting with Station IDs that have less than 20000 counts, I would like to recommend the same incentive as the first recommendation with implementing a point system but instead with a caveat which would be providing customers with double the points per ride for each additional hour. For example, if 1 point and 2 points are given for 1 and 2 additional hours respectively, 2 points and 4 points would be given for each 1 and 2 additional hours respectively for any station that has lower than 20,000 bike trips. This would allow users to be not only be motivated with using bikes from one ride into the next with their accumulated points but also increase the duration per bike trip as well so that customers can gradually feel more accustomed to using bikes at those stations. In addition, it would be reasonable to set up marketing campaigns within a few miles radius at each of these stations to promote the new incentives, especially for citizens who happen to need an efficient means of traveling or those who happen to live nearby at those specific stations (e.g. Stations 59,46,58,28,6...89,91,88)."
   ]
  },
  {
   "cell_type": "markdown",
   "id": "e04fff5f",
   "metadata": {},
   "source": [
    "#### Visualization for Top 5 Commuter Trips"
   ]
  },
  {
   "cell_type": "code",
   "execution_count": 33,
   "id": "129b3852",
   "metadata": {},
   "outputs": [
    {
     "data": {
      "image/png": "[encoded data removed]",
      "text/plain": [
       "<Figure size 1800x432 with 1 Axes>"
      ]
     },
     "metadata": {
      "needs_background": "light"
     },
     "output_type": "display_data"
    }
   ],
   "source": [
    "plt.figure(figsize=(25, 6))\n",
    "ax = sns.barplot(x='start_to_end_station', y='f0_', data=commuter_trips)\n",
    "\n",
    "plt.xticks(\n",
    "    rotation=30, \n",
    "    horizontalalignment='right',\n",
    "    fontweight='light',\n",
    "    fontsize='large'  \n",
    ")\n",
    "\n",
    "ax.set(xlabel='Start to End Station', ylabel='Number of Bike Trips', title='Top 5 Commuter Trips')\n",
    "plt.show()"
   ]
  },
  {
   "cell_type": "markdown",
   "id": "98229d48",
   "metadata": {},
   "source": [
    "In order to also answer the Part 3 Question of \"What are the 5 most popular trips that you would call commuter trips?\", I have collected a list of the total count of bike trips for the starting stations and ending startions in my bike_trip_data.trips_2 view that had a starting hour in between 6 and 9 as well as 16 and 19. I have visualized the SQL query that was provided in the previous \"Data Import, Cleaning, and Analysis\" section to showcase that the following 5 trips were the most popular. As shown in the results, the 5 most popular trips would be in the following order:\n",
    "\n",
    "<h5>1.) Harry Bridges Plaza (Ferry Building) to 2nd at Townsend with a count of 5700 trips</h5>\n",
    "<h5>2.) 2nd at Townsend to Harry Bridges Plaza (Ferry Building) with a count of 5449 trips</h5> \n",
    "<h5>3.) Embarcadero at Sansome to Steuart at Market with a count of 5194 trips</h5>\n",
    "<h5>4.) San Francisco Caltrain (Townsend at 4th) to Harry Bridges Plaza (Ferry Building) with a count of 5166 trips</h5> \n",
    "<h5>5.) Embarcadero at Folsom to San Francisco Caltrain (Townsend at 4th) with a count of 4961 trips</h5>"
   ]
  },
  {
   "cell_type": "markdown",
   "id": "96cdde9a",
   "metadata": {},
   "source": [
    "## Conclusion\n",
    "\n",
    "As a result, I believe that the data analysis supports the recommendations provided and would hopefully increase overall rideship for Lyft Bay Wheels. Based on which recommendations are selected, I will make sure to continuously provide reports to analyze the metrics on whether bike trips happen to increase for the given scenario(s). Please feel free to directly contact me at azj5160@gmail.com if you have any questions with the recommendations."
   ]
  }
 ],
 "metadata": {
  "environment": {
   "name": "common-cpu.m65",
   "type": "gcloud",
   "uri": "gcr.io/deeplearning-platform-release/base-cpu:m65"
  },
  "kernelspec": {
   "display_name": "Python 3",
   "language": "python",
   "name": "python3"
  },
  "language_info": {
   "codemirror_mode": {
    "name": "ipython",
    "version": 3
   },
   "file_extension": ".py",
   "mimetype": "text/x-python",
   "name": "python",
   "nbconvert_exporter": "python",
   "pygments_lexer": "ipython3",
   "version": "3.7.10"
  }
 },
 "nbformat": 4,
 "nbformat_minor": 5
}

