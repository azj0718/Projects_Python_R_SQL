{
 "cells": [
  {
   "cell_type": "markdown",
   "metadata": {},
   "source": [
    "## MIDTERM - W200 Introduction to Data Science Programming, UC Berkeley MIDS"
   ]
  },
  {
   "cell_type": "markdown",
   "metadata": {},
   "source": [
    "## Instructions\n",
    "The midterm exam is designed to evaluate your grasp of Python theory as well as Python coding.\n",
    "\n",
    "- This is an individual open book exam.\n",
    "- You have 48 hours to complete the exam and upload it back to ISVC, starting from the point when you first accessed it on ISVC.\n",
    "- You may use any libraries from the Python Standard Library for this exam: https://docs.python.org/3/library/\n",
    "\n",
    "For the coding questions, follow best practices.  Partial credit may be given for submissions that are clearly commented and well organized."
   ]
  },
  {
   "cell_type": "markdown",
   "metadata": {},
   "source": [
    "# 1. Short Questions (15 pts)\n",
    "\n",
    "1.1. Python's dynamic typing allows one variable to refer to multiple types of objects within the same program execution.  This can speed program development.  Name one disadvantage of dynamic typing."
   ]
  },
  {
   "cell_type": "markdown",
   "metadata": {
    "collapsed": true
   },
   "source": [
    "**Your answer here**\n",
    "Even though dynamically typed languages have a marginally quicker development process when it comes to variable declaration, type errors will generally be more difficult to locate which means that it is essential for the code structure to be well thought-out. This means that dynamic typing is more prone to run-time type errors and can be very difficult to achieve the same level of correctness compared to static typing which can catch runtime failures at compile time. Overall, dynamic typing has no compiler-verified documentation and requires more testing due to dependence upon sophisticated optimizations."
   ]
  },
  {
   "cell_type": "markdown",
   "metadata": {},
   "source": [
    "1.2. Compiled languages typically offer faster performance than interpreted languages. List two reasons why would you choose an interpreted language like Python for the purpose of analyzing a data set instead of a compiled language."
   ]
  },
  {
   "cell_type": "markdown",
   "metadata": {
    "collapsed": true
   },
   "source": [
    "**Your answer here**\n",
    "Two reasons for selecting an interpreted language like Python for the purpose of analyzing a data set instead of a compiled language would be to achieve platform independence and to speed up development and testing. \n",
    "\n",
    "Compiled languages must be compiled to the specific architecture that the program will execute on whereas interpreted languages allow all programs to be written in a common format that all interpreters of that language will understand assuming that the interpreter is present for the language on the target machine. This means that interpreted languages don't need a compiled seperate executable for each kind of machine that the program will run on.\n",
    "\n",
    "In terms of speeding up the development and testing process, it is much easier to write and test a few lines of bash or python scripts compared to writing those scripts in a compiled language like C and having to compile it everytime. Even though compiled languages have the advantage of faster execution time, there is only so much speed that is needed for a lot of real-world applications and the ease of writting/testing/debugging in an interpreted language like Python may often be more preferred."
   ]
  },
  {
   "cell_type": "markdown",
   "metadata": {},
   "source": [
    "1.3. We have gone over FOR and WHILE loops.  Discuss one reason to use a for loop over a while loop and one reason to use a while loop over a for loop. Please elaborate beyond a single word."
   ]
  },
  {
   "cell_type": "markdown",
   "metadata": {
    "collapsed": true
   },
   "source": [
    "**Your answer here**\n",
    "For loops are used to iterate over elements of a sequence and is often used when a piece of code needs to be repeated over a known \"n\" whereas while loops are used to repeat a block of code and executes the code block multiple times until a certain condition is met instead of running the code block once. For loops would be used over while loops if the number of iterations at the time of execution is known and while loops would be used over for loops if the number of iterations are unknown since the iteration will be executed until a condition is met. In other words, the for loop should be used to iterate through a collection, iterable object, or generator function whereas the while loop should be used if there isn't either a generator function nor defined data structure to iterate through. It is also important to note that nested for loops may be used for executing an inner loop for each iteration of the outer loop which goes beyond a single word and could be used for instances that require multiple words, variables, or lists, whereas the while loop would be used to execute a set of statements beyond just a single word as long as the condition is true and may use the continue keyword to skip the current iteration into the next iteration unless the condition hits the else clause. "
   ]
  },
  {
   "cell_type": "markdown",
   "metadata": {},
   "source": [
    "# 2. Programming Styles (10 pts)\n",
    "\n",
    "We have taught you a number of ways to program in Python. These have included using scripts versus functions and using Jupyter notebooks versus calling .py files from the command line. Describe a scenario in which you would use .py files from the command line over a Jupyter notebook and the opposite. Describe a scenario in which you would use a script versus a function and the opposite.  There are four cases and each answer should be about 1-2 sentences, explain why!"
   ]
  },
  {
   "cell_type": "markdown",
   "metadata": {},
   "source": [
    "2.1. I would use a Jupyter notebook:"
   ]
  },
  {
   "cell_type": "markdown",
   "metadata": {},
   "source": [
    "**Your answer here**\n",
    "When I want to easily explore and visualize data which isn't efficiently done with executing .py files from the command line. Jupyter Notebook allows reproducible interactive computing experiments with a detailed record of the programming work through data caching as well as an interactive cell-by-cell nature for quick and easy data visualization/exploration through the use of many packages such as ipywidgets, matplotlib, and seaborn."
   ]
  },
  {
   "cell_type": "markdown",
   "metadata": {},
   "source": [
    "2.2. I would use .py files over a Jupyter notebook: "
   ]
  },
  {
   "cell_type": "markdown",
   "metadata": {},
   "source": [
    "**Your answer here**\n",
    "When I want to move the data analytics into production once experimentation and prototyping has been completed. Jupyter Notebook is a great tool for performing data analysis but would use .py files for organizing the code parts of the project or even grouping different code parts into Python installable packages."
   ]
  },
  {
   "cell_type": "markdown",
   "metadata": {},
   "source": [
    "2.3. I would use a script over a function:"
   ]
  },
  {
   "cell_type": "markdown",
   "metadata": {},
   "source": [
    "**Your answer here**\n",
    "For automating certain tasks in a program since the script will have a sequence of instructions that are executed each time the script is called."
   ]
  },
  {
   "cell_type": "markdown",
   "metadata": {},
   "source": [
    "2.4. I would use a function over a script:"
   ]
  },
  {
   "cell_type": "markdown",
   "metadata": {},
   "source": [
    "**Your answer here**\n",
    "When I need to call a specific function from an already imported python file. For example, if a python file test.py is created and contains the displayNumber() function, then I may first import all of the functions defined in the test.py file through \"from test import *\" and call the function by \"displayNumber()\". This would allow all functions defined in the test.py file to be imported and called when required.\n",
    "\n",
    "Also when a special function called main() is defined for executing the compiled program. This function would be the entry point because it is where the execution enters the program and should contain any reuseable code that would need to be run when the Python interpreter executes the function."
   ]
  },
  {
   "cell_type": "markdown",
   "metadata": {},
   "source": [
    "# 3. Dictionaries vs Lists (10 pts)\n",
    "\n",
    "Suppose we have the following problem.  We have a dictionary of names and ages and we would like to find the oldest person.\n",
    "\n",
    "```\n",
    "ages_dict = {'Bill':34, 'Fred':45, 'Alice':14, 'Betty':17}\n",
    "```"
   ]
  },
  {
   "cell_type": "markdown",
   "metadata": {},
   "source": [
    "### Dictionary approach\n",
    "Here is a loop that shows how to iterate through the dictionary:"
   ]
  },
  {
   "cell_type": "code",
   "execution_count": 3,
   "metadata": {},
   "outputs": [
    {
     "name": "stdout",
     "output_type": "stream",
     "text": [
      "Fred is the oldest.\n"
     ]
    }
   ],
   "source": [
    "ages_dict = {'Bill':34, 'Fred':45, 'Alice':14, 'Betty':17}\n",
    "\n",
    "max_age = 0\n",
    "max_name = ''\n",
    "for name,age in ages_dict.items():\n",
    "    if age > max_age:\n",
    "        max_age = age\n",
    "        max_name = name\n",
    "        \n",
    "print(max_name, \"is the oldest.\")    "
   ]
  },
  {
   "cell_type": "markdown",
   "metadata": {},
   "source": [
    "### List approach \n",
    "\n",
    "Your friend comes to you and thinks that this dictionary is difficult to deal with and instead offers a different plan using two lists.\n",
    "\n",
    "```\n",
    "names = ['Bill', 'Fred', 'Alice', 'Betty']\n",
    "ages = [34, 45, 14, 17]\n",
    "```"
   ]
  },
  {
   "cell_type": "markdown",
   "metadata": {},
   "source": [
    "Instead of using a loop, your friend writes this code to find the oldest person."
   ]
  },
  {
   "cell_type": "code",
   "execution_count": 4,
   "metadata": {},
   "outputs": [
    {
     "name": "stdout",
     "output_type": "stream",
     "text": [
      "Fred is the oldest.\n"
     ]
    }
   ],
   "source": [
    "names = ['Bill', 'Fred', 'Alice', 'Betty']\n",
    "ages = [34, 45, 14, 17]\n",
    "\n",
    "max_age = max(ages)\n",
    "index_max = ages.index(max_age)\n",
    "max_name = names[index_max]\n",
    "\n",
    "print(max_name, 'is the oldest.')"
   ]
  },
  {
   "cell_type": "markdown",
   "metadata": {},
   "source": [
    "### Discussion\n",
    "Discuss the advantages and disadvantages of each of the approaches.  \n",
    "\n",
    "3.1. Is one more efficient (i.e. faster in Big O notation) than the other?"
   ]
  },
  {
   "cell_type": "markdown",
   "metadata": {},
   "source": [
    "**Your answer here**\n",
    "The average time complexity of the list lookup would be O(1) which means it would take a constant time no matter how many items are in the lists whereas the dictionary key lookup is O(N) with the amount of time linear to the number of items in the list and for each individual element of the dictionary taking O(1) which adds up to the number of items in the dictionary as O(N). Even though a dictionary lookup is usually faster than two lists due to being able to use hash tables to store values in an array and using a hash function to find the index of the array cell that corresponds to each key-value pair, the list look up would be faster for this scenario due to the operation only happening once with with a constant time relative to the length of the list whereas the dictionary performs a for loop with the one loop iterating over \"n\" items in the list."
   ]
  },
  {
   "cell_type": "markdown",
   "metadata": {},
   "source": [
    "3.2. Why would you prefer the dictionary?"
   ]
  },
  {
   "cell_type": "markdown",
   "metadata": {},
   "source": [
    "**Your answer here**\n",
    "Since the dictionary is a hash table that contains elements in a <key, value> pair, it would be preferred in cases that involves retrieving the values based on their keys, especially when there is no particular order of the values(For example: X['b']=9). This kind of indexing is not possible in a list and would be useful for quick retrieval, checking whether a key exists or not, or looking for the corresponding value. The same operation in a list would involve a linear search of the complete list, which would be considered inefficient for these kind of operations."
   ]
  },
  {
   "cell_type": "markdown",
   "metadata": {},
   "source": [
    "3.3. Why would you prefer the two lists?"
   ]
  },
  {
   "cell_type": "markdown",
   "metadata": {},
   "source": [
    "**Your answer here**\n",
    "Since the two lists are considered arrays of sequential values with some order, it would be more useful than dictionaries for storing and retrieving elements by that order or by the index (For example: X[1]=6, X[3]+1, etc.). Compared to the dictionary method for looking up values with keys, you can loop through the list by sequence of indices. Dictionaries are unordered by default and should only be considered when there is a need for key-value relationship mapping; otherwise, the two lists method will allow accessing items by element if no hashing is required."
   ]
  },
  {
   "cell_type": "markdown",
   "metadata": {},
   "source": [
    "# 4. Mutability Surprises (15 pts)\n",
    "\n",
    "4.1. In the asynchronous sessions, we discussed mutability. Please describe, in your own words, why mutability is a useful feature in Python lists and dictionaries."
   ]
  },
  {
   "cell_type": "markdown",
   "metadata": {},
   "source": [
    "**Your answer here**\n",
    "Mutability is a useful feature in Python lists and dictionaries because it allows change in the content without changing the object's identity. Unless the object needs to stay the same, mutability allows the size of the object to be cheaply updated. If the list or dictionary couldn't be mutated, the object would need to be re-built everytime an update is required which would take more time depending on the size of the object."
   ]
  },
  {
   "cell_type": "markdown",
   "metadata": {},
   "source": [
    "Mutability can also lead to unexpected behavior - specifically when multiple variables point to the same object or when mutable objects are nested inside each other. \n",
    "\n",
    "4.2. Please write some code demonstrating a situation where mutability could lead to unexpected behavior. Specifically, show how updating just one object (list_a) can change the value when you print a second variable (list_b)."
   ]
  },
  {
   "cell_type": "code",
   "execution_count": 8,
   "metadata": {},
   "outputs": [
    {
     "name": "stdout",
     "output_type": "stream",
     "text": [
      "[20, 2, 3, 4]\n",
      "[20, 2, 3, 4]\n"
     ]
    }
   ],
   "source": [
    "# Your code here\n",
    "\n",
    "list_a = [1, 2, 3, 4]\n",
    "\n",
    "list_a = list_b\n",
    "\n",
    "list_a[0] = 20\n",
    "\n",
    "print(list_a)\n",
    "print(list_b)"
   ]
  },
  {
   "cell_type": "markdown",
   "metadata": {},
   "source": [
    "4.3. Show how \"copy\" or \"deepcopy\" could be used to prevent the unexpected problem you described, above."
   ]
  },
  {
   "cell_type": "code",
   "execution_count": 9,
   "metadata": {},
   "outputs": [
    {
     "name": "stdout",
     "output_type": "stream",
     "text": [
      "[20, 2, 3, 4]\n",
      "[1, 2, 3, 4]\n"
     ]
    }
   ],
   "source": [
    "# Your code here\n",
    "\n",
    "list_a = [1, 2, 3, 4]\n",
    "\n",
    "list_b = list_a.copy()\n",
    "\n",
    "list_a[0] = 20\n",
    "\n",
    "print(list_a)\n",
    "print(list_b)"
   ]
  },
  {
   "cell_type": "markdown",
   "metadata": {},
   "source": [
    "4.4. Now, show the same problem using two dictionaries. Again show how \"copy\" or \"deepcopy\" can fix the issue."
   ]
  },
  {
   "cell_type": "code",
   "execution_count": 30,
   "metadata": {},
   "outputs": [
    {
     "name": "stdout",
     "output_type": "stream",
     "text": [
      "{'a': 20, 'b': '2', 'c': '3', 'd': '4'}\n",
      "{'a': 20, 'b': '2', 'c': '3', 'd': '4'}\n"
     ]
    }
   ],
   "source": [
    "# Your code here\n",
    "\n",
    "dict_a = {'a': '1', 'b': '2', 'c': '3', 'd': '4'}\n",
    "\n",
    "dict_b = dict_a\n",
    "dict_a['a'] = 20\n",
    "\n",
    "print(dict_a)\n",
    "print(dict_b)"
   ]
  },
  {
   "cell_type": "code",
   "execution_count": 31,
   "metadata": {},
   "outputs": [
    {
     "name": "stdout",
     "output_type": "stream",
     "text": [
      "{'a': 20, 'b': '2', 'c': '3', 'd': '4'}\n",
      "{'a': '1', 'b': '2', 'c': '3', 'd': '4'}\n"
     ]
    }
   ],
   "source": [
    "dict_a = {'a': '1', 'b': '2', 'c': '3', 'd': '4'}\n",
    "\n",
    "dict_b = dict_a.copy()\n",
    "dict_a['a'] = 20\n",
    "\n",
    "print(dict_a)\n",
    "print(dict_b)"
   ]
  },
  {
   "cell_type": "markdown",
   "metadata": {},
   "source": [
    "4.5. Can this unexpected behavior problem occur with tuples? Why, or why not?"
   ]
  },
  {
   "cell_type": "markdown",
   "metadata": {},
   "source": [
    "**Your answer here**\n",
    "The unexpected behavior problem wouldn't necessarily occur with tuples because tuples are immutable objects which means that the content of that tuple cannot be modified. Just like strings, an existing tuple cannot be changed but can be concatenated with another tuple to make a new one. If an attempt to change a value in the existing tuple is made, the interpreter will throw a TypeError that the 'tuple' object does not support item assignment.\n",
    "\n",
    "However, it is important to note that when tuples hold a mutable object like lists, tuples are the immutable containers for the mutable object whose value can change. This means that values contained in the existing tuple cannot change, while the data contained in the list object can still change."
   ]
  },
  {
   "cell_type": "markdown",
   "metadata": {},
   "source": [
    "# 5. Tweet Analysis (15 pts)\n",
    "\n",
    "A tweet is a string that is between 1 and 280 characters long (inclusive). A username is a string of letters and/or digits that is between 1 and 14 characters long (inclusive). A username is mentioned in a tweet by including @username in the tweet (notice the username does not include the `@` symbol). A retweet is way to share another user's tweet, and can be identified by the string RT, followed by the original username who tweeted it.\n",
    "\n",
    "Your job is to fill in the function *count_retweets_by_username* so that it **returns** a frequency dictionary that indicates how many times each retweeted username was retweeted."
   ]
  },
  {
   "cell_type": "code",
   "execution_count": 38,
   "metadata": {},
   "outputs": [],
   "source": [
    "tweets = [\"This is great! RT @fakeuser: Can you believe this?\",\n",
    "         \"It's the refs! RT @dubsfan: Boo the refs and stuff wargarbal\",\n",
    "         \"That's right RT @ladodgers: The dodgers are destined to win the west!\",\n",
    "         \"RT @sportball: That sporting event was not cool\",\n",
    "         \"This is just a tweet about things @person, how could you\",\n",
    "         \"RT @ladodgers: The season is looking great!\",\n",
    "         \"RT @dubsfan: I can't believe it!\",\n",
    "         \"I can't believe it either! RT @dubsfan: I can't believe it\"]"
   ]
  },
  {
   "cell_type": "code",
   "execution_count": 51,
   "metadata": {},
   "outputs": [],
   "source": [
    "def count_retweets_by_username(tweet_list):\n",
    "    \"\"\" (list of tweets) -> dict of {username: int}\n",
    "    Returns a dictionary in which each key is a username that was \n",
    "    retweeted in tweet_list and each value is the total number of times this \n",
    "    username was retweeted.\n",
    "    \"\"\"\n",
    "    \n",
    "    # write code here and update return statement with your dictionary\n",
    "    tweets_dict = dict()\n",
    "    for lin in tweet_list:\n",
    "        lin = lin.rstrip()\n",
    "        wds = lin.split()\n",
    "        for w in wds:\n",
    "            if w[0] == '@':\n",
    "                w = str(w).strip('@:,')\n",
    "                tweets_dict[w] = tweets_dict.get(w,0) + 1\n",
    "\n",
    "\n",
    "    return tweets_dict"
   ]
  },
  {
   "cell_type": "code",
   "execution_count": 52,
   "metadata": {},
   "outputs": [
    {
     "name": "stdout",
     "output_type": "stream",
     "text": [
      "{'fakeuser': 1, 'dubsfan': 3, 'ladodgers': 2, 'sportball': 1, 'person': 1}\n"
     ]
    }
   ],
   "source": [
    "# allow this code to work by implementing count_retweets_by_username function above\n",
    "print(count_retweets_by_username(tweets))"
   ]
  },
  {
   "cell_type": "code",
   "execution_count": null,
   "metadata": {},
   "outputs": [],
   "source": []
  },
  {
   "cell_type": "markdown",
   "metadata": {},
   "source": [
    "# 6. Looking for Minerals (20 pts)\n",
    "\n",
    "A mining company conducts a survey of an n-by-n square grid of land.  Each row of land is numbered from 0 to n-1 where 0 is the top and n-1 is the bottom, and each column is also numbered from 0 to n-1 where 0 is the left and n-1 is the right.  The company wishes to record which squares of this grid contain mineral deposits.\n",
    "\n",
    "The company decides to use a list of tuples to store the location of each deposit.  The first item in each tuple is the row of the deposit.  The second item is the column.  The third item is a non-negative number representing the size of the deposit, in tons.  For example, the following code defines a sample representation of a set of deposits in an 8-by-8 grid."
   ]
  },
  {
   "cell_type": "code",
   "execution_count": 70,
   "metadata": {},
   "outputs": [],
   "source": [
    "deposits = [(0, 4, .3), (6, 2, 3), (3, 7, 2.2), (5, 5, .5), (3, 5, .8), (7, 7, .3)]"
   ]
  },
  {
   "cell_type": "markdown",
   "metadata": {},
   "source": [
    "6.1. Given a list of deposits like the one above, write a function to create a string representation for a rectangular sub-region of the land.  Your function should take a list of deposits, then a set of parameters denoting the top, bottom, left, and right edges of the sub-grid.  It should **return** (do not print in the function) a multi-line string in which grid squares without deposits are represented by \"-\" and grid squares with a deposit are represented by \"X\"."
   ]
  },
  {
   "cell_type": "code",
   "execution_count": 157,
   "metadata": {},
   "outputs": [
    {
     "name": "stdout",
     "output_type": "stream",
     "text": [
      "----X---\n",
      "--------\n",
      "--------\n",
      "-----X-X\n",
      "--------\n",
      "-----X--\n",
      "--X-----\n",
      "-------X\n"
     ]
    }
   ],
   "source": [
    "def display(deposits, top, bottom, left, right):\n",
    "    \"\"\"display a subgrid of the land, with rows starting at top and up to \n",
    "    but not including bottom, and columns starting at left and up to but\n",
    "    not including right.\"\"\"\n",
    "    rows = []\n",
    "    for row in range(top, bottom):\n",
    "        res = ''\n",
    "        for col in range(left, right):\n",
    "            flag = 0\n",
    "            for (index, tuples) in enumerate(deposits):\n",
    "                if (tuples[0] == row and tuples[1] == col):\n",
    "                    flag = 1\n",
    "                    res += \"X\"\n",
    "                    break\n",
    "            if(flag == 0):\n",
    "                res += \"-\"\n",
    "        rows.append(res)\n",
    "    return '\\n'.join(rows)\n",
    "\n",
    "#In hopes of gaining some extra points, I have added some additional code to showcase my understanding of the main function to act as the point of execution for the program but may comment out the below lines if necessary for grading\n",
    "def main():\n",
    "    deposits = [(0, 4, .3), (6, 2, 3), (3, 7, 2.2), (5, 5, .5), (3, 5, .8), (7, 7, .3)]\n",
    "    display(deposits, 0, 8, 0, 8)\n",
    "    \n",
    "\n",
    "if __name__ == \"__main__\":\n",
    "    main()\n",
    "    \n",
    "print(display(deposits, 0, 8, 0, 8))"
   ]
  },
  {
   "cell_type": "code",
   "execution_count": 160,
   "metadata": {},
   "outputs": [
    {
     "name": "stdout",
     "output_type": "stream",
     "text": [
      "----X---\n",
      "--------\n",
      "--------\n",
      "-----X-X\n",
      "--------\n",
      "-----X--\n",
      "--X-----\n",
      "-------X\n"
     ]
    }
   ],
   "source": [
    "print(display(deposits, 0, 8, 0, 8))"
   ]
  },
  {
   "cell_type": "markdown",
   "metadata": {},
   "source": [
    "For example, your function should replicate the following behavior for the example grid:\n",
    "```\n",
    "print(display(deposits, 0, 8, 0, 8))\n",
    "----X---\n",
    "--------\n",
    "--------\n",
    "-----X-X\n",
    "--------\n",
    "-----X--\n",
    "--X-----\n",
    "-------X\n",
    "\n",
    "print(display(deposits, 5, 8, 5, 8))\n",
    "X--\n",
    "---\n",
    "--X\n",
    "\n",
    "```\n"
   ]
  },
  {
   "cell_type": "markdown",
   "metadata": {},
   "source": [
    "6.2. Next, complete the following function to compute the total number of tons in a rectangular sub-region of the grid."
   ]
  },
  {
   "cell_type": "code",
   "execution_count": 100,
   "metadata": {},
   "outputs": [
    {
     "name": "stdout",
     "output_type": "stream",
     "text": [
      "Total number of tons: 7.1\n"
     ]
    }
   ],
   "source": [
    "def tons_inside(deposits, top, bottom, left, right):\n",
    "    \"\"\"Returns the total number of tons of deposits for which the row is at least top,\n",
    "    but strictly less than bottom, and the column is at least left, but strictly\n",
    "    less than right.\"\"\"\n",
    "    # Do not alter the function header.  \n",
    "    # Just fill in the code so it returns the correct number of tons.\n",
    "\n",
    "    for row in range(top, bottom):\n",
    "        for col in range(left, right):\n",
    "            flag = 0\n",
    "            for (index, tuples) in enumerate(deposits):\n",
    "                if (tuples[0] == row and tuples[1] == col):\n",
    "                    flag = 1\n",
    "                    res = [abs(sum(i)) for i in zip(*deposits)]\n",
    "                    break\n",
    "        return res[2]\n",
    "\n",
    "#Print statement just for testing purposes to show that the total of tons is successfully calculated\n",
    "print(\"Total number of tons:\",tons_inside(deposits, 0, 8, 0, 8))"
   ]
  },
  {
   "cell_type": "markdown",
   "metadata": {
    "collapsed": true
   },
   "source": [
    "## 7. Birthday planning (15 pts)\n",
    "\n",
    "Suppose you record a list of birthdays for your classmates, recorded as month day tuples.  An example is given below."
   ]
  },
  {
   "cell_type": "code",
   "execution_count": 92,
   "metadata": {},
   "outputs": [],
   "source": [
    "# The 2nd to last tuple needs the int(2) in it so that it is uniquely stored in memory compared to (2,8)\n",
    "# Under the hood Python 3.7 changed how these are stored so (2,8) and (2,8) are stored in the same location\n",
    "# and then the algorithm below doesn't work\n",
    "\n",
    "dates = [(3,14),(2,8),(10,25),(5,17),(3,2),(7,25),(4,30),(8,7),(int(2),8),(1,22)]"
   ]
  },
  {
   "cell_type": "markdown",
   "metadata": {},
   "source": [
    "You read about the famous birthday problem and you become interested in the number of pairs of classmates that share the same birthday.  Below is an algorithm you write to do this. (Note: the ```is``` operator tests that two operands point to the same object)"
   ]
  },
  {
   "cell_type": "code",
   "execution_count": 94,
   "metadata": {},
   "outputs": [
    {
     "name": "stdout",
     "output_type": "stream",
     "text": [
      "Total birthday pairs: 1\n"
     ]
    }
   ],
   "source": [
    "count = 0\n",
    "\n",
    "for person_a in dates:\n",
    "    for person_b in dates:\n",
    "        # Make sure we have different people        \n",
    "        \n",
    "        if person_a is person_b:\n",
    "            continue\n",
    "            \n",
    "        # Check both month and day\n",
    "        if person_a[0] == person_b[0] and person_a[1] == person_b[1]:\n",
    "            count += 1\n",
    "            \n",
    "# We counted each pair twice (e.g. jane-bob and bob-jane) so divide by 2:\n",
    "print(\"Total birthday pairs:\", count//2)"
   ]
  },
  {
   "cell_type": "markdown",
   "metadata": {},
   "source": [
    "7.1. What is the (tightest) Big-O running time bound for the above algorithm?  You may assume that simple operations like equality check, addition, and print take constant time."
   ]
  },
  {
   "cell_type": "markdown",
   "metadata": {
    "collapsed": true
   },
   "source": [
    "**Your answer here**\n",
    "Since the above algorithm involves a nested \"for loop\" iteration, the Big-O running time bound would O(n^2) because we have an outer loop (for person_a in dates) that iterates through all of items in the dates list and then a nested inner loop (for person_b in dates), which again iterates through all of the items in the dates list. In other words, each pair will count twice due to the inner loop (for person_b in dates) being executed i times, for each value of i in the outer loop (for person_a in dates). The algorithm consists of a quadratic time complexity because the growth would increase twice with each addition to the dates list of tuples."
   ]
  },
  {
   "cell_type": "markdown",
   "metadata": {},
   "source": [
    "7.2. You notice that your algorithm is inefficient in that it counts each pair twice.  For example, it will increment count once when person_a is Jane and person_b is Bob, and again when person_a is Bob and person_b is Jane.  Below, revise the algorithm so that it only looks at each pair once."
   ]
  },
  {
   "cell_type": "code",
   "execution_count": 107,
   "metadata": {},
   "outputs": [
    {
     "name": "stdout",
     "output_type": "stream",
     "text": [
      "Total birthday pairs: 1\n"
     ]
    }
   ],
   "source": [
    "# Your code here\n",
    "count = 0\n",
    "\n",
    "list_comp = [[person_a for person_a in dates] for person_b in dates if person_a is person_b]\n",
    "\n",
    "for items in list_comp:\n",
    "            \n",
    "        # Check both month and day\n",
    "        if person_a[0] == person_b[0] and person_a[1] == person_b[1]:\n",
    "            count += 1\n",
    "            \n",
    "print(\"Total birthday pairs:\", count)"
   ]
  },
  {
   "cell_type": "markdown",
   "metadata": {},
   "source": [
    "7.3. What is the (tightest) Big-O running time bound for your new algorithm?  What does this tell you about whether your revision was worth making?"
   ]
  },
  {
   "cell_type": "markdown",
   "metadata": {},
   "source": [
    "**Your answer here**\n",
    "Since the new algorithm has been revised to incorporate list comprehensions over the nested \"for loop\" iteration, the Big-O running time bound would now be O(N) because there is only one for loop to iterate over \"n\" items in the list comprehension. This new algorithm consists of a linear time complexity since the time to execute the algorithm is directly proportionl to the items in the dates list. Therefore, the time it will take to run the algorithm will increase proportionately as the size of the dates list increases. The revision was worth making because O(N) is a single for loop iterating over a 1D array whereas the previous algorithm as O(N^2) would iterate over the array for each element in the array, then with respect to this element, go through the entire array again and repeat for the next element by going through the entire array with respect to the second element which is essentially iterative over the array N*N times where N is the length of the array."
   ]
  },
  {
   "cell_type": "markdown",
   "metadata": {},
   "source": [
    "7.4. Finally, create a third revision of your algorithm which has a faster Big-O running time bound that both the previous algorithms."
   ]
  },
  {
   "cell_type": "code",
   "execution_count": 119,
   "metadata": {},
   "outputs": [
    {
     "name": "stdout",
     "output_type": "stream",
     "text": [
      "Total birthday pairs: 1\n"
     ]
    }
   ],
   "source": [
    "# Your code here\n",
    "count = 0\n",
    "person_a = dates[:]\n",
    "person_b = dates[:]\n",
    "\n",
    "if person_a[0]  == person_b[0] in dates and person_a[1] == person_b[1] in dates:\n",
    "    count += 1\n",
    "\n",
    "print(\"Total birthday pairs:\", count)"
   ]
  },
  {
   "cell_type": "markdown",
   "metadata": {},
   "source": [
    "7.5. What is the (tightest) Big-O running time bound for your last algorithm?  Explain what trade-off you made to have a faster running time."
   ]
  },
  {
   "cell_type": "markdown",
   "metadata": {
    "collapsed": true
   },
   "source": [
    "**Your answer here**\n",
    "Since the new algorithm has been revised to check once if person_a has the same birthday as person_b through an if statement and not a for loop, the Big-O running time would be O(1) because the the list lookups are constant time relative to the size of the dates list. In other words, the running time of the algorithm will be the same no matter the size of the dates list. The reason is that python stores a list in memory based on two quantities which are the starting position in memory and the fixed offset between items. Since the revised algorithm is looking for an element at nth node which is index of 0 and 1 to match amongst person_a and person_b, the nth element of the dates list provides direct access to the nth node of the list by which the value of that node could be obtained within O(1) complexity. The tradeoff would be that O(1) doesn't consider the size of dates list  and will always have the same running time since the algorithm is independent to the input data size whereas for the O(N) linear and O(N^2) quadratic algorithms, all items in the dates list will be considered as well as being able to compare with all other values in that list to provide better results that considers all combinations."
   ]
  }
 ],
 "metadata": {
  "kernelspec": {
   "display_name": "Python 3",
   "language": "python",
   "name": "python3"
  },
  "language_info": {
   "codemirror_mode": {
    "name": "ipython",
    "version": 3
   },
   "file_extension": ".py",
   "mimetype": "text/x-python",
   "name": "python",
   "nbconvert_exporter": "python",
   "pygments_lexer": "ipython3",
   "version": "3.8.5"
  },
  "widgets": {
   "state": {},
   "version": "1.1.2"
  }
 },
 "nbformat": 4,
 "nbformat_minor": 1
}
