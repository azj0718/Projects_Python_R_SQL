{
 "cells": [
  {
   "cell_type": "markdown",
   "metadata": {},
   "source": [
    "## Week 3 Assignment - W200 Introduction to Data Science Programming, UC Berkeley MIDS"
   ]
  },
  {
   "cell_type": "markdown",
   "metadata": {},
   "source": [
    "Write code in this jupyter Notebook to solve the following problems. Please upload this **Notebook** with your solutions to your GitHub repository in your SUBMISSIONS/week_03 folder by 11:59PM PST the night before class."
   ]
  },
  {
   "cell_type": "markdown",
   "metadata": {},
   "source": [
    "## Objectives:\n",
    "\n",
    "- More practice with while loops, if statements and gathering user inputs\n",
    "- Demonstrate use of Python data structures such as lists, tuples, and dictionaries\n",
    "- Understand how to add items to these data structures and print the contents of each to the user"
   ]
  },
  {
   "cell_type": "markdown",
   "metadata": {},
   "source": [
    "## General Guidelines:\n",
    "\n",
    "- In each code block, do NOT delete the ### comment at the top of a cell (it's needed for the auto-grading!)\n",
    "- Limited user input validation and error checking is encouraged on this assignment. Each question below will indicate the type of input that you can expect. (for example, if the question states the input will be an integer, you can expect the user to input an integer and do not need to check to ensure it is an integer versus a float or a string)\n",
    "- Adding comments in your code is strongly suggested but won't be graded.\n",
    "- The examples given are samples of how we will test/grade your code. Please ensure your code outputs the same information.\n",
    "- If you are stuck on a problem or do not understand a question - please come to office hours or ask questions to the class Google group (please don't post your code though). If it is a coding problem send a private email to all of the instructors at: mids-python-instructors@googlegroups.com\n",
    "- You may use any libraries from the Python Standard Library for this assignment: https://docs.python.org/3/library/\n",
    "- We also have a tutor if you would like a 1 on 1 session!"
   ]
  },
  {
   "cell_type": "markdown",
   "metadata": {},
   "source": [
    "## Grading Rubric\n",
    "\n",
    "General grading rubric guidelines / philosophy:\n",
    "\n",
    "- The total possible points will be shown for each question\n",
    "- Please read each question carefully to understand the requirements\n",
    "- Points for each question are rewarded based on how well your code fulfills those requirements\n",
    "- All of the problems have an example given to help show what is needed and how to format the answer\n",
    "- For the rest of the questions, its up to you to determine the requirements and code them!\n",
    "\n",
    "More on grading:\n",
    "- If the question is blank / not attempted, no points will be given\n",
    "- Most points are given for code that runs (does not crash) and fulfills the requirements\n",
    "- Minor points are given for formatting the answer in accordance with the question"
   ]
  },
  {
   "cell_type": "markdown",
   "metadata": {
    "collapsed": true
   },
   "source": [
    "### 3-1. Pig Latin Translator (20 points)\n",
    "\n",
    "Write code that translates a name into (simplified) Pig Latin. (Please do not make this a 'real' Pig Latin translator.)  Have your script ask the user for his or her name, which can comprise first, middle, and/or last parts. For each name part, move the first letter to the end of the part and append the letters \"ay\". Make sure that only the first letter of each word in your output is capitalized. You can use the ```split()``` method on the string to create a list of the name parts. Be sure that your script can handle one, two or three name parts separated by spaces. This will likely involve a loop.\n",
    "\n",
    "Your script should re-create the following example exactly:\n",
    "\n",
    "```\n",
    "Enter your name: Paul Laskowski\n",
    "\n",
    "Aulpay Askowskilay\n",
    "```"
   ]
  },
  {
   "cell_type": "code",
   "execution_count": 1,
   "metadata": {},
   "outputs": [
    {
     "name": "stdout",
     "output_type": "stream",
     "text": [
      "\n",
      "Enter your name: Paul Laskowski\n",
      "\n",
      "Aulpay Askowskilay \n",
      "\n"
     ]
    }
   ],
   "source": [
    "### Q3-1 Grading Tag: Please put your entire solution in this cell. Don't edit this line.\n",
    "name = input(\"\\nEnter your name: \")\n",
    "\n",
    "words = name.split()\n",
    "\n",
    "pigged_list = []\n",
    "for word in words:\n",
    "    word = word[1:].capitalize() + word[0].lower() + 'ay'\n",
    "    pigged_list.append(word)\n",
    "\n",
    "pigged_string = ' '.join(pigged_list)\n",
    "    \n",
    "print(\"\\n\" + pigged_string, \"\\n\")"
   ]
  },
  {
   "cell_type": "markdown",
   "metadata": {
    "collapsed": true
   },
   "source": [
    "### 3-2. Matrix Inverter (20 points)\n",
    "\n",
    "One place where the usage of tuples is convenient is in the representation of matrices.  The values in a 2x2 matrix are labeled as follows:\n",
    "$$\n",
    "\\begin{bmatrix}\n",
    "    a       & b  \\\\\n",
    "    c       & d\n",
    "\\end{bmatrix}\n",
    "$$\n",
    "\n",
    "Write code that asks the user for a text string including the four **numbers**, a, b, c, and d, separated by spaces.  You can use the `split()` method on the string to create a list of the four values in order.\n",
    "\n",
    "Create a tuple that represents each row, then create a tuple that contains those two tuples.  It should have the form `((a, b), (c, d))`.  **Print this representation.**\n",
    "\n",
    "The inverse of the matrix above is given by the formula:\n",
    "\n",
    "$$\n",
    "\\frac{1}{ad-bc} \\begin{bmatrix}\n",
    "    d       & -b  \\\\\n",
    "    -c       & a\n",
    "\\end{bmatrix}\n",
    "$$\n",
    "\n",
    "Recall that multiplying a matrix by a number effectively multiplies each element of the matrix by that number.\n",
    "\n",
    "Compute the inverse of the given matrix, again represented as nested tuples, use fstring formatting to show each number to **4** decimal places and **print this representation**. Use the example below to make sure you understand the equation correctly:\n",
    "\n",
    "\n",
    "```\n",
    "Please enter four numbers separated by spaces: 1 2 3 4\n",
    "\n",
    "matrix: ((1.0000, 2.0000), (3.0000, 4.0000))\n",
    "inverse: ((-2.0000, 1.0000), (1.5000, -0.5000))\n",
    "```"
   ]
  },
  {
   "cell_type": "code",
   "execution_count": 1,
   "metadata": {},
   "outputs": [
    {
     "name": "stdout",
     "output_type": "stream",
     "text": [
      "\n",
      "Please enter four numbers separated by spaces: 1 2 3 4\n",
      "\n",
      "matrix: ((1.0000, 2.0000), (3.0000, 4.0000))\n",
      "inverse: ((-2.0000, 1.0000), (1.5000, -0.5000))\n",
      "\n"
     ]
    }
   ],
   "source": [
    "### Q3-2 Grading Tag: Please put your entire solution in this cell. Don't edit this line.\n",
    "a, b, c, d = input(\"\\nPlease enter four numbers separated by spaces: \").split()\n",
    "\n",
    "tuple_1 = (float(a), float(b))\n",
    "tuple_2 = (float(c), float(d))\n",
    "\n",
    "print(f\"\\nmatrix: (({tuple_1[0]:.4f}, {tuple_1[1]:.4f}), ({tuple_2[0]:.4f}, {tuple_2[1]:.4f}))\")\n",
    "\n",
    "n = (1/(tuple_1[0]*tuple_2[1]-tuple_1[1]*tuple_2[0]))\n",
    "inverse_tuple1 = (float(d)*n, float(b)*n*-1)\n",
    "inverse_tuple2 = (float(c)*n*-1, float(a)*n)\n",
    "\n",
    "print(f\"inverse: (({inverse_tuple1[0]:.4f}, {inverse_tuple1[1]:.4f}), ({inverse_tuple2[0]:.4f}, {inverse_tuple2[1]:.4f}))\\n\")"
   ]
  },
  {
   "cell_type": "markdown",
   "metadata": {},
   "source": [
    "### 3-3. Create a to-do list program using a dictionary of lists (20 points)\n",
    "\n",
    "Write code that stores a to-do list for each day of the week (Sunday through Saturday). Your program needs to have the following elements:\n",
    "\n",
    "- A dictionary to store information:\n",
    "  - The key in the dictionary for each day of the week\n",
    "  - Each key has a value of a list that stores the to-do list items\n",
    "- User can type \"add\" and the program will ask what day, then ask what item to add to that day. Ensure the user can add multiple items per day. (That is, ensure that this adds a new item, not replaces an existing item.)\n",
    "- User can type \"get\" and the program will ask for the day and print the values\n",
    "- The program will loop, using a while loop, until the user specifies \"quit\"\n",
    "- Some user error checking is required, specifically: upper/lowercase for the days of the week, incorrect day of the week, or an incorrect command\n",
    "- ** Hint: This task requires you to use tools you learned about in Unit 2 (\"if\" and \"loops\") along with dictionaries and lists.**\n",
    "\n",
    "Example:\n",
    "```\n",
    "Prompt: What would you like to do?\n",
    "> add\n",
    "\n",
    "Prompt: What day?\n",
    "> Friday\n",
    "\n",
    "Prompt: What would you like to add to Friday's to-do list?\n",
    "> practice clarinet\n",
    "\n",
    "Prompt: What would you like to do?\n",
    "> get\n",
    "\n",
    "Prompt: What day?\n",
    "> funday\n",
    "Invalid entry - please enter a correct day of the week (like Monday or monday).\n",
    "\n",
    "Prompt: What day?\n",
    "> friday\n",
    "\n",
    "Response: You have to practice clarinet.\n",
    "\n",
    "Prompt: What would you like to do?\n",
    "> quit\n",
    "\n",
    "Response: Ending program. Thank you for using the to-do list!\n",
    "```"
   ]
  },
  {
   "cell_type": "code",
   "execution_count": null,
   "metadata": {
    "scrolled": false
   },
   "outputs": [
    {
     "name": "stdout",
     "output_type": "stream",
     "text": [
      "\n",
      "Prompt: What would you like to do?\n",
      "> add\n",
      "\n",
      "Prompt: What day?\n",
      "> Tuesday\n",
      "\n",
      "Prompt: What would you like to add to Tuesday's to-do list?\n",
      "> dance\n",
      "\n",
      "Prompt: What would you like to do?\n",
      "> get\n",
      "\n",
      "Prompt: What day?\n",
      "> Friday\n",
      "\n",
      "Response: You have to dance.\n",
      "\n",
      "\n",
      "Prompt: What would you like to do?\n",
      "> add\n",
      "\n",
      "Prompt: What day?\n",
      "> Tuesday\n",
      "\n",
      "Prompt: What would you like to add to Tuesday's to-do list?\n",
      "> sing\n",
      "\n",
      "Prompt: What would you like to do?\n",
      "> get\n",
      "\n",
      "Prompt: What day?\n",
      "> tuesday\n",
      "\n",
      "Response: You have to dance, sing.\n",
      "\n"
     ]
    }
   ],
   "source": [
    "### Q3-3 Grading Tag: Please put your entire solution in this cell. Don't edit this line.\n",
    "my_todo_list = {\"monday\":[],\n",
    "                \"tuesday\":[],\n",
    "                \"wednesday\":[],\n",
    "                \"thursday\":[],\n",
    "                \"friday\":[],\n",
    "                \"saturday\":[],\n",
    "                \"sunday\":[]}\n",
    "\n",
    "while True:\n",
    "    q1 = input(\"\\nPrompt: What would you like to do?\\n\"\"> \")\n",
    "    \n",
    "    if q1 == \"add\":\n",
    "        \n",
    "\n",
    "        q2 = input(\"\\nPrompt: What day?\\n\"\"> \").lower()\n",
    "        if q2 in my_todo_list:\n",
    "            q3 = input(\"\\nPrompt: What would you like to add to \" + q2.capitalize() + \"'s to-do list?\\n\"\"> \")\n",
    "            my_todo_list[q2].append(q3)\n",
    "        else:\n",
    "            print(\"\\nInvalid entry - please enter a correct day of the week (like Monday or monday).\\n\")\n",
    "    \n",
    "\n",
    "    elif q1 == \"get\":\n",
    "        q4 = input(\"\\nPrompt: What day?\\n\"\"> \").lower()\n",
    "        if q4 in my_todo_list:               \n",
    "             print(\"\\nResponse: You have to\",(str(my_todo_list[q2])[1:-1]).replace(\"'\",\"\") + \".\\n\")\n",
    "        else:\n",
    "             print(\"Invalid entry - please enter a correct day of the week (like Monday or monday).\\n\")\n",
    "             q5 = input(\"Prompt: What day?\\n\"\"> \").lower()\n",
    "             if q5 in my_todo_list:\n",
    "                  print(\"\\nResponse: You have to\",(str(my_todo_list[q2])[1:-1]).replace(\"'\",\"\") + \".\")     \n",
    "\n",
    "    elif q1 == \"quit\":\n",
    "        print(\"\\nResponse: Ending program. Thank you for using the to-do list!\\n\")\n",
    "        break"
   ]
  },
  {
   "cell_type": "code",
   "execution_count": null,
   "metadata": {},
   "outputs": [],
   "source": []
  },
  {
   "cell_type": "code",
   "execution_count": null,
   "metadata": {},
   "outputs": [],
   "source": []
  },
  {
   "cell_type": "code",
   "execution_count": null,
   "metadata": {},
   "outputs": [],
   "source": []
  },
  {
   "cell_type": "markdown",
   "metadata": {},
   "source": [
    "### 3-4. Fibonacci (20 points)\n",
    "\n",
    "The Fibonacci numbers begin with 1, 1.  After the first two numbers, each number is the sum of the previous two. 1 + 1 = 2, so 2 is the third number. Then 1 + 2 = 3, so 3 is the next one, and so on. Write a script that prompts the user for an integer number, then prints all the Fibonacci numbers that are less than or equal to the input, in order.\n",
    "\n",
    "Example:\n",
    "```\n",
    "Enter a number: 15\n",
    "\n",
    "1 1 2 3 5 8 13\n",
    "```"
   ]
  },
  {
   "cell_type": "code",
   "execution_count": null,
   "metadata": {},
   "outputs": [],
   "source": [
    "### Q3-4 Grading Tag: Please put your entire solution in this cell. Don't edit this line.\n",
    "n = int(input(\"\\nEnter a number: \"))\n",
    "\n",
    "if(n>1):\n",
    "    print(\"\\n1\",end=\" \")\n",
    "    print(1,end=\" \")\n",
    "    fold1 = 1\n",
    "    fold2 = 1\n",
    "    fnew = 2\n",
    "    while(fnew < n):\n",
    "        print(fnew,end=\" \")\n",
    "        fold1 = fold2\n",
    "        fold2 = fnew\n",
    "        fnew = fold1 + fold2\n",
    "print(\"\\n\")"
   ]
  },
  {
   "cell_type": "code",
   "execution_count": null,
   "metadata": {},
   "outputs": [],
   "source": []
  },
  {
   "cell_type": "markdown",
   "metadata": {},
   "source": [
    "### 3-5. Pascal's Triangle (20 points)\n",
    "\n",
    "Pascal's triangle is a triangle of numbers that is computed as follows. The first row contains a 1.  Each row after that begins and ends with a 1, and every other number is the sum of the two numbers above it. The first six rows of Pascal's triangle are shown below.\n",
    "```\n",
    "      1\n",
    "     1 1\n",
    "    1 2 1\n",
    "  1  3 3  1\n",
    " 1 4  6  4 1\n",
    "1 5 10 10 5 1\n",
    "```\n",
    "Write a script to compute and print the *n*th row of Pascal's triangle. Do not spend time trying to print the entire triangle in the format above (it is for illustrative purposes only).  The input will be the row number as an integer starting with row 1 as the first row.\n",
    "\n",
    "** Hint: Think about the type of objects you need to solve the problem. What are you iterating over? It may help to calculate a couple of rows by hand and think about the process you take. **\n",
    "\n",
    "Example:\n",
    "```\n",
    "Enter a row number: 5\n",
    "\n",
    "1 4 6 4 1\n",
    "```\n"
   ]
  },
  {
   "cell_type": "code",
   "execution_count": 3,
   "metadata": {},
   "outputs": [
    {
     "name": "stdout",
     "output_type": "stream",
     "text": [
      "\n",
      "Enter a row number: 5\n",
      "\n",
      "1 4 6 4 1 \n",
      "\n"
     ]
    }
   ],
   "source": [
    "### Q3-5 Grading Tag: Please put your entire solution in this cell. Don't edit this line.\n",
    "def pascal(n):\n",
    "    if n == 1:\n",
    "        return [1]\n",
    "    else:\n",
    "        line = [1]\n",
    "        previous_line = pascal(n-1)\n",
    "        for i in range(len(previous_line)-1):\n",
    "            line.append(previous_line[i] + previous_line[i+1])\n",
    "        line += [1]\n",
    "    return line\n",
    " \n",
    "j= int(input(\"\\nEnter a row number: \"))\n",
    "res = str(pascal(j))[1:-1]\n",
    "res = res.replace(',', '')\n",
    "print(\"\\n\" + res, \"\\n\")"
   ]
  },
  {
   "cell_type": "markdown",
   "metadata": {},
   "source": [
    "## If you have feedback for this homework, please submit it using the link below:\n",
    "\n",
    "http://goo.gl/forms/74yCiQTf6k"
   ]
  }
 ],
 "metadata": {
  "anaconda-cloud": {},
  "kernelspec": {
   "display_name": "Python 3",
   "language": "python",
   "name": "python3"
  },
  "language_info": {
   "codemirror_mode": {
    "name": "ipython",
    "version": 3
   },
   "file_extension": ".py",
   "mimetype": "text/x-python",
   "name": "python",
   "nbconvert_exporter": "python",
   "pygments_lexer": "ipython3",
   "version": "3.8.5"
  }
 },
 "nbformat": 4,
 "nbformat_minor": 1
}
