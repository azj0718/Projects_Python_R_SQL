{
  "cells": [
    {
      "cell_type": "code",
      "execution_count": null,
      "id": "9f546675",
      "metadata": {
        "id": "9f546675"
      },
      "outputs": [],
      "source": [
        "# Databricks notebook source\n",
        "import os\n",
        "from pyspark.sql.functions import *\n",
        "import cv2\n",
        "import numpy as np\n",
        "import matplotlib.pyplot as plt\n",
        "from pyspark.sql.types import IntegerType,FloatType\n",
        "from pyspark.sql.functions import udf, col"
      ]
    },
    {
      "cell_type": "code",
      "execution_count": null,
      "id": "80d86a68",
      "metadata": {
        "id": "80d86a68"
      },
      "outputs": [],
      "source": [
        "splitfolders.ratio(\"/dbfs/mnt/w210_capstone/hyena.coco/images\", \n",
        "                   output=\"/dbfs/mnt/w210_capstone/hyena.coco/images/output\",\n",
        "                   seed=1337, ratio=(.8, 0.1,0.1))"
      ]
    },
    {
      "cell_type": "code",
      "execution_count": null,
      "id": "7c167502",
      "metadata": {
        "lines_to_next_cell": 1,
        "id": "7c167502"
      },
      "outputs": [],
      "source": [
        "splitfolders.ratio(\"/dbfs/mnt/w210_capstone/leopard.coco/images\", \n",
        "                   output=\"/dbfs/mnt/w210_capstone/leopard.coco/images/output\",\n",
        "                   seed=1337, ratio=(.8, 0.1,0.1))"
      ]
    },
    {
      "cell_type": "code",
      "execution_count": null,
      "id": "f629c8c4",
      "metadata": {
        "lines_to_next_cell": 1,
        "id": "f629c8c4"
      },
      "outputs": [],
      "source": [
        "def hyena_leopard_rdds():\n",
        "    \"\"\"Create lists of the hyena and leopard images\"\"\"\n",
        "    \n",
        "    hyena_train_img = []\n",
        "    hyena_val_img = []\n",
        "    hyena_test_img = []\n",
        "    \n",
        "    leopard_train_img = []\n",
        "    leopard_val_img = []\n",
        "    leopard_test_img = []\n",
        "    \n",
        "    # Create the lists of all image paths in the training, validation, and test folders\n",
        "    for (dir_path, dir_names, files) in os.walk(\"/dbfs/mnt/w210_capstone/hyena.coco/images/output/train/train2022\"):\n",
        "        for x in files:\n",
        "            if x.endswith(\".jpg\"):\n",
        "                hyena_train_img.append(os.path.join(dir_path, x))\n",
        "    \n",
        "    for (dir_path, dir_names, files) in os.walk(\"/dbfs/mnt/w210_capstone/hyena.coco/images/output/val/train2022\"):\n",
        "        for x in files:\n",
        "            if x.endswith(\".jpg\"):\n",
        "                hyena_val_img.append(os.path.join(dir_path, x))\n",
        "    \n",
        "    for (dir_path, dir_names, files) in os.walk(\"/dbfs/mnt/w210_capstone/hyena.coco/images/output/test/train2022\"):\n",
        "        for x in files:\n",
        "            if x.endswith(\".jpg\"):\n",
        "                hyena_test_img.append(os.path.join(dir_path, x))\n",
        "    \n",
        "    for (dir_path, dir_names, files) in os.walk(\"/dbfs/mnt/w210_capstone/leopard.coco/images/output/train/train2022\"):\n",
        "        for x in files:\n",
        "            if x.endswith(\".jpg\"):\n",
        "                leopard_train_img.append(os.path.join(dir_path, x))\n",
        "    \n",
        "    for (dir_path, dir_names, files) in os.walk(\"/dbfs/mnt/w210_capstone/leopard.coco/images/output/val/train2022\"):\n",
        "        for x in files:\n",
        "            if x.endswith(\".jpg\"):\n",
        "                leopard_val_img.append(os.path.join(dir_path, x))\n",
        "    \n",
        "    for (dir_path, dir_names, files) in os.walk(\"/dbfs/mnt/w210_capstone/leopard.coco/images/output/test/train2022\"):\n",
        "        for x in files:\n",
        "            if x.endswith(\".jpg\"):\n",
        "                leopard_test_img.append(os.path.join(dir_path, x))\n",
        "    \n",
        "    return sc.parallelize(hyena_train_img), sc.parallelize(hyena_val_img),sc.parallelize(hyena_test_img), sc.parallelize(leopard_train_img), sc.parallelize(leopard_val_img), sc.parallelize(leopard_test_img)"
      ]
    },
    {
      "cell_type": "code",
      "execution_count": null,
      "id": "0304d9db",
      "metadata": {
        "id": "0304d9db"
      },
      "outputs": [],
      "source": [
        "hyena_train, hyena_val, hyena_test, leopard_train, leopard_val, leopard_test = hyena_leopard_rdds()"
      ]
    },
    {
      "cell_type": "code",
      "execution_count": null,
      "id": "dfcd6887",
      "metadata": {
        "lines_to_next_cell": 1,
        "id": "dfcd6887"
      },
      "outputs": [],
      "source": [
        "display(hyena_img)"
      ]
    },
    {
      "cell_type": "code",
      "execution_count": null,
      "id": "682f3e8c",
      "metadata": {
        "lines_to_next_cell": 1,
        "id": "682f3e8c"
      },
      "outputs": [],
      "source": [
        "def remove_img_leadingzero(image):\n",
        "    \"\"\"Removes leading zeros from image names for the hyena and leopard train, validation, and test sets\"\"\"\n",
        "    \n",
        "    # Get the first part of the filepath\n",
        "    parse_path = os.path.dirname(image)\n",
        "    \n",
        "    # Get the last part of the file name and remove leading zeros\n",
        "    item = os.path.basename(image).lstrip('0')\n",
        "    \n",
        "    # Define the new path\n",
        "    new_name = parse_path + '/' + item\n",
        "\n",
        "    # Renaming the file\n",
        "    return os.rename(image, new_name)"
      ]
    },
    {
      "cell_type": "code",
      "execution_count": null,
      "id": "be38275c",
      "metadata": {
        "id": "be38275c"
      },
      "outputs": [],
      "source": [
        "hyena_train_img = hyena_train.map(remove_img_leadingzero)\n",
        "hyena_val_img = hyena_val.map(remove_img_leadingzero)\n",
        "hyena_test_img = hyena_test.map(remove_img_leadingzero)"
      ]
    },
    {
      "cell_type": "code",
      "execution_count": null,
      "id": "d75c1474",
      "metadata": {
        "lines_to_next_cell": 2,
        "id": "d75c1474"
      },
      "outputs": [],
      "source": [
        "leopard_train_img = leopard_train.map(remove_img_leadingzero)\n",
        "leopard_val_img = leopard_val.map(remove_img_leadingzero)\n",
        "leopard_test_img = leopard_test.map(remove_img_leadingzero)"
      ]
    },
    {
      "cell_type": "code",
      "execution_count": null,
      "id": "fbaf7a09",
      "metadata": {
        "id": "fbaf7a09"
      },
      "outputs": [],
      "source": [
        "print('Renamed hyena train', hyena_train_img.collect())\n",
        "print('Renamed hyena val', hyena_val_img.collect())\n",
        "print('Renamed hyena test', hyena_test_img.collect())\n",
        "print('Renamed leopard train', leopard_train_img.collect())\n",
        "print('Renamed leopard val', leopard_val_img.collect())\n",
        "print('Renamed leopard test', leopard_test_img.collect())"
      ]
    },
    {
      "cell_type": "markdown",
      "id": "c154c36c",
      "metadata": {
        "id": "c154c36c"
      },
      "source": [
        "\n",
        "### Crop the hyena training, validation, and test images by their bounding boxes and save to a new folder, processed. \n",
        "\n",
        "Processed contains 3 subfolders: train, validation, and test. Each of these subfolders contain subfolders of unique animals, with the images inside corresponding to images of that animal in the corresponding set (train/validation/test). In the example path `/dbfs/mnt/w210_capstone/hyena.coco/processed/train/34365bcc_5b2d_4f80_b721_ef7039e64fe8/67.jpg`, the image is animal `34365bcc_5b2d_4f80_b721_ef7039e64fe8`, cropped from image 67 from the training dataset."
      ]
    },
    {
      "cell_type": "code",
      "execution_count": null,
      "id": "0bcdeaa1",
      "metadata": {
        "id": "0bcdeaa1"
      },
      "outputs": [],
      "source": [
        "# Load the hyena annotations dataset\n",
        "hyena_annotations_df = spark.read.json('/FileStore/tables/hyena_annotations.json') \\\n",
        "                            .select(explode('annotations').alias('annotation')) \\\n",
        "                            .select('annotation.*')"
      ]
    },
    {
      "cell_type": "code",
      "execution_count": null,
      "id": "acb8e695",
      "metadata": {
        "id": "acb8e695"
      },
      "outputs": [],
      "source": [
        "# Split the hyena annotations into training, validation, and test based upon the image names in their respective folders\n",
        "hyena_train_imgs = [x[:-4] for x in os.listdir(\"/dbfs/mnt/w210_capstone/hyena.coco/images/output/train/train2022\")]\n",
        "hyena_annotations_df = hyena_annotations_df.withColumn('image_id', col('image_id').cast(StringType()))\n",
        "hyena_train = hyena_annotations_df.filter((hyena_annotations_df.image_id).isin(hyena_train_imgs))"
      ]
    },
    {
      "cell_type": "code",
      "execution_count": null,
      "id": "099f06ec",
      "metadata": {
        "id": "099f06ec"
      },
      "outputs": [],
      "source": [
        "hyena_val_imgs = [x[:-4] for x in os.listdir(\"/dbfs/mnt/w210_capstone/hyena.coco/images/output/val/train2022\")]\n",
        "hyena_val = hyena_annotations_df.filter((hyena_annotations_df.image_id).isin(hyena_val_imgs))"
      ]
    },
    {
      "cell_type": "code",
      "execution_count": null,
      "id": "2829941b",
      "metadata": {
        "id": "2829941b"
      },
      "outputs": [],
      "source": [
        "hyena_test_imgs = [x[:-4] for x in os.listdir(\"/dbfs/mnt/w210_capstone/hyena.coco/images/output/test/train2022\")]\n",
        "hyena_test = hyena_annotations_df.filter((hyena_annotations_df.image_id).isin(hyena_test_imgs))"
      ]
    },
    {
      "cell_type": "code",
      "execution_count": null,
      "id": "d7eb19eb",
      "metadata": {
        "lines_to_next_cell": 1,
        "id": "d7eb19eb"
      },
      "outputs": [],
      "source": [
        "# Verify that the train dataframe was produced\n",
        "hyena_train.show()"
      ]
    },
    {
      "cell_type": "code",
      "execution_count": null,
      "id": "ba2603c5",
      "metadata": {
        "lines_to_next_cell": 1,
        "id": "ba2603c5"
      },
      "outputs": [],
      "source": [
        "# UDF that takes 3 columns and return if the file is saved successfully.\n",
        "def crop_trainBB(image_id, bbox, name):\n",
        "    \n",
        "    # Get the path to the image in the mounted storage\n",
        "    image = '/dbfs/mnt/w210_capstone/hyena.coco/images/output/train/train2022/'+image_id+'.jpg'\n",
        "    \n",
        "    # Load the image into cv2\n",
        "    im = cv2.imread(image)\n",
        "    \n",
        "    # Assign the bounding box values to their parameters and convert to int\n",
        "    x0, y0, width, height = bbox\n",
        "    x, y, w, h = int(x0), int(y0), int(width), int(height)\n",
        "    \n",
        "    # Crop the image to the bounding box bounds\n",
        "    cropped = im[y:y+h, x:x+w]\n",
        "        \n",
        "    # Obtain the unique animal identifier for that bounding box\n",
        "    animal_name = name.replace(\"-\", \"_\")\n",
        "    \n",
        "    # Check if the animal already has a folder created\n",
        "    path = '/dbfs/mnt/w210_capstone/hyena.coco/processed/train/{}'.format(animal_name)\n",
        "    isExist = os.path.exists(path)\n",
        "        \n",
        "    # If there is not already a unique animal folder, create it\n",
        "    if not isExist:\n",
        "        os.makedirs(path)\n",
        "            \n",
        "    # Write the cropped image to blob storage\n",
        "    cv2.imwrite('/dbfs/mnt/w210_capstone/hyena.coco/processed/train/{}/{}.jpg'.format(animal_name, image_id), cropped)\n",
        "\n",
        "    return \"SAVED\""
      ]
    },
    {
      "cell_type": "code",
      "execution_count": null,
      "id": "9f757878",
      "metadata": {
        "id": "9f757878"
      },
      "outputs": [],
      "source": [
        "# Register UDF to save the images cropped by bounding box\n",
        "crop_train_udf = udf(crop_trainBB)"
      ]
    },
    {
      "cell_type": "code",
      "execution_count": null,
      "id": "f4fcc964",
      "metadata": {
        "id": "f4fcc964"
      },
      "outputs": [],
      "source": [
        "# Invoke UDF for each row of the Dataframe.\n",
        "hyena_out_train = hyena_train.withColumn(\"processed\", crop_train_udf(hyena_train.image_id, hyena_train.bbox, hyena_train.name))"
      ]
    },
    {
      "cell_type": "code",
      "execution_count": null,
      "id": "faa6837b",
      "metadata": {
        "lines_to_next_cell": 1,
        "id": "faa6837b"
      },
      "outputs": [],
      "source": [
        "# Check if the rows were successfully processed\n",
        "hyena_out_train.show()"
      ]
    },
    {
      "cell_type": "code",
      "execution_count": null,
      "id": "f9c2718c",
      "metadata": {
        "lines_to_next_cell": 1,
        "id": "f9c2718c"
      },
      "outputs": [],
      "source": [
        "# UDF that takes 3 columns and return if the file is saved successfully.\n",
        "def crop_valBB(image_id, bbox, name):\n",
        "    \n",
        "    # Get the path to the image in the mounted storage\n",
        "    image = '/dbfs/mnt/w210_capstone/hyena.coco/images/output/val/train2022/'+image_id+'.jpg'\n",
        "    \n",
        "    # Load the image into cv2\n",
        "    im = cv2.imread(image)\n",
        "    \n",
        "    # Assign the bounding box values to their parameters and convert to int\n",
        "    x0, y0, width, height = bbox\n",
        "    x, y, w, h = int(x0), int(y0), int(width), int(height)\n",
        "        \n",
        "    # Crop the image to the bounding box bounds\n",
        "    cropped = im[y:y+h, x:x+w]\n",
        "        \n",
        "    # Obtain the unique animal identifier for that bounding box\n",
        "    animal_name = name.replace(\"-\", \"_\")\n",
        "    \n",
        "    # Check if the animal already has a folder created\n",
        "    path = '/dbfs/mnt/w210_capstone/hyena.coco/processed/val/{}'.format(animal_name)\n",
        "    isExist = os.path.exists(path)\n",
        "        \n",
        "    # If there is not already a unique animal folder, create it\n",
        "    if not isExist:\n",
        "        os.makedirs(path)\n",
        "            \n",
        "    # Write the cropped image to blob storage\n",
        "    cv2.imwrite('/dbfs/mnt/w210_capstone/hyena.coco/processed/val/{}/{}.jpg'.format(animal_name, image_id), cropped)\n",
        "\n",
        "    return \"SAVED\""
      ]
    },
    {
      "cell_type": "code",
      "execution_count": null,
      "id": "46314ad7",
      "metadata": {
        "id": "46314ad7"
      },
      "outputs": [],
      "source": [
        "# Register UDF to save the images cropped by bounding box\n",
        "crop_val_udf = udf(crop_valBB)"
      ]
    },
    {
      "cell_type": "code",
      "execution_count": null,
      "id": "6b79cb42",
      "metadata": {
        "id": "6b79cb42"
      },
      "outputs": [],
      "source": [
        "# Invoke UDF for each row of the Dataframe.\n",
        "hyena_out_val = hyena_val.withColumn(\"processed\", crop_val_udf(hyena_val.image_id, hyena_val.bbox, hyena_val.name))"
      ]
    },
    {
      "cell_type": "code",
      "execution_count": null,
      "id": "cb4241fb",
      "metadata": {
        "lines_to_next_cell": 1,
        "id": "cb4241fb"
      },
      "outputs": [],
      "source": [
        "# Check if the rows were successfully processed\n",
        "hyena_out_val.show()"
      ]
    },
    {
      "cell_type": "code",
      "execution_count": null,
      "id": "1fd6f62b",
      "metadata": {
        "lines_to_next_cell": 1,
        "id": "1fd6f62b"
      },
      "outputs": [],
      "source": [
        "# UDF that takes 3 columns and return if the file is saved successfully.\n",
        "def crop_testBB(image_id, bbox, name):\n",
        "    \n",
        "    # Get the path to the image in the mounted storage\n",
        "    image = '/dbfs/mnt/w210_capstone/hyena.coco/images/output/test/train2022/'+image_id+'.jpg'\n",
        "    \n",
        "    # Load the image into cv2\n",
        "    im = cv2.imread(image)\n",
        "    \n",
        "    # Assign the bounding box values to their parameters and convert to int\n",
        "    x0, y0, width, height = bbox\n",
        "    x, y, w, h = int(x0), int(y0), int(width), int(height)\n",
        "    \n",
        "    # Crop the image to the bounding box bounds\n",
        "    cropped = im[y:y+h, x:x+w]\n",
        "        \n",
        "    # Obtain the unique animal identifier for that bounding box\n",
        "    animal_name = name.replace(\"-\", \"_\")\n",
        "    \n",
        "    # Check if the animal already has a folder created\n",
        "    path = '/dbfs/mnt/w210_capstone/hyena.coco/processed/test/{}'.format(animal_name)\n",
        "    isExist = os.path.exists(path)\n",
        "        \n",
        "    # If there is not already a unique animal folder, create it\n",
        "    if not isExist:\n",
        "        os.makedirs(path)\n",
        "            \n",
        "    # Write the cropped image to blob storage\n",
        "    cv2.imwrite('/dbfs/mnt/w210_capstone/hyena.coco/processed/test/{}/{}.jpg'.format(animal_name, image_id), cropped)\n",
        "\n",
        "    return \"SAVED\""
      ]
    },
    {
      "cell_type": "code",
      "execution_count": null,
      "id": "46c574d2",
      "metadata": {
        "id": "46c574d2"
      },
      "outputs": [],
      "source": [
        "# Register UDF to save the images cropped by bounding box\n",
        "crop_test_udf = udf(crop_testBB)"
      ]
    },
    {
      "cell_type": "code",
      "execution_count": null,
      "id": "f86846a0",
      "metadata": {
        "id": "f86846a0"
      },
      "outputs": [],
      "source": [
        "# Invoke UDF for each row of the Dataframe.\n",
        "hyena_out_test = hyena_test.withColumn(\"processed\", crop_test_udf(hyena_test.image_id, hyena_test.bbox, hyena_test.name))"
      ]
    },
    {
      "cell_type": "code",
      "execution_count": null,
      "id": "249d7369",
      "metadata": {
        "id": "249d7369"
      },
      "outputs": [],
      "source": [
        "# Check if the rows were successfully processed\n",
        "hyena_out_test.show()"
      ]
    },
    {
      "cell_type": "markdown",
      "id": "a61160b0",
      "metadata": {
        "id": "a61160b0"
      },
      "source": [
        "### Crop the leopard training, validation, and test images by their bounding boxes and save to a new folder, processed. \n",
        "\n",
        "Processed contains 3 subfolders: train, validation, and test. Each of these subfolders contain subfolders of unique animals, with the images inside corresponding to images of that animal in the corresponding set (train/validation/test). In the example path `/dbfs/mnt/w210_capstone/leopard.coco/processed/train/34365bcc_5b2d_4f80_b721_ef7039e64fe8/67.jpg`, the image is animal `34365bcc_5b2d_4f80_b721_ef7039e64fe8`, cropped from image 67 from the training dataset."
      ]
    },
    {
      "cell_type": "code",
      "execution_count": null,
      "id": "bf7eaea7",
      "metadata": {
        "id": "bf7eaea7"
      },
      "outputs": [],
      "source": [
        "# Load the hyena annotations dataset\n",
        "leopard_annotations_df = spark.read.json('/FileStore/tables/leopard_annotations.json') \\\n",
        "                            .select(explode('annotations').alias('annotation')) \\\n",
        "                            .select('annotation.*')"
      ]
    },
    {
      "cell_type": "code",
      "execution_count": null,
      "id": "8e23e0b3",
      "metadata": {
        "id": "8e23e0b3"
      },
      "outputs": [],
      "source": [
        "# Split the hyena annotations into training, validation, and test based upon the image names in their respective folders\n",
        "leopard_train_imgs = [x[:-4] for x in os.listdir(\"/dbfs/mnt/w210_capstone/leopard.coco/images/output/train/train2022\")]\n",
        "leopard_annotations_df = leopard_annotations_df.withColumn('image_id', col('image_id').cast(StringType()))\n",
        "leopard_train = leopard_annotations_df.filter((leopard_annotations_df.image_id).isin(leopard_train_imgs))"
      ]
    },
    {
      "cell_type": "code",
      "execution_count": null,
      "id": "70c58ddf",
      "metadata": {
        "id": "70c58ddf"
      },
      "outputs": [],
      "source": [
        "leopard_val_imgs = [x[:-4] for x in os.listdir(\"/dbfs/mnt/w210_capstone/leopard.coco/images/output/val/train2022\")]\n",
        "leopard_val = leopard_annotations_df.filter((leopard_annotations_df.image_id).isin(leopard_val_imgs))"
      ]
    },
    {
      "cell_type": "code",
      "execution_count": null,
      "id": "aafaf584",
      "metadata": {
        "lines_to_next_cell": 1,
        "id": "aafaf584"
      },
      "outputs": [],
      "source": [
        "leopard_test_imgs = [x[:-4] for x in os.listdir(\"/dbfs/mnt/w210_capstone/leopard.coco/images/output/test/train2022\")]\n",
        "leopard_test = leopard_annotations_df.filter((leopard_annotations_df.image_id).isin(leopard_test_imgs))"
      ]
    },
    {
      "cell_type": "code",
      "execution_count": null,
      "id": "3f2537ae",
      "metadata": {
        "lines_to_next_cell": 1,
        "id": "3f2537ae"
      },
      "outputs": [],
      "source": [
        "# UDF that takes 3 columns and return if the file is saved successfully.\n",
        "def leopard_crop_trainBB(image_id, bbox, name):\n",
        "    \n",
        "    # Get the path to the image in the mounted storage\n",
        "    image = '/dbfs/mnt/w210_capstone/leopard.coco/images/output/train/train2022/'+image_id+'.jpg'\n",
        "    \n",
        "    # Load the image into cv2\n",
        "    im = cv2.imread(image)\n",
        "    \n",
        "    # Assign the bounding box values to their parameters and convert to int\n",
        "    x0, y0, width, height = bbox\n",
        "    x, y, w, h = int(x0), int(y0), int(width), int(height)\n",
        "    \n",
        "    # Crop the image to the bounding box bounds\n",
        "    cropped = im[y:y+h, x:x+w]\n",
        "        \n",
        "    # Obtain the unique animal identifier for that bounding box\n",
        "    animal_name = name.replace(\"-\", \"_\")\n",
        "    \n",
        "    # Check if the animal already has a folder created\n",
        "    path = '/dbfs/mnt/w210_capstone/leopard.coco/processed/train/{}'.format(animal_name)\n",
        "    isExist = os.path.exists(path)\n",
        "        \n",
        "    # If there is not already a unique animal folder, create it\n",
        "    if not isExist:\n",
        "        os.makedirs(path)\n",
        "            \n",
        "    # Write the cropped image to blob storage\n",
        "    cv2.imwrite('/dbfs/mnt/w210_capstone/leopard.coco/processed/train/{}/{}.jpg'.format(animal_name, image_id), cropped)\n",
        "\n",
        "    return \"SAVED\""
      ]
    },
    {
      "cell_type": "code",
      "execution_count": null,
      "id": "9fe957e8",
      "metadata": {
        "id": "9fe957e8"
      },
      "outputs": [],
      "source": [
        "# Register UDF to save the images cropped by bounding box\n",
        "leopard_crop_train_udf = udf(leopard_crop_trainBB)"
      ]
    },
    {
      "cell_type": "code",
      "execution_count": null,
      "id": "ed3b7dcc",
      "metadata": {
        "id": "ed3b7dcc"
      },
      "outputs": [],
      "source": [
        "# Invoke UDF for each row of the Dataframe.\n",
        "leopard_out_train = leopard_train.withColumn(\"processed\", leopard_crop_train_udf(leopard_train.image_id, leopard_train.bbox, leopard_train.name))"
      ]
    },
    {
      "cell_type": "code",
      "execution_count": null,
      "id": "93445f88",
      "metadata": {
        "lines_to_next_cell": 1,
        "id": "93445f88"
      },
      "outputs": [],
      "source": [
        "# Check if the rows were successfully processed\n",
        "leopard_out_train.show()"
      ]
    },
    {
      "cell_type": "code",
      "execution_count": null,
      "id": "8df9094d",
      "metadata": {
        "lines_to_next_cell": 1,
        "id": "8df9094d"
      },
      "outputs": [],
      "source": [
        "# UDF that takes 3 columns and return if the file is saved successfully.\n",
        "def leopard_crop_valBB(image_id, bbox, name):\n",
        "    \n",
        "    # Get the path to the image in the mounted storage\n",
        "    image = '/dbfs/mnt/w210_capstone/leopard.coco/images/output/val/train2022/'+image_id+'.jpg'\n",
        "    \n",
        "    # Load the image into cv2\n",
        "    im = cv2.imread(image)\n",
        "    \n",
        "    # Assign the bounding box values to their parameters and convert to int\n",
        "    x0, y0, width, height = bbox\n",
        "    x, y, w, h = int(x0), int(y0), int(width), int(height)\n",
        "    \n",
        "    # Crop the image to the bounding box bounds\n",
        "    cropped = im[y:y+h, x:x+w]\n",
        "        \n",
        "    # Obtain the unique animal identifier for that bounding box\n",
        "    animal_name = name.replace(\"-\", \"_\")\n",
        "    \n",
        "    # Check if the animal already has a folder created\n",
        "    path = '/dbfs/mnt/w210_capstone/leopard.coco/processed/val/{}'.format(animal_name)\n",
        "    isExist = os.path.exists(path)\n",
        "        \n",
        "    # If there is not already a unique animal folder, create it\n",
        "    if not isExist:\n",
        "        os.makedirs(path)\n",
        "            \n",
        "    # Write the cropped image to blob storage\n",
        "    cv2.imwrite('/dbfs/mnt/w210_capstone/leopard.coco/processed/val/{}/{}.jpg'.format(animal_name, image_id), cropped)\n",
        "\n",
        "    return \"SAVED\""
      ]
    },
    {
      "cell_type": "code",
      "execution_count": null,
      "id": "6aa71299",
      "metadata": {
        "id": "6aa71299"
      },
      "outputs": [],
      "source": [
        "# Register UDF to save the images cropped by bounding box\n",
        "leopard_crop_val_udf = udf(leopard_crop_valBB)"
      ]
    },
    {
      "cell_type": "code",
      "execution_count": null,
      "id": "2fbb0061",
      "metadata": {
        "id": "2fbb0061"
      },
      "outputs": [],
      "source": [
        "# Invoke UDF for each row of the Dataframe.\n",
        "leopard_out_val = leopard_val.withColumn(\"processed\", leopard_crop_val_udf(leopard_val.image_id, leopard_val.bbox, leopard_val.name))"
      ]
    },
    {
      "cell_type": "code",
      "execution_count": null,
      "id": "e0df061b",
      "metadata": {
        "lines_to_next_cell": 1,
        "id": "e0df061b"
      },
      "outputs": [],
      "source": [
        "# Check if the rows were successfully processed\n",
        "leopard_out_val.show()"
      ]
    },
    {
      "cell_type": "code",
      "execution_count": null,
      "id": "fad3f11c",
      "metadata": {
        "lines_to_next_cell": 1,
        "id": "fad3f11c"
      },
      "outputs": [],
      "source": [
        "# UDF that takes 3 columns and return if the file is saved successfully.\n",
        "def leopard_crop_testBB(image_id, bbox, name):\n",
        "    \n",
        "    # Get the path to the image in the mounted storage\n",
        "    image = '/dbfs/mnt/w210_capstone/leopard.coco/images/output/test/train2022/'+image_id+'.jpg'\n",
        "    \n",
        "    # Load the image into cv2\n",
        "    im = cv2.imread(image)\n",
        "    \n",
        "    # Assign the bounding box values to their parameters and convert to int\n",
        "    x0, y0, width, height = bbox\n",
        "    x, y, w, h = int(x0), int(y0), int(width), int(height)\n",
        "    \n",
        "    # Crop the image to the bounding box bounds\n",
        "    cropped = im[y:y+h, x:x+w]\n",
        "        \n",
        "    # Obtain the unique animal identifier for that bounding box\n",
        "    animal_name = name.replace(\"-\", \"_\")\n",
        "    \n",
        "    # Check if the animal already has a folder created\n",
        "    path = '/dbfs/mnt/w210_capstone/leopard.coco/processed/test/{}'.format(animal_name)\n",
        "    isExist = os.path.exists(path)\n",
        "        \n",
        "    # If there is not already a unique animal folder, create it\n",
        "    if not isExist:\n",
        "        os.makedirs(path)\n",
        "            \n",
        "    # Write the cropped image to blob storage\n",
        "    cv2.imwrite('/dbfs/mnt/w210_capstone/leopard.coco/processed/test/{}/{}.jpg'.format(animal_name, image_id), cropped)\n",
        "\n",
        "    return \"SAVED\""
      ]
    },
    {
      "cell_type": "code",
      "execution_count": null,
      "id": "cf9d64d0",
      "metadata": {
        "id": "cf9d64d0"
      },
      "outputs": [],
      "source": [
        "# Register UDF to save the images cropped by bounding box\n",
        "leopard_crop_test_udf = udf(leopard_crop_testBB)"
      ]
    },
    {
      "cell_type": "code",
      "execution_count": null,
      "id": "0833a8e4",
      "metadata": {
        "id": "0833a8e4"
      },
      "outputs": [],
      "source": [
        "# Invoke UDF for each row of the Dataframe.\n",
        "leopard_out_test = leopard_test.withColumn(\"processed\", leopard_crop_test_udf(leopard_test.image_id, leopard_test.bbox, leopard_test.name))"
      ]
    },
    {
      "cell_type": "code",
      "execution_count": null,
      "id": "0b5fb79f",
      "metadata": {
        "id": "0b5fb79f"
      },
      "outputs": [],
      "source": [
        "# Check if the rows were successfully processed\n",
        "leopard_out_test.show()"
      ]
    }
  ],
  "metadata": {
    "jupytext": {
      "cell_metadata_filter": "-all",
      "main_language": "python",
      "notebook_metadata_filter": "-all"
    },
    "colab": {
      "name": "hyena_leopard_bb_crop.ipynb",
      "provenance": [],
      "collapsed_sections": []
    }
  },
  "nbformat": 4,
  "nbformat_minor": 5
}