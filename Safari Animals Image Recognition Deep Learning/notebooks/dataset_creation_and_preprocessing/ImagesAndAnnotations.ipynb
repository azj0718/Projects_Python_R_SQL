{
  "cells": [
    {
      "cell_type": "code",
      "execution_count": null,
      "id": "901eb4a7",
      "metadata": {
        "id": "901eb4a7"
      },
      "outputs": [],
      "source": [
        "# Databricks notebook source\n",
        "from pyspark.sql.functions import *"
      ]
    },
    {
      "cell_type": "code",
      "execution_count": null,
      "id": "9b7aee73",
      "metadata": {
        "id": "9b7aee73"
      },
      "outputs": [],
      "source": [
        "giraffe_annotations_df = spark.read.json('/FileStore/tables/wni_giraffes_train.json') \\\n",
        "    .select(explode('annotations').alias('annotation')) \\\n",
        "    .select('annotation.*')"
      ]
    },
    {
      "cell_type": "code",
      "execution_count": null,
      "id": "1fb6e648",
      "metadata": {
        "id": "1fb6e648"
      },
      "outputs": [],
      "source": [
        "giraffe_images_df = spark.read.format('image') \\\n",
        "    .load('/mnt/w210_capstone/giraffe_train/train')"
      ]
    },
    {
      "cell_type": "code",
      "execution_count": null,
      "id": "e88cb7ec",
      "metadata": {
        "id": "e88cb7ec"
      },
      "outputs": [],
      "source": [
        "display(giraffe_images_df.limit(10))"
      ]
    },
    {
      "cell_type": "code",
      "execution_count": null,
      "id": "9f8f7892",
      "metadata": {
        "id": "9f8f7892"
      },
      "outputs": [],
      "source": [
        "import json"
      ]
    },
    {
      "cell_type": "code",
      "execution_count": null,
      "id": "c4961147",
      "metadata": {
        "id": "c4961147"
      },
      "outputs": [],
      "source": [
        "with open('/dbfs/mnt/w210_capstone/leopard.coco/annotations/instances_train2022.json') as f:\n",
        "    dbutils.fs.put(\"/FileStore/tables/leopard_annotations.json\", json.dumps(json.load(f)), overwrite=True)"
      ]
    },
    {
      "cell_type": "code",
      "execution_count": null,
      "id": "5db1a011",
      "metadata": {
        "id": "5db1a011"
      },
      "outputs": [],
      "source": [
        "leopard_annotations_df = spark.read.json('/FileStore/tables/leopard_annotations.json') \\\n",
        "    .select(explode('annotations').alias('annotation')) \\\n",
        "    .select('annotation.*')"
      ]
    },
    {
      "cell_type": "code",
      "execution_count": null,
      "id": "a59bb9c7",
      "metadata": {
        "id": "a59bb9c7"
      },
      "outputs": [],
      "source": [
        "leopard_images_df = spark.read.format(\"image\") \\\n",
        "    .load('/mnt/w210_capstone/leopard.coco/images/train2022/') \\\n",
        "    .filter(\"image.nChannels > 2 AND image.height > 0 AND image.width > 0\")"
      ]
    },
    {
      "cell_type": "code",
      "execution_count": null,
      "id": "ee2c123c",
      "metadata": {
        "id": "ee2c123c"
      },
      "outputs": [],
      "source": [
        "hyena_images_df = spark.read.format(\"image\") \\\n",
        "    .load(\"/mnt/w210_capstone/hyena.coco/images/train2022/\")"
      ]
    },
    {
      "cell_type": "code",
      "execution_count": null,
      "id": "bedbab1a",
      "metadata": {
        "id": "bedbab1a"
      },
      "outputs": [],
      "source": [
        "display(hyena_images_df.limit(10))"
      ]
    },
    {
      "cell_type": "code",
      "execution_count": null,
      "id": "6c6aac96",
      "metadata": {
        "id": "6c6aac96"
      },
      "outputs": [],
      "source": [
        "import json"
      ]
    },
    {
      "cell_type": "code",
      "execution_count": null,
      "id": "4ae099e7",
      "metadata": {
        "id": "4ae099e7"
      },
      "outputs": [],
      "source": [
        "with open('/dbfs/mnt/w210_capstone/hyena.coco/annotations/instances_train2022.json') as f:\n",
        "    dbutils.fs.put('/FileStore/tables/hyena_annotations.json', json.dumps(json.load(f)), overwrite=True)"
      ]
    },
    {
      "cell_type": "code",
      "execution_count": null,
      "id": "c77ed96a",
      "metadata": {
        "id": "c77ed96a"
      },
      "outputs": [],
      "source": [
        "hyena_annotations_df = spark.read.json('/FileStore/tables/hyena_annotations.json') \\\n",
        "    .select(explode('annotations').alias('annotation')) \\\n",
        "    .select('annotation.*')"
      ]
    },
    {
      "cell_type": "code",
      "execution_count": null,
      "id": "4dc05742",
      "metadata": {
        "id": "4dc05742"
      },
      "outputs": [],
      "source": [
        "hyena_images_df = spark.read.format(\"image\") \\\n",
        "    .load(\"/mnt/w210_capstone/hyena.coco/images/train2022/\") \\\n",
        "    .filter(\"image.nChannels > 2 AND image.height > 0 AND image.width > 0\")"
      ]
    },
    {
      "cell_type": "code",
      "execution_count": null,
      "id": "bfa15c2d",
      "metadata": {
        "id": "bfa15c2d"
      },
      "outputs": [],
      "source": [
        "display(hyena_images_df.limit(10))"
      ]
    }
  ],
  "metadata": {
    "jupytext": {
      "cell_metadata_filter": "-all",
      "main_language": "python",
      "notebook_metadata_filter": "-all"
    },
    "colab": {
      "name": "ImagesAndAnnotations.ipynb",
      "provenance": [],
      "collapsed_sections": []
    }
  },
  "nbformat": 4,
  "nbformat_minor": 5
}