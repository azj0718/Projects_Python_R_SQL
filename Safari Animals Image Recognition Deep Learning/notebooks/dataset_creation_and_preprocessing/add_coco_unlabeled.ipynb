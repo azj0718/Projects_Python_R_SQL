{
  "nbformat": 4,
  "nbformat_minor": 0,
  "metadata": {
    "colab": {
      "name": "add_coco_unlabeled.ipynb",
      "provenance": []
    },
    "kernelspec": {
      "name": "python3",
      "display_name": "Python 3"
    },
    "language_info": {
      "name": "python"
    }
  },
  "cells": [
    {
      "cell_type": "code",
      "execution_count": null,
      "metadata": {
        "id": "zS6AYeP4UlTO"
      },
      "outputs": [],
      "source": [
        "from PIL import Image\n",
        "import os, sys"
      ]
    },
    {
      "cell_type": "code",
      "source": [
        "# Mount Google drive to upload datasets\n",
        "from google.colab import drive\n",
        "drive.mount('/content/drive')"
      ],
      "metadata": {
        "colab": {
          "base_uri": "https://localhost:8080/"
        },
        "id": "znc77A8mUocY",
        "outputId": "ca53c275-4b0d-455e-c17b-2d5e210d5653"
      },
      "execution_count": null,
      "outputs": [
        {
          "output_type": "stream",
          "name": "stdout",
          "text": [
            "Mounted at /content/drive\n"
          ]
        }
      ]
    },
    {
      "cell_type": "code",
      "source": [
        "# Add the randomly selected unlabeled Cocco 2017 training images to the Yolov5 custom data folder for model training/fine-tuning\n",
        "path = '/content/drive/My Drive/selected_unlabeled/'\n",
        "dirs = os.listdir(path)\n",
        "\n",
        "def resize():\n",
        "  for item in dirs:\n",
        "    im = Image.open(path + item)\n",
        "    imResize = im.resize((640,640), Image.ANTIALIAS)\n",
        "    imResize.save('/content/drive/My Drive/yolov5/customdata/images/train/' + 'unlabeled_' + item)\n",
        "\n",
        "resize() "
      ],
      "metadata": {
        "id": "gLyy1j-GUryH"
      },
      "execution_count": null,
      "outputs": []
    }
  ]
}