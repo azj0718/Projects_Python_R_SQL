{
  "cells": [
    {
      "cell_type": "markdown",
      "id": "49a6fefb",
      "metadata": {
        "id": "49a6fefb"
      },
      "source": [
        "Databricks notebook source\n",
        "Write the newly uploaded training annotations for the greate zebra and giraffe id dataset to the file store so that it can be loaded into a csv. Similarly to the hyena and leopard datasets, the annotations are in COCO format and the provided validation and test annotations files contain no records, meaning that they will need to be created."
      ]
    },
    {
      "cell_type": "code",
      "execution_count": null,
      "id": "5f423173",
      "metadata": {
        "id": "5f423173"
      },
      "outputs": [],
      "source": [
        "import json\n",
        "import shutil\n",
        "import os\n",
        "from pyspark.sql.types import StringType, ArrayType, FloatType, IntegerType\n",
        "from pyspark.sql.functions import udf, col, explode, size\n",
        "import cv2"
      ]
    },
    {
      "cell_type": "code",
      "execution_count": null,
      "id": "6022fbfe",
      "metadata": {
        "id": "6022fbfe"
      },
      "outputs": [],
      "source": [
        "with open('/dbfs/mnt/w210_capstone/great_zebra_giraffe/annotations/instances_train2020.json') as f:\n",
        "    dbutils.fs.put(\"/FileStore/tables/updated_giraffe_annotations.json\", json.dumps(json.load(f)), overwrite=True)"
      ]
    },
    {
      "cell_type": "code",
      "execution_count": null,
      "id": "2a554512",
      "metadata": {
        "id": "2a554512"
      },
      "outputs": [],
      "source": [
        "# Load the new zebra and giraffe annotations dataset\n",
        "zebra_giraffe_annotations_df = spark.read.json('/FileStore/tables/updated_giraffe_annotations.json') \\\n",
        "                            .select(explode('annotations').alias('annotation')) \\\n",
        "                            .select('annotation.*')"
      ]
    },
    {
      "cell_type": "code",
      "execution_count": null,
      "id": "29b99338",
      "metadata": {
        "id": "29b99338"
      },
      "outputs": [],
      "source": [
        "# Check the first few rows\n",
        "display(zebra_giraffe_annotations_df)"
      ]
    },
    {
      "cell_type": "code",
      "execution_count": null,
      "id": "7e9f23be",
      "metadata": {
        "id": "7e9f23be"
      },
      "outputs": [],
      "source": [
        "# Filter the images to only those containing giraffes\n",
        "only_giraffes = zebra_giraffe_annotations_df.filter(col('name').startswith('NNP_GIRM_'))"
      ]
    },
    {
      "cell_type": "code",
      "execution_count": null,
      "id": "7edaf948",
      "metadata": {
        "id": "7edaf948"
      },
      "outputs": [],
      "source": [
        "# Filter the dataframe for rows where the individual ids field has a length of 1 - these images should go into the training dataset (they represent the only time that the animal was seen)\n",
        "only_giraffes = only_giraffes.select('*', size('individual_ids').alias('ct_appearances'), size('bbox').alias('bbox_cord_ct'))\n",
        "one_appearance = only_giraffes.filter(col('ct_appearances')==1)"
      ]
    },
    {
      "cell_type": "code",
      "execution_count": null,
      "id": "963d096b",
      "metadata": {
        "id": "963d096b"
      },
      "outputs": [],
      "source": [
        "# Find the unique values from the bbox coordinate count to verify that all animals have a bounding box - all animals have 4 coordinates\n",
        "only_giraffes.select('bbox_cord_ct').distinct().collect()"
      ]
    },
    {
      "cell_type": "code",
      "execution_count": null,
      "id": "9d0d48d7",
      "metadata": {
        "id": "9d0d48d7"
      },
      "outputs": [],
      "source": [
        "# Check that there are no images without an animal identifier\n",
        "from pyspark.sql.functions import col, isnan, when, count"
      ]
    },
    {
      "cell_type": "code",
      "execution_count": null,
      "id": "02d77f1b",
      "metadata": {
        "id": "02d77f1b"
      },
      "outputs": [],
      "source": [
        "only_giraffes.select([count(when(isnan(c) | col(c).isNull(), c)).alias(c) for c in ['uuid']]).show()"
      ]
    },
    {
      "cell_type": "code",
      "execution_count": null,
      "id": "236ab2a6",
      "metadata": {
        "id": "236ab2a6"
      },
      "outputs": [],
      "source": [
        "# There are 42 instances when the animal is only seen once\n",
        "one_appearance.count()"
      ]
    },
    {
      "cell_type": "code",
      "execution_count": null,
      "id": "a863da92",
      "metadata": {
        "id": "a863da92"
      },
      "outputs": [],
      "source": [
        "# Filter the only giraffes dataframe to create a dataframe where the image ids are not in the image id field belonging to the only appearance dataframe\n",
        "more_than1 = only_giraffes.join(one_appearance, only_giraffes.image_id == one_appearance.image_id, how='left_anti')"
      ]
    },
    {
      "cell_type": "code",
      "execution_count": null,
      "id": "0e2488cb",
      "metadata": {
        "id": "0e2488cb"
      },
      "outputs": [],
      "source": [
        "# Check the first few rows\n",
        "display(more_than1)"
      ]
    },
    {
      "cell_type": "code",
      "execution_count": null,
      "id": "1d55433b",
      "metadata": {
        "id": "1d55433b"
      },
      "outputs": [],
      "source": [
        "# Get all of the unique image ids for the one appearances dataset\n",
        "only_one_imgid = one_appearance.select('image_id').distinct().collect()"
      ]
    },
    {
      "cell_type": "code",
      "execution_count": null,
      "id": "b0cf13bb",
      "metadata": {
        "id": "b0cf13bb"
      },
      "outputs": [],
      "source": [
        "# Get all of the unique image ids where the animal was seen more than once\n",
        "more_than1_imgid = more_than1.select('image_id').distinct().collect()"
      ]
    },
    {
      "cell_type": "code",
      "execution_count": null,
      "id": "4589f271",
      "metadata": {
        "id": "4589f271"
      },
      "outputs": [],
      "source": [
        "# Split the image ids where the animal is captured more than once into training and testing\n",
        "from sklearn.model_selection import train_test_split\n",
        "giraffe_train_val, giraffe_test = train_test_split(more_than1_imgid, test_size=0.1, train_size=0.9, shuffle=True, random_state=8)"
      ]
    },
    {
      "cell_type": "code",
      "execution_count": null,
      "id": "ebb3145c",
      "metadata": {
        "id": "ebb3145c"
      },
      "outputs": [],
      "source": [
        "# Create the unique giraffe training and validation identifiers\n",
        "giraffe_train, giraffe_val = train_test_split(giraffe_train_val, test_size=0.1, train_size=0.9, shuffle=True, random_state=42)"
      ]
    },
    {
      "cell_type": "code",
      "execution_count": null,
      "id": "7181bf58",
      "metadata": {
        "id": "7181bf58"
      },
      "outputs": [],
      "source": [
        "# Add the images of the animals only seen once to the giraffe training image list\n",
        "giraffe_train = giraffe_train + only_one_imgid"
      ]
    },
    {
      "cell_type": "code",
      "execution_count": null,
      "id": "8d3a574f",
      "metadata": {
        "lines_to_next_cell": 1,
        "id": "8d3a574f"
      },
      "outputs": [],
      "source": [
        "# Extract the image name from the lists of row objects\n",
        "giraffe_train = [x['image_id'] for x in giraffe_train]\n",
        "giraffe_val = [x['image_id'] for x in giraffe_val]\n",
        "giraffe_test = [x['image_id'] for x in giraffe_test]"
      ]
    },
    {
      "cell_type": "markdown",
      "id": "aefc2362",
      "metadata": {
        "id": "aefc2362"
      },
      "source": [
        "In this section, we strip leading zeros from the file names of the giraffe images and save them in place. This allows us to filter the giraffe images by the image ids in the annotations file."
      ]
    },
    {
      "cell_type": "code",
      "execution_count": null,
      "id": "4335bcb5",
      "metadata": {
        "lines_to_next_cell": 1,
        "id": "4335bcb5"
      },
      "outputs": [],
      "source": [
        "def cp_giraffe_imgs():\n",
        "    \"\"\"Extracts the giraffe training, validation, and test images and saves them to a new directory\"\"\"\n",
        "    \n",
        "    image_list = []\n",
        "    \n",
        "    # Create the lists of all image paths in the training, validation, and test folders\n",
        "    for (dir_path, dir_names, files) in os.walk(\"/dbfs/mnt/w210_capstone/great_zebra_giraffe/images\"):\n",
        "        for x in files:\n",
        "            # Get the stripped name of the file\n",
        "            item = int(x.lstrip('0')[:-4])\n",
        "            old_path = os.path.join(dir_path,x)\n",
        "            if item in giraffe_train:\n",
        "                new_path = '/dbfs/mnt/w210_capstone/great_zebra_giraffe/train/'+ str(item) + '.jpg'\n",
        "                shutil.copy(old_path, new_path)\n",
        "            elif item in giraffe_val:\n",
        "                new_path = '/dbfs/mnt/w210_capstone/great_zebra_giraffe/val/'+ str(item) + '.jpg'\n",
        "                shutil.copy(old_path, new_path)\n",
        "            elif item in giraffe_test:\n",
        "                new_path = '/dbfs/mnt/w210_capstone/great_zebra_giraffe/test/'+ str(item) + '.jpg'\n",
        "                shutil.copy(old_path, new_path)\n",
        "    \n",
        "    print('Files have finished copying')"
      ]
    },
    {
      "cell_type": "code",
      "execution_count": null,
      "id": "9dba27c2",
      "metadata": {
        "id": "9dba27c2"
      },
      "outputs": [],
      "source": [
        "# Call the function to copy the giraffe training, validation, and testing images to their respective folders\n",
        "cp_giraffe_imgs()"
      ]
    },
    {
      "cell_type": "code",
      "execution_count": null,
      "id": "360914cf",
      "metadata": {
        "id": "360914cf"
      },
      "outputs": [],
      "source": [
        "# Filter the annotations file by the image ids in the giraffe train, validation, and test sets and write out to Parquet\n",
        "giraffe_train_df = only_giraffes.filter(col('image_id').isin(giraffe_train))\n",
        "giraffe_val_df = only_giraffes.filter(col('image_id').isin(giraffe_val))\n",
        "giraffe_test_df = only_giraffes.filter(col('image_id').isin(giraffe_test))"
      ]
    },
    {
      "cell_type": "code",
      "execution_count": null,
      "id": "46bddee4",
      "metadata": {
        "id": "46bddee4"
      },
      "outputs": [],
      "source": [
        "giraffe_train_df.write.parquet('dbfs/mnt/w210_capstone/great_zebra_giraffe/annotations/giraffe_train.parquet')\n",
        "giraffe_val_df.write.parquet('dbfs/mnt/w210_capstone/great_zebra_giraffe/annotations/giraffe_val.parquet')\n",
        "giraffe_test_df.write.parquet('dbfs/mnt/w210_capstone/great_zebra_giraffe/annotations/giraffe_test.parquet')"
      ]
    },
    {
      "cell_type": "code",
      "execution_count": null,
      "id": "c5fc4609",
      "metadata": {
        "lines_to_next_cell": 1,
        "id": "c5fc4609"
      },
      "outputs": [],
      "source": [
        "# Split the hyena annotations into training, validation, and test based upon the image names in their respective folders\n",
        "giraffe_train_imgs = [x[:-4] for x in os.listdir(\"/dbfs/mnt/w210_capstone/great_zebra_giraffe/train\")]\n",
        "giraffe_val_imgs = [x[:-4] for x in os.listdir(\"/dbfs/mnt/w210_capstone/great_zebra_giraffe/val\")]\n",
        "giraffe_test_imgs = [x[:-4] for x in os.listdir(\"/dbfs/mnt/w210_capstone/great_zebra_giraffe/test\")]"
      ]
    },
    {
      "cell_type": "code",
      "execution_count": null,
      "id": "2014facc",
      "metadata": {
        "lines_to_next_cell": 1,
        "id": "2014facc"
      },
      "outputs": [],
      "source": [
        "# UDF that takes 3 columns and return if the file is saved successfully.\n",
        "def giraffe_crop_trainBB(image_id, bbox, name):\n",
        "    \n",
        "    # Get the path to the image in the mounted storage\n",
        "    image = '/dbfs/mnt/w210_capstone/great_zebra_giraffe/train/'+str(image_id)+'.jpg'\n",
        "    \n",
        "    print(str(image_id))\n",
        "    \n",
        "    # Load the image into cv2\n",
        "    im = cv2.imread(image)\n",
        "    \n",
        "    # Assign the bounding box values to their parameters and convert to int\n",
        "    x0, y0, width, height = bbox\n",
        "    x, y, w, h = int(x0), int(y0), int(width), int(height)\n",
        "    \n",
        "    # Crop the image to the bounding box bounds\n",
        "    cropped = im[y:y+h, x:x+w]\n",
        "        \n",
        "    # Obtain the unique animal identifier for that bounding box\n",
        "    animal_name = name.replace(\"-\", \"_\")\n",
        "    \n",
        "    # Check if the animal already has a folder created\n",
        "    path = '/dbfs/mnt/w210_capstone/great_zebra_giraffe/individual_recognition/train/{}'.format(animal_name)\n",
        "    isExist = os.path.exists(path)\n",
        "        \n",
        "    # If there is not already a unique animal folder, create it\n",
        "    if not isExist:\n",
        "        os.makedirs(path)\n",
        "            \n",
        "    # Write the cropped image to blob storage\n",
        "    try:\n",
        "        cv2.imwrite('/dbfs/mnt/w210_capstone/great_zebra_giraffe/individual_recognition/train/{}/{}.jpg'.format(animal_name, str(image_id)), cropped)\n",
        "\n",
        "        return \"SAVED\"\n",
        "    except:\n",
        "        return \"Unable to crop\""
      ]
    },
    {
      "cell_type": "code",
      "execution_count": null,
      "id": "cdad6605",
      "metadata": {
        "id": "cdad6605"
      },
      "outputs": [],
      "source": [
        "# Register UDF to save the images cropped by bounding box\n",
        "giraffe_crop_train_udf = udf(giraffe_crop_trainBB)"
      ]
    },
    {
      "cell_type": "code",
      "execution_count": null,
      "id": "72ad59e3",
      "metadata": {
        "id": "72ad59e3"
      },
      "outputs": [],
      "source": [
        "# Invoke UDF for each row of the Dataframe.\n",
        "giraffe_out_train = giraffe_train_df.withColumn(\"processed\", giraffe_crop_train_udf(giraffe_train_df.image_id, giraffe_train_df.bbox, giraffe_train_df.name))"
      ]
    },
    {
      "cell_type": "code",
      "execution_count": null,
      "id": "18fbea86",
      "metadata": {
        "id": "18fbea86"
      },
      "outputs": [],
      "source": [
        "# Check if the rows were successfully processed\n",
        "giraffe_out_train.show()"
      ]
    },
    {
      "cell_type": "code",
      "execution_count": null,
      "id": "27094958",
      "metadata": {
        "lines_to_next_cell": 1,
        "id": "27094958"
      },
      "outputs": [],
      "source": [
        "# only 2 bounding boxes were unable to be cropped from the images\n",
        "display(giraffe_out_train.filter(col('processed')=='Unable to crop'))"
      ]
    },
    {
      "cell_type": "code",
      "execution_count": null,
      "id": "23e9e7f6",
      "metadata": {
        "lines_to_next_cell": 1,
        "id": "23e9e7f6"
      },
      "outputs": [],
      "source": [
        "# UDF that takes 3 columns and return if the file is saved successfully.\n",
        "def giraffe_crop_valBB(image_id, bbox, name):\n",
        "    \n",
        "    # Get the path to the image in the mounted storage\n",
        "    image = '/dbfs/mnt/w210_capstone/great_zebra_giraffe/val/'+str(image_id)+'.jpg'\n",
        "    \n",
        "    # Load the image into cv2\n",
        "    im = cv2.imread(image)\n",
        "    \n",
        "    # Assign the bounding box values to their parameters and convert to int\n",
        "    x0, y0, width, height = bbox\n",
        "    x, y, w, h = int(x0), int(y0), int(width), int(height)\n",
        "    \n",
        "    # Crop the image to the bounding box bounds\n",
        "    cropped = im[y:y+h, x:x+w]\n",
        "        \n",
        "    # Obtain the unique animal identifier for that bounding box\n",
        "    animal_name = name.replace(\"-\", \"_\")\n",
        "    \n",
        "    # Check if the animal already has a folder created\n",
        "    path = '/dbfs/mnt/w210_capstone/great_zebra_giraffe/individual_recognition/val/{}'.format(animal_name)\n",
        "    isExist = os.path.exists(path)\n",
        "        \n",
        "    # If there is not already a unique animal folder, create it\n",
        "    if not isExist:\n",
        "        os.makedirs(path)\n",
        "            \n",
        "    # Write the cropped image to blob storage\n",
        "    cv2.imwrite('/dbfs/mnt/w210_capstone/great_zebra_giraffe/individual_recognition/val/{}/{}.jpg'.format(animal_name, image_id), cropped)\n",
        "\n",
        "    return \"SAVED\""
      ]
    },
    {
      "cell_type": "code",
      "execution_count": null,
      "id": "b6c5e1ef",
      "metadata": {
        "id": "b6c5e1ef"
      },
      "outputs": [],
      "source": [
        "# Register UDF to save the images cropped by bounding box\n",
        "giraffe_crop_val_udf = udf(giraffe_crop_valBB)"
      ]
    },
    {
      "cell_type": "code",
      "execution_count": null,
      "id": "dc7ce138",
      "metadata": {
        "id": "dc7ce138"
      },
      "outputs": [],
      "source": [
        "# Invoke UDF for each row of the Dataframe.\n",
        "giraffe_out_val = giraffe_val_df.withColumn(\"processed\", giraffe_crop_val_udf(giraffe_val_df.image_id, giraffe_val_df.bbox, giraffe_val_df.name))"
      ]
    },
    {
      "cell_type": "code",
      "execution_count": null,
      "id": "a63fa0bd",
      "metadata": {
        "lines_to_next_cell": 1,
        "id": "a63fa0bd"
      },
      "outputs": [],
      "source": [
        "# Check if the rows were successfully processed\n",
        "giraffe_out_val.show()"
      ]
    },
    {
      "cell_type": "code",
      "execution_count": null,
      "id": "dc0dbd6c",
      "metadata": {
        "lines_to_next_cell": 1,
        "id": "dc0dbd6c"
      },
      "outputs": [],
      "source": [
        "# UDF that takes 3 columns and return if the file is saved successfully.\n",
        "def giraffe_crop_testBB(image_id, bbox, name):\n",
        "    \n",
        "    # Get the path to the image in the mounted storage\n",
        "    image = '/dbfs/mnt/w210_capstone/great_zebra_giraffe/test/'+str(image_id)+'.jpg'\n",
        "    \n",
        "    # Load the image into cv2\n",
        "    im = cv2.imread(image)\n",
        "    \n",
        "    # Assign the bounding box values to their parameters and convert to int\n",
        "    x0, y0, width, height = bbox\n",
        "    x, y, w, h = int(x0), int(y0), int(width), int(height)\n",
        "    \n",
        "    # Crop the image to the bounding box bounds\n",
        "    cropped = im[y:y+h, x:x+w]\n",
        "        \n",
        "    # Obtain the unique animal identifier for that bounding box\n",
        "    animal_name = name.replace(\"-\", \"_\")\n",
        "    \n",
        "    # Check if the animal already has a folder created\n",
        "    path = '/dbfs/mnt/w210_capstone/great_zebra_giraffe/individual_recognition/test/{}'.format(animal_name)\n",
        "    isExist = os.path.exists(path)\n",
        "        \n",
        "    # If there is not already a unique animal folder, create it\n",
        "    if not isExist:\n",
        "        os.makedirs(path)\n",
        "            \n",
        "    # Write the cropped image to blob storage\n",
        "    cv2.imwrite('/dbfs/mnt/w210_capstone/great_zebra_giraffe/individual_recognition/test/{}/{}.jpg'.format(animal_name, image_id), cropped)\n",
        "\n",
        "    return \"SAVED\""
      ]
    },
    {
      "cell_type": "code",
      "execution_count": null,
      "id": "63b145ab",
      "metadata": {
        "id": "63b145ab"
      },
      "outputs": [],
      "source": [
        "# Register UDF to save the images cropped by bounding box\n",
        "giraffe_crop_test_udf = udf(giraffe_crop_testBB)"
      ]
    },
    {
      "cell_type": "code",
      "execution_count": null,
      "id": "6ed1f0b9",
      "metadata": {
        "id": "6ed1f0b9"
      },
      "outputs": [],
      "source": [
        "# Invoke UDF for each row of the Dataframe.\n",
        "giraffe_out_test = giraffe_test_df.withColumn(\"processed\", giraffe_crop_test_udf(giraffe_test_df.image_id, giraffe_test_df.bbox, giraffe_test_df.name))"
      ]
    },
    {
      "cell_type": "code",
      "execution_count": null,
      "id": "fab882a3",
      "metadata": {
        "id": "fab882a3"
      },
      "outputs": [],
      "source": [
        "# Check if the rows were successfully processed\n",
        "giraffe_out_test.show()"
      ]
    }
  ],
  "metadata": {
    "jupytext": {
      "cell_metadata_filter": "-all",
      "main_language": "python",
      "notebook_metadata_filter": "-all"
    },
    "colab": {
      "name": "zebra_giraffe_id.ipynb",
      "provenance": [],
      "collapsed_sections": []
    }
  },
  "nbformat": 4,
  "nbformat_minor": 5
}