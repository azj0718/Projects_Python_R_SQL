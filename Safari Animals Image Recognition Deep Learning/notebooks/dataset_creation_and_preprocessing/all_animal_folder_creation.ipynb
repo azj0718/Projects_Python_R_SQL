{
  "cells": [
    {
      "cell_type": "code",
      "execution_count": null,
      "id": "21ae31bc",
      "metadata": {
        "id": "21ae31bc"
      },
      "outputs": [],
      "source": [
        "# Databricks notebook source\n",
        "import os\n",
        "import glob\n",
        "from distutils.dir_util import copy_tree"
      ]
    },
    {
      "cell_type": "code",
      "execution_count": null,
      "id": "9efb489e",
      "metadata": {
        "id": "9efb489e"
      },
      "outputs": [],
      "source": [
        "# Create the path for the directory for all animal individual recognition\n",
        "for f in ['train', 'val', 'test']:\n",
        "    try:\n",
        "        os.mkdir(os.path.join('/dbfs/mnt/w210_capstone/all_animal_recognition/',f))\n",
        "    except FileExistsError:\n",
        "        print(\"File already exists\")"
      ]
    },
    {
      "cell_type": "code",
      "execution_count": null,
      "id": "18138adb",
      "metadata": {
        "id": "18138adb"
      },
      "outputs": [],
      "source": [
        "# Copy the training folders recursively using copy_tree\n",
        "hyena_train_src_path = '/dbfs/mnt/w210_capstone/hyena.coco/processed/train/'\n",
        "leopard_train_src_path = '/dbfs/mnt/w210_capstone/leopard.coco/processed/train/'\n",
        "giraffe_train_src_path = '/dbfs/mnt/w210_capstone/great_zebra_giraffe/individual_recognition/train/'"
      ]
    },
    {
      "cell_type": "code",
      "execution_count": null,
      "id": "eaea7858",
      "metadata": {
        "id": "eaea7858"
      },
      "outputs": [],
      "source": [
        "train_dest_path = '/dbfs/mnt/w210_capstone/all_animal_recognition/train/'"
      ]
    },
    {
      "cell_type": "code",
      "execution_count": null,
      "id": "5a3be903",
      "metadata": {
        "id": "5a3be903"
      },
      "outputs": [],
      "source": [
        "hyena_dest = copy_tree(hyena_train_src_path, train_dest_path)\n",
        "leopard_dest = copy_tree(leopard_train_src_path, train_dest_path)\n",
        "giraffe_dest = copy_tree(giraffe_train_src_path, train_dest_path)"
      ]
    },
    {
      "cell_type": "code",
      "execution_count": null,
      "id": "a6ae076d",
      "metadata": {
        "id": "a6ae076d"
      },
      "outputs": [],
      "source": [
        "# Copy the validation folders recursively using copy_tree\n",
        "hyena_val_src_path = '/dbfs/mnt/w210_capstone/hyena.coco/processed/val/'\n",
        "leopard_val_src_path = '/dbfs/mnt/w210_capstone/leopard.coco/processed/val/'\n",
        "giraffe_val_src_path = '/dbfs/mnt/w210_capstone/great_zebra_giraffe/individual_recognition/val/'"
      ]
    },
    {
      "cell_type": "code",
      "execution_count": null,
      "id": "72c92f84",
      "metadata": {
        "id": "72c92f84"
      },
      "outputs": [],
      "source": [
        "val_dest_path = '/dbfs/mnt/w210_capstone/all_animal_recognition/val/'"
      ]
    },
    {
      "cell_type": "code",
      "execution_count": null,
      "id": "299eadd4",
      "metadata": {
        "id": "299eadd4"
      },
      "outputs": [],
      "source": [
        "hyena_val_dest = copy_tree(hyena_val_src_path, val_dest_path)\n",
        "leopard_val_dest = copy_tree(leopard_val_src_path, val_dest_path)\n",
        "giraffe_val_dest = copy_tree(giraffe_val_src_path, val_dest_path)"
      ]
    },
    {
      "cell_type": "code",
      "execution_count": null,
      "id": "d5e60105",
      "metadata": {
        "id": "d5e60105"
      },
      "outputs": [],
      "source": [
        "# Copy the test folders recursively using copy_tree\n",
        "hyena_test_src_path = '/dbfs/mnt/w210_capstone/hyena.coco/processed/test/'\n",
        "leopard_test_src_path = '/dbfs/mnt/w210_capstone/leopard.coco/processed/test/'\n",
        "giraffe_test_src_path = '/dbfs/mnt/w210_capstone/great_zebra_giraffe/individual_recognition/test/'"
      ]
    },
    {
      "cell_type": "code",
      "execution_count": null,
      "id": "920e13b5",
      "metadata": {
        "id": "920e13b5"
      },
      "outputs": [],
      "source": [
        "test_dest_path = '/dbfs/mnt/w210_capstone/all_animal_recognition/test/'"
      ]
    },
    {
      "cell_type": "code",
      "execution_count": null,
      "id": "a82594cd",
      "metadata": {
        "id": "a82594cd"
      },
      "outputs": [],
      "source": [
        "hyena_test_dest = copy_tree(hyena_test_src_path, test_dest_path)\n",
        "leopard_test_dest = copy_tree(leopard_test_src_path, test_dest_path)\n",
        "giraffe_test_dest = copy_tree(giraffe_test_src_path, test_dest_path)"
      ]
    },
    {
      "cell_type": "code",
      "execution_count": null,
      "id": "ea880c93",
      "metadata": {
        "id": "ea880c93"
      },
      "outputs": [],
      "source": [
        "print(len(glob.glob('/dbfs/mnt/w210_capstone/great_zebra_giraffe/individual_recognition/train/*')))\n",
        "print(len(glob.glob('/dbfs/mnt/w210_capstone/great_zebra_giraffe/individual_recognition/train/*/*')))"
      ]
    },
    {
      "cell_type": "code",
      "execution_count": null,
      "id": "de4163b0",
      "metadata": {
        "id": "de4163b0"
      },
      "outputs": [],
      "source": [
        "print(len(glob.glob('/dbfs/mnt/w210_capstone/great_zebra_giraffe/individual_recognition/val/*')))\n",
        "print(len(glob.glob('/dbfs/mnt/w210_capstone/great_zebra_giraffe/individual_recognition/val/*/*')))"
      ]
    },
    {
      "cell_type": "code",
      "execution_count": null,
      "id": "798dc252",
      "metadata": {
        "id": "798dc252"
      },
      "outputs": [],
      "source": [
        "print(len(glob.glob('/dbfs/mnt/w210_capstone/great_zebra_giraffe/individual_recognition/test/*')))\n",
        "print(len(glob.glob('/dbfs/mnt/w210_capstone/great_zebra_giraffe/individual_recognition/test/*/*')))"
      ]
    }
  ],
  "metadata": {
    "jupytext": {
      "cell_metadata_filter": "-all",
      "main_language": "python",
      "notebook_metadata_filter": "-all"
    },
    "colab": {
      "name": "all_animal_folder_creation.ipynb",
      "provenance": [],
      "collapsed_sections": []
    }
  },
  "nbformat": 4,
  "nbformat_minor": 5
}