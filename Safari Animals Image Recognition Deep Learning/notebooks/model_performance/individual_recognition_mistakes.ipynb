{
  "cells": [
    {
      "cell_type": "code",
      "source": [
        "!pip install -q pyspark"
      ],
      "metadata": {
        "colab": {
          "base_uri": "https://localhost:8080/"
        },
        "id": "H3Jllgy4t2XU",
        "outputId": "c5efe1ea-e303-4731-ccd0-903e925f8aad"
      },
      "id": "H3Jllgy4t2XU",
      "execution_count": 1,
      "outputs": [
        {
          "output_type": "stream",
          "name": "stdout",
          "text": [
            "\u001b[K     |████████████████████████████████| 281.3 MB 36 kB/s \n",
            "\u001b[K     |████████████████████████████████| 199 kB 47.2 MB/s \n",
            "\u001b[?25h  Building wheel for pyspark (setup.py) ... \u001b[?25l\u001b[?25hdone\n"
          ]
        }
      ]
    },
    {
      "cell_type": "code",
      "source": [
        "!pip install -q findspark"
      ],
      "metadata": {
        "id": "2_KJunNelPjP"
      },
      "id": "2_KJunNelPjP",
      "execution_count": 2,
      "outputs": []
    },
    {
      "cell_type": "code",
      "execution_count": 3,
      "id": "edcade47",
      "metadata": {
        "id": "edcade47"
      },
      "outputs": [],
      "source": [
        "## Databricks notebook source\n",
        "import os\n",
        "import glob\n",
        "from PIL import Image\n",
        "import torch\n",
        "import torch.nn as nn\n",
        "import torchvision\n",
        "from torch.utils.data import Dataset, DataLoader\n",
        "from torchvision.datasets import ImageFolder\n",
        "from torch.multiprocessing import cpu_count\n",
        "import numpy as np\n",
        "from sklearn.metrics import accuracy_score\n",
        "import pandas as pd\n",
        "from sklearn.preprocessing import normalize\n",
        "\n",
        "from sklearn.neighbors import KNeighborsClassifier\n",
        "from sklearn.pipeline import Pipeline\n",
        "from sklearn.pipeline import make_pipeline\n",
        "from sklearn.preprocessing import StandardScaler\n",
        "from sklearn.decomposition import PCA\n",
        "from joblib import load, dump\n",
        "import findspark\n",
        "from pyspark.sql.functions import col, explode\n",
        "import matplotlib.pyplot as plt\n",
        "import seaborn as sns\n",
        "from matplotlib.pyplot import figure\n",
        "\n",
        "from pyspark.ml.evaluation import MulticlassClassificationEvaluator"
      ]
    },
    {
      "cell_type": "code",
      "source": [
        "# Mount Google drive to upload datasets\n",
        "from google.colab import drive\n",
        "drive.mount('/content/drive')"
      ],
      "metadata": {
        "colab": {
          "base_uri": "https://localhost:8080/"
        },
        "id": "Vpi0VhieNlDT",
        "outputId": "ddcf7586-f68d-46e6-cc5e-9daf7130cc01"
      },
      "id": "Vpi0VhieNlDT",
      "execution_count": 4,
      "outputs": [
        {
          "output_type": "stream",
          "name": "stdout",
          "text": [
            "Mounted at /content/drive\n"
          ]
        }
      ]
    },
    {
      "cell_type": "code",
      "source": [
        "# Create a Spark session to be able to analyze individual recognition model results\n",
        "findspark.init()\n",
        "\n",
        "from pyspark.sql import SparkSession\n",
        "spark = SparkSession.builder\\\n",
        "                    .master('local')\\\n",
        "                    .appName('Colab')\\\n",
        "                    .config('spark.ui.port', '4050')\\\n",
        "                    .getOrCreate()"
      ],
      "metadata": {
        "id": "W_lAr3g6ll_I"
      },
      "id": "W_lAr3g6ll_I",
      "execution_count": 5,
      "outputs": []
    },
    {
      "cell_type": "code",
      "execution_count": 6,
      "id": "11605b58",
      "metadata": {
        "lines_to_next_cell": 1,
        "colab": {
          "base_uri": "https://localhost:8080/"
        },
        "id": "11605b58",
        "outputId": "eff33c1c-75a0-470b-a1e5-13fcf94f2db4"
      },
      "outputs": [
        {
          "output_type": "execute_result",
          "data": {
            "text/plain": [
              "<All keys matched successfully>"
            ]
          },
          "metadata": {},
          "execution_count": 6
        }
      ],
      "source": [
        "# Load the embeddings from the previously trained SimCLR model into a new resnet model for inference\n",
        "resnet18_new = torchvision.models.resnet18()\n",
        "backbone_new = nn.Sequential(*list(resnet18_new.children())[:-1])\n",
        "ckpt = torch.load('/content/drive/My Drive/individual_rec_models/individ_rec_modelsandhelpers/simclrresnet18embed.pth')\n",
        "backbone_new.load_state_dict(ckpt['resnet18_parameters'])"
      ]
    },
    {
      "cell_type": "code",
      "source": [
        "# Get the full image paths for the training dataset for the individual hyenas, leopards, and giraffes\n",
        "hyena_train_paths = glob.glob('/content/drive/My Drive/hyena.coco/processed/train/*/*')\n",
        "leopard_train_paths = glob.glob('/content/drive/My Drive/leopard.coco/processed/train/*/*')\n",
        "giraffe_train_paths = glob.glob('/content/drive/My Drive/great_zebra_giraffe/individual_recognition/train/*/*')"
      ],
      "metadata": {
        "id": "aM3s7St36TqU"
      },
      "id": "aM3s7St36TqU",
      "execution_count": 7,
      "outputs": []
    },
    {
      "cell_type": "code",
      "source": [
        "# For each species, make dataframes of the training counts of individual animals\n",
        "hyena_train_df = pd.DataFrame({'image_path': hyena_train_paths, 'animal_id': [x.split('/')[-2] for x in hyena_train_paths]})\n",
        "leopard_train_df = pd.DataFrame({'image_path': leopard_train_paths, 'animal_id': [x.split('/')[-2] for x in leopard_train_paths]})\n",
        "giraffe_train_df = pd.DataFrame({'image_path': giraffe_train_paths, 'animal_id': [x.split('/')[-2] for x in giraffe_train_paths]})\n",
        "\n",
        "hyena_train_counts = hyena_train_df.groupby('animal_id').size()\n",
        "leopard_train_counts = leopard_train_df.groupby('animal_id').size()\n",
        "giraffe_train_counts = giraffe_train_df.groupby('animal_id').size()\n",
        "\n",
        "hyena_train_counts = hyena_train_counts.reset_index()\n",
        "hyena_train_counts = hyena_train_counts.rename(columns={0: 'animal_count'})\n",
        "hyena_train_counts['species'] = 'Crocuta crocuta'\n",
        "\n",
        "leopard_train_counts = leopard_train_counts.reset_index()\n",
        "leopard_train_counts = leopard_train_counts.rename(columns={0: 'animal_count'})\n",
        "leopard_train_counts['species'] = 'Panthera pardus'\n",
        "\n",
        "giraffe_train_counts = giraffe_train_counts.reset_index()\n",
        "giraffe_train_counts = giraffe_train_counts.rename(columns={0: 'animal_count'})\n",
        "giraffe_train_counts['species'] = 'Giraffa tippelskirchi'"
      ],
      "metadata": {
        "id": "mDu7Rgvg7R4v"
      },
      "id": "mDu7Rgvg7R4v",
      "execution_count": 8,
      "outputs": []
    },
    {
      "cell_type": "code",
      "source": [
        "# Create a dataframe of all species\n",
        "all_species = pd.concat([hyena_train_counts, leopard_train_counts, giraffe_train_counts], ignore_index=True)"
      ],
      "metadata": {
        "id": "WHZmU8PmzSao"
      },
      "id": "WHZmU8PmzSao",
      "execution_count": 9,
      "outputs": []
    },
    {
      "cell_type": "code",
      "source": [
        "# Plot the counts of training appearances\n",
        "bins = np.linspace(0, 70, 10)\n",
        "plt.style.use('tableau-colorblind10')\n",
        "figure(figsize=(10,4))\n",
        "value, bins, bars = plt.hist(np.array([hyena_train_counts.animal_count.tolist(), giraffe_train_counts.animal_count.tolist()], dtype=object), bins, label=['Crocuta crocuta', 'Giraffa tippelskirchi'],\n",
        "                             edgecolor='black')\n",
        "plt.legend(loc='upper right')\n",
        "plt.xlabel('Number of Training Appearances')\n",
        "plt.ylabel('Animal Count')\n",
        "plt.title('Frequency of Training Appearances by Species')\n",
        "plt.show()"
      ],
      "metadata": {
        "colab": {
          "base_uri": "https://localhost:8080/",
          "height": 295
        },
        "id": "0OSqpqPbzV2_",
        "outputId": "d6e8c872-ccbd-41a0-d2b4-8f2d9481bc53"
      },
      "id": "0OSqpqPbzV2_",
      "execution_count": 10,
      "outputs": [
        {
          "output_type": "display_data",
          "data": {
            "text/plain": [
              "<Figure size 720x288 with 1 Axes>"
            ],
            "image/png": "[encoded data removed]"
          },
          "metadata": {
            "needs_background": "light"
          }
        }
      ]
    },
    {
      "cell_type": "code",
      "source": [
        "plt.style.use('tableau-colorblind10')\n",
        "figure(figsize=(10,4))\n",
        "plt.hist(np.array(leopard_train_counts.animal_count.tolist(), dtype=object), bins=range(0,300,10),color='green', edgecolor='black')\n",
        "plt.xlabel('Number of Training Appearances')\n",
        "plt.ylabel('Animal Count')\n",
        "plt.title('Distribution of Panthera pardus Training Appearances')\n",
        "plt.show()"
      ],
      "metadata": {
        "colab": {
          "base_uri": "https://localhost:8080/",
          "height": 295
        },
        "id": "u4naq6kZGe6l",
        "outputId": "0a73b31b-a1cf-4712-9443-87ca50467e8e"
      },
      "id": "u4naq6kZGe6l",
      "execution_count": 11,
      "outputs": [
        {
          "output_type": "display_data",
          "data": {
            "text/plain": [
              "<Figure size 720x288 with 1 Axes>"
            ],
            "image/png": "[encoded data removed]"
          },
          "metadata": {
            "needs_background": "light"
          }
        }
      ]
    },
    {
      "cell_type": "code",
      "execution_count": 12,
      "id": "95f7a86b",
      "metadata": {
        "lines_to_next_cell": 1,
        "id": "95f7a86b"
      },
      "outputs": [],
      "source": [
        "def generate_embeddings(model, device, dl):\n",
        "    \"\"\"Return the embeddings and labels from the pretrained model backbone for all images in the dataloader\"\"\"\n",
        "    embeddings = []\n",
        "    labels = []\n",
        "    model = model.to(device)\n",
        "    model.eval()\n",
        "    with torch.no_grad():\n",
        "        for im, label in dl:\n",
        "          im = im.to(device)\n",
        "          embed = model(im).flatten(start_dim=1)\n",
        "          embeddings.append(embed)\n",
        "          labels.append(label)\n",
        "    embeddings = torch.cat(embeddings, 0)\n",
        "    embeddings = embeddings.cpu()\n",
        "    embeddings = normalize(embeddings)\n",
        "    embeddings = np.array(embeddings)\n",
        "    labels = np.array([x.item() for x in labels])\n",
        "    return embeddings, labels"
      ]
    },
    {
      "cell_type": "code",
      "source": [
        "device = torch.device('cuda' if torch.cuda.is_available() else 'cpu')"
      ],
      "metadata": {
        "id": "S954wsgS7V5I"
      },
      "id": "S954wsgS7V5I",
      "execution_count": 13,
      "outputs": []
    },
    {
      "cell_type": "code",
      "execution_count": 14,
      "id": "5bfcbfed",
      "metadata": {
        "lines_to_next_cell": 1,
        "id": "5bfcbfed"
      },
      "outputs": [],
      "source": [
        "# Define a transformation pipeline to be used to generate the embeddings\n",
        "class_transform = torchvision.transforms.Compose([\n",
        "            torchvision.transforms.Resize((224, 224)),\n",
        "            torchvision.transforms.ToTensor(),\n",
        "            torchvision.transforms.Normalize(mean=[0.485, 0.456,0.406], std=[0.229,0.224,0.225]),\n",
        "        ])"
      ]
    },
    {
      "cell_type": "code",
      "execution_count": 15,
      "id": "c91db622",
      "metadata": {
        "lines_to_next_cell": 1,
        "id": "c91db622"
      },
      "outputs": [],
      "source": [
        "class CustomDataset(Dataset):\n",
        "    \"\"\"A custom class to create the transformed datasets\"\"\"\n",
        "    \n",
        "    def __init__(self, root, folder, transform, mappings=None):\n",
        "        super().__init__()\n",
        "        # The path to the root directory and the specific folder in it\n",
        "        self.root = root\n",
        "        self.folder = folder\n",
        "        # The images to be included\n",
        "        self.img_dir = glob.glob(os.path.join(self.root, self.folder)+'/*/*.jpg')\n",
        "        \n",
        "        # Get the unique animal identifiers\n",
        "        self.animal_ids = self._get_animal_ids()\n",
        "        \n",
        "        if mappings:\n",
        "            # Create the mapping of animal string ids to integer values, using the passed mappings\n",
        "            # the passed mappings will be the same as the one produced by the training set\n",
        "            self.class_to_idx = mappings\n",
        "        else:\n",
        "            # Create a list of integers for the labels\n",
        "            self.animal_int_labels = [x for x in range(len(self.animal_ids))]\n",
        "            self.class_to_idx = dict(zip(self.animal_ids, self.animal_int_labels))\n",
        "        \n",
        "        # Define the preprocessing function\n",
        "        self.transform = transform\n",
        "    \n",
        "    def _get_animal_ids(self):\n",
        "        \"\"\"Create a set of unique animal ids in string form\"\"\"\n",
        "        animal_ids = os.listdir(self.root)\n",
        "        return list(animal_ids)\n",
        "            \n",
        "    def __len__(self):\n",
        "        return len(self.img_dir)\n",
        "    \n",
        "    def __getiteminternal__(self, idx):\n",
        "        # Get the path to the image\n",
        "        img_path = self.img_dir[idx]\n",
        "        im = Image.open(img_path).convert('RGB')\n",
        "        new_im = self.transform(im)\n",
        "        # Get the animal name from the full path\n",
        "        animal_name = img_path.split('/')[-2]\n",
        "        label = self.class_to_idx[animal_name]\n",
        "        # Return the two processed versions of the input image and a dummy label\n",
        "        return new_im, label\n",
        "    \n",
        "    def __getitem__(self, idx):\n",
        "        return self.__getiteminternal__(idx)"
      ]
    },
    {
      "cell_type": "code",
      "source": [
        "# Create the custom datasets of validation images for each species\n",
        "hyena_data_dict = load('/content/drive/My Drive/individual_rec_models/individ_rec_modelsandhelpers/hyena_id_map.joblib')\n",
        "# Swap the keys and values in the name map to enable looking up the string ids\n",
        "hyena_res = dict((v,k) for k,v in hyena_data_dict.items())\n",
        "\n",
        "leopard_data_dict = load('/content/drive/My Drive/individual_rec_models/individ_rec_modelsandhelpers/leopard_id_map.joblib')\n",
        "# Swap the keys and values in the name map to enable looking up the string ids\n",
        "leopard_res = dict((v,k) for k,v in leopard_data_dict.items())\n",
        "\n",
        "giraffe_data_dict = load('/content/drive/My Drive/individual_rec_models/individ_rec_modelsandhelpers/giraffe_id_map.joblib')\n",
        "# Swap the keys and values in the name map to enable looking up the string ids\n",
        "giraffe_res = dict((v,k) for k,v in giraffe_data_dict.items())"
      ],
      "metadata": {
        "id": "Sko7M5FPmVYN"
      },
      "id": "Sko7M5FPmVYN",
      "execution_count": 16,
      "outputs": []
    },
    {
      "cell_type": "code",
      "source": [
        "# Create the custom datasets of hyena, leopard, and giraffe test images\n",
        "hyena_test_ds = CustomDataset('/content/drive/My Drive/hyena.coco/processed/', 'test', transform=class_transform, mappings=hyena_res)\n",
        "leopard_test_ds = CustomDataset('/content/drive/My Drive/leopard.coco/processed/', 'test', transform=class_transform, mappings=leopard_res)\n",
        "giraffe_test_ds = CustomDataset('/content/drive/My Drive/great_zebra_giraffe/individual_recognition/', 'test', transform=class_transform, mappings=giraffe_res)"
      ],
      "metadata": {
        "id": "mptf7JPIm_5w"
      },
      "id": "mptf7JPIm_5w",
      "execution_count": 17,
      "outputs": []
    },
    {
      "cell_type": "code",
      "source": [
        "# Create dataloader objects for each species\n",
        "hyena_test_dl = DataLoader(hyena_test_ds, batch_size=1, num_workers=2, shuffle=False)\n",
        "leopard_test_dl = DataLoader(leopard_test_ds, batch_size=1, num_workers=2, shuffle=False)\n",
        "giraffe_test_dl = DataLoader(giraffe_test_ds, batch_size=1, num_workers=2, shuffle=False)"
      ],
      "metadata": {
        "id": "WCTE1-qmoL9N"
      },
      "id": "WCTE1-qmoL9N",
      "execution_count": 18,
      "outputs": []
    },
    {
      "cell_type": "code",
      "source": [
        "# Get the embeddings and labels for all of the test sets\n",
        "hyena_test_embeddings, hyena_test_labels = generate_embeddings(backbone_new, device, hyena_test_dl)\n",
        "leopard_test_embeddings, leopard_test_labels = generate_embeddings(backbone_new, device, leopard_test_dl)\n",
        "giraffe_test_embeddings, giraffe_test_labels = generate_embeddings(backbone_new, device, giraffe_test_dl)"
      ],
      "metadata": {
        "id": "xqlzZqU2o5Sn"
      },
      "id": "xqlzZqU2o5Sn",
      "execution_count": 19,
      "outputs": []
    },
    {
      "cell_type": "code",
      "source": [
        "# Load the pickled species specific KNN pipeline classifiers\n",
        "hyena_knn_pipe = load('/content/drive/My Drive/individual_rec_models/individ_rec_modelsandhelpers/Crocuta_crocuta_knn.joblib')\n",
        "leopard_knn_pipe = load('/content/drive/My Drive/individual_rec_models/individ_rec_modelsandhelpers/Panthera_pardus_knn.joblib')\n",
        "giraffe_knn_pipe = load('/content/drive/My Drive/individual_rec_models/individ_rec_modelsandhelpers/Giraffa_tippelskirchi_knn.joblib')"
      ],
      "metadata": {
        "id": "gbtRhTTEpsNE"
      },
      "id": "gbtRhTTEpsNE",
      "execution_count": 20,
      "outputs": []
    },
    {
      "cell_type": "code",
      "source": [
        "# Get the top 1 accuracy scores of each validation set\n",
        "hyena_test_preds = hyena_knn_pipe.predict(hyena_test_embeddings)\n",
        "leopard_test_preds = leopard_knn_pipe.predict(leopard_test_embeddings)\n",
        "giraffe_test_preds = giraffe_knn_pipe.predict(giraffe_test_embeddings)\n",
        "\n",
        "print(f'Hyena test accuracy score: {accuracy_score(hyena_test_preds, hyena_test_labels)}')\n",
        "print(f'Leopard test accuracy score: {accuracy_score(leopard_test_preds, leopard_test_labels)}')\n",
        "print(f'Giraffe test accuracy score: {accuracy_score(giraffe_test_preds, giraffe_test_labels)}')"
      ],
      "metadata": {
        "colab": {
          "base_uri": "https://localhost:8080/"
        },
        "id": "-txWlZAxqsTu",
        "outputId": "4ef3f34c-9cdc-488e-9fb4-5ada07b1a5e0"
      },
      "id": "-txWlZAxqsTu",
      "execution_count": 42,
      "outputs": [
        {
          "output_type": "stream",
          "name": "stdout",
          "text": [
            "Hyena test accuracy score: 0.42628205128205127\n",
            "Leopard test accuracy score: 0.6196136701337296\n",
            "Giraffe test accuracy score: 0.5806451612903226\n"
          ]
        }
      ]
    },
    {
      "cell_type": "code",
      "source": [
        "# Let's find out where the model is making mistakes\n",
        "hyena_df = pd.DataFrame({'img_paths': hyena_test_ds.img_dir, 'label': hyena_test_labels, 'predictions': hyena_test_preds})\n",
        "leopard_df = pd.DataFrame({'img_paths': leopard_test_ds.img_dir, 'label': leopard_test_labels, 'predictions': leopard_test_preds})\n",
        "giraffe_df = pd.DataFrame({'img_paths': giraffe_test_ds.img_dir, 'label': giraffe_test_labels, 'predictions': giraffe_test_preds})"
      ],
      "metadata": {
        "id": "H-SIloS8x863"
      },
      "id": "H-SIloS8x863",
      "execution_count": 22,
      "outputs": []
    },
    {
      "cell_type": "code",
      "source": [
        "# Make training dataframes of the image paths and then find the counts of the number of times each animal was seen\n",
        "hyena_train_df = pd.DataFrame({'img_paths': glob.glob('/content/drive/My Drive/hyena.coco/processed/train/*/*')})\n",
        "leopard_train_df = pd.DataFrame({'img_paths': glob.glob('/content/drive/My Drive/leopard.coco/processed/train/*/*')})\n",
        "giraffe_train_df = pd.DataFrame({'img_paths': glob.glob('/content/drive/My Drive/great_zebra_giraffe/individual_recognition/train/*/*')})"
      ],
      "metadata": {
        "id": "kNEWFWSky1T5"
      },
      "id": "kNEWFWSky1T5",
      "execution_count": 23,
      "outputs": []
    },
    {
      "cell_type": "code",
      "source": [
        "# For each training image, add a column for the individual animal name\n",
        "hyena_train_df['animal_id'] = hyena_train_df.apply(lambda x: x['img_paths'].split('/')[-2], axis=1)\n",
        "hyena_train_df['label'] = hyena_train_df.apply(lambda x: hyena_res.get(x['animal_id']), axis=1)\n",
        "\n",
        "leopard_train_df['animal_id'] = leopard_train_df.apply(lambda x: x['img_paths'].split('/')[-2], axis=1)\n",
        "leopard_train_df['label'] = leopard_train_df.apply(lambda x: leopard_res.get(x['animal_id']), axis=1)\n",
        "\n",
        "giraffe_train_df['animal_id'] = giraffe_train_df.apply(lambda x: x['img_paths'].split('/')[-2], axis=1)\n",
        "giraffe_train_df['label'] = giraffe_train_df.apply(lambda x: giraffe_res.get(x['animal_id']), axis=1)"
      ],
      "metadata": {
        "id": "3wVeH6_e0uVE"
      },
      "id": "3wVeH6_e0uVE",
      "execution_count": 24,
      "outputs": []
    },
    {
      "cell_type": "code",
      "source": [
        "# Import the training counts of the true and predicted labels\n",
        "hyena_train_counts = pd.DataFrame(pd.DataFrame(hyena_train_df['label'].value_counts()).reset_index())\n",
        "hyena_train_counts = hyena_train_counts.rename(columns={'label': 'train_count', 'index': 'label'})\n",
        "hyena_df = hyena_df.merge(hyena_train_counts, on='label', how='left')\n",
        "\n",
        "hyena_df = hyena_df.rename(columns={'train_count': 'true_label_train_count'})\n",
        "# Rejoin to add the count of the train frequency of the predicted label\n",
        "hyena_df = hyena_df.merge(hyena_train_counts, left_on='predictions', right_on='label')\n",
        "\n",
        "hyena_df = hyena_df.rename(columns={'label_x': 'label', 'train_count': 'predicted_label_train_count'})\n",
        "hyena_df = hyena_df.drop(columns='label_y')"
      ],
      "metadata": {
        "id": "7P3DrjwhMyDW"
      },
      "id": "7P3DrjwhMyDW",
      "execution_count": 25,
      "outputs": []
    },
    {
      "cell_type": "code",
      "source": [
        "# Import the training counts of the true and predicted labels\n",
        "leopard_train_counts = pd.DataFrame(pd.DataFrame(leopard_train_df['label'].value_counts()).reset_index())\n",
        "leopard_train_counts = leopard_train_counts.rename(columns={'label': 'train_count', 'index': 'label'})\n",
        "leopard_df = leopard_df.merge(leopard_train_counts, on='label', how='left')\n",
        "\n",
        "leopard_df = leopard_df.rename(columns={'train_count': 'true_label_train_count'})\n",
        "# Rejoin to add the count of the train frequency of the predicted label\n",
        "leopard_df = leopard_df.merge(leopard_train_counts, left_on='predictions', right_on='label')\n",
        "\n",
        "leopard_df = leopard_df.rename(columns={'label_x': 'label', 'train_count': 'predicted_label_train_count'})\n",
        "leopard_df = leopard_df.drop(columns='label_y')"
      ],
      "metadata": {
        "id": "Q4-yswsk4nJE"
      },
      "id": "Q4-yswsk4nJE",
      "execution_count": 26,
      "outputs": []
    },
    {
      "cell_type": "code",
      "source": [
        "# Import the training counts of the true and predicted labels\n",
        "giraffe_train_counts = pd.DataFrame(pd.DataFrame(giraffe_train_df['label'].value_counts()).reset_index())\n",
        "giraffe_train_counts = giraffe_train_counts.rename(columns={'label': 'train_count', 'index': 'label'})\n",
        "giraffe_df = giraffe_df.merge(giraffe_train_counts, on='label', how='left')\n",
        "\n",
        "giraffe_df = giraffe_df.rename(columns={'train_count': 'true_label_train_count'})\n",
        "# Rejoin to add the count of the train frequency of the predicted label\n",
        "giraffe_df = giraffe_df.merge(giraffe_train_counts, left_on='predictions', right_on='label')\n",
        "\n",
        "giraffe_df = giraffe_df.rename(columns={'label_x': 'label', 'train_count': 'predicted_label_train_count'})\n",
        "giraffe_df = giraffe_df.drop(columns='label_y')"
      ],
      "metadata": {
        "id": "N6jcxMl1Pzvw"
      },
      "id": "N6jcxMl1Pzvw",
      "execution_count": 27,
      "outputs": []
    },
    {
      "cell_type": "code",
      "source": [
        "# Filter the dataframes for where the models make mistakes\n",
        "hyena_incorrect = hyena_df[hyena_df.label != hyena_df.predictions]\n",
        "leopard_incorrect = leopard_df[leopard_df.label != leopard_df.predictions]\n",
        "giraffe_incorrect = giraffe_df[giraffe_df.label != giraffe_df.predictions]"
      ],
      "metadata": {
        "id": "bufItxwS6PTx"
      },
      "id": "bufItxwS6PTx",
      "execution_count": 28,
      "outputs": []
    },
    {
      "cell_type": "code",
      "source": [
        "# Get the proportion of test set images where the individual had > 10 training images\n",
        "print(f'{\"{:.3%}\".format(len(hyena_df[hyena_df.true_label_train_count > 10])/len(hyena_df))} of hyena test images belonged to animals with >10 training images')\n",
        "print(f'{\"{:.3%}\".format(len(leopard_df[leopard_df.true_label_train_count > 10])/len(leopard_df))} of leopard test images belonged to animals with >10 training images')\n",
        "print(f'{\"{:.3%}\".format(len(giraffe_df[giraffe_df.true_label_train_count > 10])/len(giraffe_df))} of giraffe test images belonged to animals with >10 training images')"
      ],
      "metadata": {
        "colab": {
          "base_uri": "https://localhost:8080/"
        },
        "id": "0U0pi_X2HhUW",
        "outputId": "5d5a14ef-d6b5-45e6-b7f4-b3e1eaa1f70d"
      },
      "id": "0U0pi_X2HhUW",
      "execution_count": 29,
      "outputs": [
        {
          "output_type": "stream",
          "name": "stdout",
          "text": [
            "51.603% of hyena test images belonged to animals with >10 training images\n",
            "78.752% of leopard test images belonged to animals with >10 training images\n",
            "17.742% of giraffe test images belonged to animals with >10 training images\n"
          ]
        }
      ]
    },
    {
      "cell_type": "code",
      "source": [
        "# Get the accuracy scores for >10 training images by species\n",
        "hyena_gtr_10 = hyena_df[hyena_df.true_label_train_count > 10]\n",
        "print(f'The top-1 accuracy score is {\"{:.3%}\".format(accuracy_score(hyena_gtr_10.predictions.tolist(), hyena_gtr_10.label.tolist()))} for hyenas with >10 training images')\n",
        "\n",
        "leopard_gtr_10 = leopard_df[leopard_df.true_label_train_count > 10]\n",
        "print(f'The top-1 accuracy score is {\"{:.3%}\".format(accuracy_score(leopard_gtr_10.predictions.tolist(), leopard_gtr_10.label.tolist()))} for leopards with >10 training images')\n",
        "\n",
        "giraffe_gtr_10 = giraffe_df[giraffe_df.true_label_train_count > 10]\n",
        "print(f'The top-1 accuracy score is {\"{:.3%}\".format(accuracy_score(giraffe_gtr_10.predictions.tolist(), giraffe_gtr_10.label.tolist()))} for giraffes with >10 training images')"
      ],
      "metadata": {
        "colab": {
          "base_uri": "https://localhost:8080/"
        },
        "id": "98m_jOOwI9YS",
        "outputId": "dc18f404-2a49-4dfa-9e7a-f22733e9839a"
      },
      "id": "98m_jOOwI9YS",
      "execution_count": 30,
      "outputs": [
        {
          "output_type": "stream",
          "name": "stdout",
          "text": [
            "The top-1 accuracy score is 67.081% for hyenas with >10 training images\n",
            "The top-1 accuracy score is 72.075% for leopards with >10 training images\n",
            "The top-1 accuracy score is 63.636% for giraffes with >10 training images\n"
          ]
        }
      ]
    },
    {
      "cell_type": "code",
      "source": [
        "# Let's look at the training frequencies of the true label where the models make mistakes\n",
        "hyena_incorrect['true_label_train_count'].hist(grid=False, bins=range(0,70,5))\n",
        "plt.xlabel('True Label Training Appearances')\n",
        "plt.ylabel('Count')\n",
        "title = plt.title('Hyena Incorrectly Labeled Training Distribution')\n",
        "title.set_color('black')"
      ],
      "metadata": {
        "colab": {
          "base_uri": "https://localhost:8080/",
          "height": 295
        },
        "id": "ksS0ez6o5-k2",
        "outputId": "f11d025d-78fc-4cd1-a658-2890b9e780ec"
      },
      "id": "ksS0ez6o5-k2",
      "execution_count": 31,
      "outputs": [
        {
          "output_type": "display_data",
          "data": {
            "text/plain": [
              "<Figure size 432x288 with 1 Axes>"
            ],
            "image/png": "[encoded data removed]"
          },
          "metadata": {
            "needs_background": "light"
          }
        }
      ]
    },
    {
      "cell_type": "code",
      "source": [
        "# Let's look at the training frequencies of the predicted label where the models make mistakes\n",
        "hyena_incorrect['predicted_label_train_count'].hist(grid=False, bins=range(0,70,5))\n",
        "plt.xlabel('Predicted Label Training Appearances')\n",
        "plt.ylabel('Count')\n",
        "plt.title('Hyena Incorrectly Labeled Training Distribution')"
      ],
      "metadata": {
        "colab": {
          "base_uri": "https://localhost:8080/",
          "height": 312
        },
        "id": "F0g74cQk7qR7",
        "outputId": "c7f0d665-17cb-411e-fc62-7ee29aff2544"
      },
      "id": "F0g74cQk7qR7",
      "execution_count": 32,
      "outputs": [
        {
          "output_type": "execute_result",
          "data": {
            "text/plain": [
              "Text(0.5, 1.0, 'Hyena Incorrectly Labeled Training Distribution')"
            ]
          },
          "metadata": {},
          "execution_count": 32
        },
        {
          "output_type": "display_data",
          "data": {
            "text/plain": [
              "<Figure size 432x288 with 1 Axes>"
            ],
            "image/png": "[encoded data removed]"
          },
          "metadata": {
            "needs_background": "light"
          }
        }
      ]
    },
    {
      "cell_type": "code",
      "source": [
        "# Let's look at the training frequencies of the true label where the models make mistakes\n",
        "leopard_incorrect['true_label_train_count'].hist(grid=False, bins=range(0,70,5))\n",
        "plt.xlabel('True Label Training Appearances')\n",
        "plt.ylabel('Count')\n",
        "plt.title('Leopard Incorrectly Labeled Training Distribution')"
      ],
      "metadata": {
        "colab": {
          "base_uri": "https://localhost:8080/",
          "height": 312
        },
        "id": "2rYLx_6_8IEW",
        "outputId": "bd2dcea3-62e3-4be2-b5ac-19b1266327bf"
      },
      "id": "2rYLx_6_8IEW",
      "execution_count": 33,
      "outputs": [
        {
          "output_type": "execute_result",
          "data": {
            "text/plain": [
              "Text(0.5, 1.0, 'Leopard Incorrectly Labeled Training Distribution')"
            ]
          },
          "metadata": {},
          "execution_count": 33
        },
        {
          "output_type": "display_data",
          "data": {
            "text/plain": [
              "<Figure size 432x288 with 1 Axes>"
            ],
            "image/png": "[encoded data removed]"
          },
          "metadata": {
            "needs_background": "light"
          }
        }
      ]
    },
    {
      "cell_type": "code",
      "source": [
        "# Let's look at the training frequencies of the predicted label where the models make mistakes\n",
        "leopard_incorrect['predicted_label_train_count'].hist(grid=False, bins=range(0,70,5))\n",
        "plt.xlabel('Predicted Label Training Appearances')\n",
        "plt.ylabel('Count')\n",
        "plt.title('Leopard Incorrectly Labeled Training Distribution')"
      ],
      "metadata": {
        "colab": {
          "base_uri": "https://localhost:8080/",
          "height": 312
        },
        "id": "TXJsalTj8O3r",
        "outputId": "1000f616-7980-45d5-e76c-9e42e0c938c9"
      },
      "id": "TXJsalTj8O3r",
      "execution_count": 34,
      "outputs": [
        {
          "output_type": "execute_result",
          "data": {
            "text/plain": [
              "Text(0.5, 1.0, 'Leopard Incorrectly Labeled Training Distribution')"
            ]
          },
          "metadata": {},
          "execution_count": 34
        },
        {
          "output_type": "display_data",
          "data": {
            "text/plain": [
              "<Figure size 432x288 with 1 Axes>"
            ],
            "image/png": "[encoded data removed]"
          },
          "metadata": {
            "needs_background": "light"
          }
        }
      ]
    },
    {
      "cell_type": "code",
      "source": [
        "# Let's look at the training frequencies of the true label where the models make mistakes\n",
        "giraffe_incorrect['true_label_train_count'].hist(grid=False, bins=range(0,70,5))\n",
        "plt.xlabel('True Label Training Appearances')\n",
        "plt.ylabel('Count')\n",
        "plt.title('Giraffe Incorrectly Labeled Training Distribution')"
      ],
      "metadata": {
        "colab": {
          "base_uri": "https://localhost:8080/",
          "height": 312
        },
        "id": "8237DQpo8eQW",
        "outputId": "044d5e0d-ded2-4c2c-d9bf-1eab140a61e8"
      },
      "id": "8237DQpo8eQW",
      "execution_count": 35,
      "outputs": [
        {
          "output_type": "execute_result",
          "data": {
            "text/plain": [
              "Text(0.5, 1.0, 'Giraffe Incorrectly Labeled Training Distribution')"
            ]
          },
          "metadata": {},
          "execution_count": 35
        },
        {
          "output_type": "display_data",
          "data": {
            "text/plain": [
              "<Figure size 432x288 with 1 Axes>"
            ],
            "image/png": "[encoded data removed]"
          },
          "metadata": {
            "needs_background": "light"
          }
        }
      ]
    },
    {
      "cell_type": "code",
      "source": [
        "# Let's look at the training frequencies of the predicted label where the models make mistakes\n",
        "giraffe_incorrect['predicted_label_train_count'].hist(grid=False, bins=range(0,70,5))\n",
        "plt.xlabel('Predicted Label Training Appearances')\n",
        "plt.ylabel('Count')\n",
        "plt.title('Giraffe Incorrectly Labeled Training Distribution')"
      ],
      "metadata": {
        "colab": {
          "base_uri": "https://localhost:8080/",
          "height": 312
        },
        "id": "L_KbzxJS8UpB",
        "outputId": "ee0012cf-b0c2-4034-efa8-50f940d39fa1"
      },
      "id": "L_KbzxJS8UpB",
      "execution_count": 36,
      "outputs": [
        {
          "output_type": "execute_result",
          "data": {
            "text/plain": [
              "Text(0.5, 1.0, 'Giraffe Incorrectly Labeled Training Distribution')"
            ]
          },
          "metadata": {},
          "execution_count": 36
        },
        {
          "output_type": "display_data",
          "data": {
            "text/plain": [
              "<Figure size 432x288 with 1 Axes>"
            ],
            "image/png": "[encoded data removed]"
          },
          "metadata": {
            "needs_background": "light"
          }
        }
      ]
    },
    {
      "cell_type": "code",
      "source": [
        "from pyspark.sql.functions import col\n",
        "from pyspark.sql.types import DoubleType"
      ],
      "metadata": {
        "id": "cZMMI1aUGHz2"
      },
      "id": "cZMMI1aUGHz2",
      "execution_count": 37,
      "outputs": []
    },
    {
      "cell_type": "code",
      "source": [
        "# Get the weighted precision and recall for each species\n",
        "hyenas = spark.createDataFrame(hyena_df)\n",
        "leopards = spark.createDataFrame(leopard_df)\n",
        "giraffes = spark.createDataFrame(giraffe_df)\n",
        "\n",
        "hyenas = hyenas.withColumn('label', col('label').cast(DoubleType())).withColumn('predictions', col('predictions').cast(DoubleType()))\n",
        "leopards = leopards.withColumn('label', col('label').cast(DoubleType())).withColumn('predictions', col('predictions').cast(DoubleType()))\n",
        "giraffes = giraffes.withColumn('label', col('label').cast(DoubleType())).withColumn('predictions', col('predictions').cast(DoubleType()))"
      ],
      "metadata": {
        "id": "Y1DCFdj4FBZe"
      },
      "id": "Y1DCFdj4FBZe",
      "execution_count": 38,
      "outputs": []
    },
    {
      "cell_type": "code",
      "source": [
        "evaluator = MulticlassClassificationEvaluator()\n",
        "evaluator.setPredictionCol(\"predictions\")\n",
        "\n",
        "print(evaluator.evaluate(hyenas, {evaluator.metricName: \"weightedPrecision\"}))\n",
        "print(evaluator.evaluate(hyenas, {evaluator.metricName: \"weightedRecall\"}), sep='/n')\n",
        "print(evaluator.evaluate(leopards, {evaluator.metricName: \"weightedPrecision\"}))\n",
        "print(evaluator.evaluate(leopards, {evaluator.metricName: \"weightedRecall\"}), sep='/n')\n",
        "print(evaluator.evaluate(giraffes, {evaluator.metricName: \"weightedPrecision\"}))\n",
        "print(evaluator.evaluate(giraffes, {evaluator.metricName: \"weightedRecall\"}))"
      ],
      "metadata": {
        "colab": {
          "base_uri": "https://localhost:8080/"
        },
        "id": "Q3DGyzxuFPqx",
        "outputId": "7263d369-699b-4cf2-8727-1c53cc2db2cf"
      },
      "id": "Q3DGyzxuFPqx",
      "execution_count": 39,
      "outputs": [
        {
          "output_type": "stream",
          "name": "stdout",
          "text": [
            "0.44109779109779085\n",
            "0.4262820512820509\n",
            "0.6131361520058631\n",
            "0.619613670133729\n",
            "0.7365591397849459\n",
            "0.5806451612903223\n"
          ]
        }
      ]
    },
    {
      "cell_type": "code",
      "source": [
        "# Load the dataframe of the images in common with the other capstone team\n",
        "shared_test = pd.read_csv('/content/drive/My Drive/individual_rec_models/matches_test_sets.csv')\n",
        "trial = shared_test[(shared_test.in_test == True) & (shared_test.both_testsets == True)]"
      ],
      "metadata": {
        "id": "_1QEqvzEImFl"
      },
      "id": "_1QEqvzEImFl",
      "execution_count": 40,
      "outputs": []
    },
    {
      "cell_type": "code",
      "source": [
        "# Make a dataframe from the test predictions, the test images, and the actual predictions and filter the test dataset for images also used by the other capstone team\n",
        "leopard_test_df = pd.DataFrame({'img_path': leopard_test_ds.img_dir, 'label': leopard_test_labels, 'predictions': leopard_test_preds})\n",
        "leopard_test_df['img_name'] = leopard_test_df.apply(lambda x: x['img_path'].split('/')[-1], axis=1)\n",
        "trial_imgs = trial['stripped'].tolist()\n",
        "leopard_test_df['compete_img'] = leopard_test_df.apply(lambda x: x['img_name'] in trial_imgs, axis=1)\n",
        "check = leopard_test_df[leopard_test_df.compete_img == True]\n",
        "\n",
        "# Find the top 1 accuracy score for the images used in the test set of both capstone teams\n",
        "accuracy_score(check.predictions.tolist(), check.label.tolist())"
      ],
      "metadata": {
        "id": "dPYgfbC7IBpi",
        "colab": {
          "base_uri": "https://localhost:8080/"
        },
        "outputId": "cb6e9775-2bfd-476e-a9dc-da7bb9653034"
      },
      "id": "dPYgfbC7IBpi",
      "execution_count": 41,
      "outputs": [
        {
          "output_type": "execute_result",
          "data": {
            "text/plain": [
              "0.5538461538461539"
            ]
          },
          "metadata": {},
          "execution_count": 41
        }
      ]
    }
  ],
  "metadata": {
    "jupytext": {
      "cell_metadata_filter": "-all",
      "main_language": "python",
      "notebook_metadata_filter": "-all"
    },
    "colab": {
      "name": "individual_recognition_mistakes.ipynb",
      "provenance": [],
      "collapsed_sections": [],
      "machine_shape": "hm"
    },
    "language_info": {
      "name": "python"
    },
    "kernelspec": {
      "name": "python3",
      "display_name": "Python 3"
    },
    "gpuClass": "standard",
    "accelerator": "GPU"
  },
  "nbformat": 4,
  "nbformat_minor": 5
}