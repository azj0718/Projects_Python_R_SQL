{
 "cells": [
  {
   "cell_type": "markdown",
   "metadata": {
    "deletable": false,
    "editable": false,
    "nbgrader": {
     "cell_type": "markdown",
     "checksum": "c256a997490a91f0708490a794d55a2b",
     "grade": false,
     "grade_id": "cell-76038a88b4d3af8c",
     "locked": true,
     "schema_version": 3,
     "solution": false
    }
   },
   "source": [
    "## Unit 9 Assignment - W200 Introduction to Data Science Programming, UC Berkeley MIDS\n",
    "\n",
    "Write code in this Jupyter Notebook to solve the following problems. Please upload this **Notebook** with your solutions to your GitHub repository in your SUBMISSIONS/week_10 folder by 11:59PM PST the night before class.  Do not upload the data files or the answer .csv (we want your notebook to make the answers when we run it)"
   ]
  },
  {
   "cell_type": "markdown",
   "metadata": {
    "deletable": false,
    "editable": false,
    "nbgrader": {
     "cell_type": "markdown",
     "checksum": "c23f7fc9d9970d3da7cc114e7d58d8de",
     "grade": false,
     "grade_id": "cell-ae5d30c3c3f47580",
     "locked": true,
     "schema_version": 3,
     "solution": false
    }
   },
   "source": [
    "This homework assignment is assigned during Week 10 but corresponds to the Unit #9 async."
   ]
  },
  {
   "cell_type": "markdown",
   "metadata": {
    "deletable": false,
    "editable": false,
    "nbgrader": {
     "cell_type": "markdown",
     "checksum": "6b52c4ac0395c1e0a459473b439e2153",
     "grade": false,
     "grade_id": "cell-5977c1d8f1d55d67",
     "locked": true,
     "schema_version": 3,
     "solution": false
    }
   },
   "source": [
    "## Objectives\n",
    "\n",
    "- Demonstrate how to import different data files\n",
    "- Get a small glimpse on how messy data can be\n",
    "- Design and implement an algorithm to standardize the information and fix the messiness\n",
    "- Work with Python data structures to sort and output the correct information\n",
    "- Demonstrate how to export required information to a .csv file"
   ]
  },
  {
   "cell_type": "markdown",
   "metadata": {
    "deletable": false,
    "editable": false,
    "nbgrader": {
     "cell_type": "markdown",
     "checksum": "2c14663ff2d7819ac8f8abe12c58dd5e",
     "grade": false,
     "grade_id": "cell-f3df226b1112e4f1",
     "locked": true,
     "schema_version": 3,
     "solution": false
    }
   },
   "source": [
    "## Reading and Writing Data (25 Points)\n",
    "\n",
    "In this assignment, you will be reading and writing data. Yes, finally some data science (or at least some exploratory data analysis)! In the week_10 assignment folder, there are three data files named: \n",
    "\n",
    "* data.csv\n",
    "* data.json\n",
    "* data.pkl\n",
    "\n",
    "These are three common file formats. You can run the following **on the bash command line** to see what is in each file (this will not work from a Windows prompt but will work in git bash):\n",
    "\n",
    "```sh\n",
    "head data.csv\n",
    "head data.pkl\n",
    "head data.json\n",
    "```\n",
    "\n",
    "You'll see that there is some method to the madness but that each file format has its peculiarities. Each file contains a portion of the total dataset that altogether comprises 100 records, so you need to **read in all of the files and combine them into some standard format** with which you are comfortable. Aim for something standard where each \"row\" is represented in the same format. **Name this object that contains the data for all three files combined ```full_data```**\n",
    "\n",
    "### Questions to answer (75 points: each question is worth 15 points):\n",
    "After you've standardized all of the data, report the following information: \n",
    "\n",
    "1. What are the unique countries in the dataset, sorted alphabetically?  Write to a new file called question_1.csv.\n",
    "2. What are the unique complete email domains in the dataset, sorted alphabetically?  Write to a new file called question_2.csv. \n",
    "3. What are the first names of everyone (including duplicates) that do not have a P.O. Box address, sorted alphabetically?  Write to a new file called question_3.csv.\n",
    "4. What are the full names of the first 5 people when you sort the data alphabetically by country?  Write to a new file called question_4.csv.\n",
    "5. What are the full names of the first 5 people when you sort the data numerically ascending by phone number?  Write to a new file called question_5.csv.\n",
    "\n",
    "We will be using a script to examine and grade your .csv files so please make sure: \n",
    "- The answers are all in one **column** with one list item per cell, sorted as stated in the question. I.e., looking at the .csv in a spreadsheet editor like Google Sheets, all answers would be in the 'A' column, with the first entry in A1, the second in A2, etc.\n",
    "- Please do not include a header; just the answers to the questions.\n",
    "- It is strongly recommended that you open each .csv file to ensure the answers are there and displayed correctly! \n",
    "- Don't include quotes around the list items.  I.e., strip the leading and trailing quotes, if necessary, from items when you write to the .csv files.  For example, a list entry should look like ```Spain``` rather than ```\"Spain\"```. One exception: Some country names do contain commas and it is ok to have quotes: ```\"\"``` around just those country names so that they will be in one cell in the .csv. \n",
    "\n",
    "\n",
    "In addition, show all of your work in this **Jupyter notebook**."
   ]
  },
  {
   "cell_type": "markdown",
   "metadata": {
    "deletable": false,
    "editable": false,
    "nbgrader": {
     "cell_type": "markdown",
     "checksum": "635f227045350bca94591906e3873ad2",
     "grade": false,
     "grade_id": "cell-ad4b864c26503a51",
     "locked": true,
     "schema_version": 3,
     "solution": false
    }
   },
   "source": [
    "### Assumptions\n",
    "\n",
    "- You might have to make decisions about the data. For example, what to do with ties or how to sort the phone numbers numerically. \n",
    "- Write your assumptions in this Jupyter notebook at the top of your code under the heading below that says ASSUMPTIONS\n",
    "- Please do some research before making an assumption (e.g. what is a domain name?); put your notes inside that assumption so we can understand your thought process. \n",
    "  - NOTE: If you don't know what an email domain is - do some research and write what you found in your assumptions; there is a correct answer to this question! \n",
    "- This is a good habit to do as you analyze data so that you can remember why you made the decisions you did and other people can follow your analysis later!"
   ]
  },
  {
   "cell_type": "markdown",
   "metadata": {
    "deletable": false,
    "editable": false,
    "nbgrader": {
     "cell_type": "markdown",
     "checksum": "57450666cda1cb410247d946aa6801fe",
     "grade": false,
     "grade_id": "cell-ac3d57f37fc71750",
     "locked": true,
     "schema_version": 3,
     "solution": false
    }
   },
   "source": [
    "### Restrictions\n",
    "You should use these standard library imports:\n",
    "\n",
    "```python\n",
    "import json\n",
    "import csv\n",
    "import pickle\n",
    "```\n",
    "\n",
    "Some of you may be familiar with a Python package called `pandas` which would greatly speed up this sort of file processing.  The point of this homework is to do the work manually.  You can use `pandas` to independently check your work if you are so inclined but do not use `pandas` as the sole solution method. Don't worry if you are not familiar with `pandas`.  We will do this homework as a class exercise using `pandas` in the near future."
   ]
  },
  {
   "cell_type": "markdown",
   "metadata": {
    "deletable": false,
    "editable": false,
    "nbgrader": {
     "cell_type": "markdown",
     "checksum": "86514456a34f356155016417a7d3a6e8",
     "grade": false,
     "grade_id": "cell-f8df9d752522f9cd",
     "locked": true,
     "schema_version": 3,
     "solution": false
    }
   },
   "source": [
    "### Hints (optional)\n",
    "\n",
    "- You may use regular expressions if you wish to extract data from each row. You do not need to use them if you do not want to or see a need to. The Python regular expression module is called `re`.\n",
    "- You may want to use the operator library or the sorted function to help in sorting.\n",
    "- There are many data structures and formats that you might use to solve this problem.  You will have to decide if you want to keep the information for each person together as one record or all the information for each of the fields together.\n",
    "- You can put these files into sensible structures such as lists or or dictionaries. The async covers how to do this for csv and json. For pickle this might help https://wiki.python.org/moin/UsingPickle \n",
    "- .items() or .key() can be useful for dictionaries\n",
    "- Once again, it is strongly recommended that you open each .csv file to ensure the answers are there and displayed correctly! "
   ]
  },
  {
   "cell_type": "code",
   "execution_count": 2,
   "metadata": {
    "deletable": false,
    "nbgrader": {
     "cell_type": "code",
     "checksum": "97005fc8cbd95ef4164db798e727a63f",
     "grade": true,
     "grade_id": "cell-360398972d1182f1",
     "locked": false,
     "points": 0,
     "schema_version": 3,
     "solution": true
    }
   },
   "outputs": [],
   "source": [
    "# Your name here\n",
    "\n",
    "### ASSUMPTIONS:\n",
    "# Please write the assumptions here that you made during your data analysis\n",
    "# Please keep this code at the very top of your code block so we can easily see it while grading!\n",
    "\n",
    "#I have not included the data.csv, data.json, and data.pkl files in my overall submission as defined in the instructions to \"not upload the data files\"\n",
    "#For question 1 - I have assumed that I will only provide the unique country names which means that any duplicates will be avoided.I have also assumed that the column of countries in the question_1.csv output needs to be in A-Z order through the sorted function. Just so that points are taken off, I also want to mention that it was assumed that length of the results doesn't matter when alphabetically ordering and the results in the csv output has been ordered based on the first letters of the word rather than the length.\n",
    "#For question 2 - I have assumed that unique emails refers to avoid any duplications and making sure that the domain is part of the complete email addressing, meaning that the format would need to include the correct mix of letters/numbers including periods before the \"@\" and correct mix of letters/numbers including periods after the \"@\". I have used the following regular expression (re.match(\"[A-Za-z0-9-_]+(.[A-Za-z0-9-_]+)*@[A-Za-z0-9-]+(.[A-Za-z0-9]+)*(.[A-Za-z]{2,})\",rows,re.IGNORECASE) to check for the format of the e-mail before and to allow one period for each sides after the \"@\". I have also assumed that ordering alphabetically means that the emails with an uppercase will be order first in alphabetical order and then emails in all lowercase will be alphabetically ordered next through the sorted function. Just so that points are taken off, I also want to mention that it was assumed that length of the results doesn't matter when alphabetically ordering and the results in the csv output has been ordered based on the first letters of the word rather than the length.\n",
    "#For question 3 - I have assumed that the first name will be any names before the first space within the full name by using the following: key.split()[0] and also only writing first names of those who didn't have a \"P.O.\" anywhere in their address data. I have also assumed that duplicates will be allowed so if more than one person has 'Mason' as the first name before a space from the full name, more than one 'Mason' will be included in the csv output. Just so that points are taken off, I also want to mention that it was assumed that length of the results doesn't matter when alphabetically ordering and the results in the csv output has been ordered based on the first letters of the word rather than the length.\n",
    "#For question 4 - I have assumed that I will write the first 5 full names into the csv output \"after\" the name to country data has been alphabetically sorted by country.\n",
    "#For question 5 - I have assumed that the phone numbers will be numerically ordered in ascending order from lowest amount of digits to highest amount of digits and from the lowest amount of digits, to start ordering from highest number to lowest number in each pool of the same number of digits. For example, if there are only 7 numbers then it will be order from highest number to lowest number and then, move onto ordering from highest number to lowest number for 8 digits and so on. I have made sure to sort by phone numbers through key=lambda x:x[1] and added the reverse=True for ascending order which means that the phone numbers will be ordered from lowest amount of digits to highest amount of digits and ordered from highest number to lowest number from the pool of the same amount of digits as stated in my previous statement.\n",
    "\n",
    "# YOU MAY USE ANY NUMBER OF CELLS AS YOU NEED\n",
    "# YOUR CODE HERE\n",
    "import json\n",
    "import csv\n",
    "import pickle\n",
    "import re\n",
    "\n",
    "name_data = []\n",
    "phone_data = []\n",
    "address_data = []\n",
    "city_data = []\n",
    "country_data = []\n",
    "email_data = []\n",
    "\n",
    "with open(\"data.csv\", encoding=\"utf-8\") as openfile:\n",
    "    csvReader = csv.DictReader(openfile)\n",
    "    #convert each csv row into python dict\n",
    "    for row in csvReader:\n",
    "        key1 = row['Name']\n",
    "        key2 = row['Phone']\n",
    "        key3 = row['Address']\n",
    "        key4 = row['City']\n",
    "        key5 = row['Country']\n",
    "        key6 = row['Email']\n",
    "        #add this python dict to json array\n",
    "        name_data.append(key1)\n",
    "        phone_data.append(key2)\n",
    "        address_data.append(key3)\n",
    "        city_data.append(key4)\n",
    "        country_data.append(key5)\n",
    "        email_data.append(key6)\n",
    "\n",
    "with open(\"data.json\", \"rb\") as openfile:\n",
    "    json_decoded = json.load(openfile)\n",
    "    for key, value in json_decoded.items():\n",
    "        if key == 'Name':\n",
    "            for rows in value.values():\n",
    "                name_data.append(rows)\n",
    "        if key == 'Phone':\n",
    "            for rows in value.values():\n",
    "                phone_data.append(rows)\n",
    "        if key == 'Address':\n",
    "            for rows in value.values():\n",
    "                address_data.append(rows)\n",
    "        if key == 'City':\n",
    "            for rows in value.values():\n",
    "                city_data.append(rows)\n",
    "        if key == 'Country':\n",
    "            for rows in value.values():\n",
    "                country_data.append(rows)\n",
    "        if key == 'Email':\n",
    "            for rows in value.values():\n",
    "                email_data.append(rows)\n",
    "\n",
    "\n",
    "with open(\"data.pkl\", \"rb\") as openfile:\n",
    "    pkl_file = pickle.load(openfile)\n",
    "    for key, value in pkl_file.items():\n",
    "        if key == 'Name':\n",
    "            for rows in value.values():\n",
    "                name_data.append(rows)\n",
    "        if key == 'Phone':\n",
    "            for rows in value.values():\n",
    "                phone_data.append(rows)\n",
    "        if key == 'Address':\n",
    "            for rows in value.values():\n",
    "                address_data.append(rows)\n",
    "        if key == 'City':\n",
    "            for rows in value.values():\n",
    "                city_data.append(rows)\n",
    "        if key == 'Country':\n",
    "            for rows in value.values():\n",
    "                country_data.append(rows)\n",
    "        if key == 'Email':\n",
    "            for rows in value.values():\n",
    "                email_data.append(rows)\n",
    "\n",
    "\n",
    "\n",
    "full_data = {\"Name\": name_data, \"Phone\": phone_data, \"Address\": address_data, \"City\": city_data, \"Country\": country_data, \"Email\": email_data}\n",
    "\n",
    "#print(full_data)\n",
    "\n",
    "#Question 1\n",
    "unique_countries = csv.writer(open(\"question_1.csv\", \"w\", newline=''))\n",
    "for key, value in full_data.items():\n",
    "    if key == 'Country':\n",
    "        for rows in sorted(set(value)):\n",
    "            unique_countries.writerow([rows])\n",
    "\n",
    "#Question 2\n",
    "unique_emails = csv.writer(open(\"question_2.csv\", \"w\", newline=''))\n",
    "for key, value in full_data.items():\n",
    "    if key == 'Email':\n",
    "        for rows in sorted(set(value)):\n",
    "            if re.match(\"[A-Za-z0-9-_]+(.[A-Za-z0-9-_]+)*@[A-Za-z0-9-]+(.[A-Za-z0-9]+)*(.[A-Za-z]{2,})\",rows,re.IGNORECASE):\n",
    "                #You may also change unique_emails.writerow([rows]) below to unique_emails.writerow([rows.split('@')[1]]) for only outputs after @ if required but I left the output to have full email addresses for the sake of a more robust answer because just the domain seemed insufficient\n",
    "                unique_emails.writerow([rows])\n",
    "\n",
    "#Question 3\n",
    "firstnames_without_pobox = csv.writer(open(\"question_3.csv\", \"w\", newline=''))\n",
    "pobox_lookup = dict(sorted(zip(name_data, address_data)))\n",
    "for key, value in pobox_lookup.items():\n",
    "    if 'P.O.' not in value:\n",
    "        first_name = key.split()[0]\n",
    "        firstnames_without_pobox.writerow([first_name])\n",
    "\n",
    "#Question 4\n",
    "firstfivepeople_bycountry = csv.writer(open(\"question_4.csv\", \"w\", newline=''))\n",
    "name_country = dict((zip(name_data, country_data)))\n",
    "sorted_namecountry = dict(sorted(name_country.items(), key=lambda x:x[1]))\n",
    "for key, value in list(sorted_namecountry.items())[:5]:\n",
    "    firstfivepeople_bycountry.writerow([key])\n",
    "\n",
    "#Question 5\n",
    "firstfivepeople_byphone = csv.writer(open(\"question_5.csv\", \"w\", newline=''))\n",
    "name_phone = dict((zip(name_data, phone_data)))\n",
    "sorted_namephone = dict(sorted(name_phone.items(),key=lambda x:x[1], reverse=True))\n",
    "for key, value in list(sorted_namephone.items())[:5]:\n",
    "    firstfivepeople_byphone.writerow([key])"
   ]
  },
  {
   "cell_type": "code",
   "execution_count": null,
   "metadata": {
    "deletable": false,
    "editable": false,
    "nbgrader": {
     "cell_type": "code",
     "checksum": "b72924766f14c62e1e59d2a7fa58fac9",
     "grade": true,
     "grade_id": "cell-74508624757f05eb",
     "locked": true,
     "points": 15,
     "schema_version": 3,
     "solution": false
    }
   },
   "outputs": [],
   "source": [
    "# Autograde cell - do not erase/delete"
   ]
  },
  {
   "cell_type": "code",
   "execution_count": null,
   "metadata": {
    "deletable": false,
    "editable": false,
    "nbgrader": {
     "cell_type": "code",
     "checksum": "61094a28e1c8a229ddc972e1decaaa7c",
     "grade": true,
     "grade_id": "cell-3279313500065f9f",
     "locked": true,
     "points": 10,
     "schema_version": 3,
     "solution": false
    }
   },
   "outputs": [],
   "source": [
    "# Autograde cell - do not erase/delete"
   ]
  },
  {
   "cell_type": "code",
   "execution_count": null,
   "metadata": {
    "deletable": false,
    "editable": false,
    "nbgrader": {
     "cell_type": "code",
     "checksum": "a9c88cdddbf58183e90a3778ad1fe5b4",
     "grade": true,
     "grade_id": "cell-3e8cd92ecc8d286f",
     "locked": true,
     "points": 15,
     "schema_version": 3,
     "solution": false
    }
   },
   "outputs": [],
   "source": [
    "# Autograde cell - do not erase/delete"
   ]
  },
  {
   "cell_type": "code",
   "execution_count": null,
   "metadata": {
    "deletable": false,
    "editable": false,
    "nbgrader": {
     "cell_type": "code",
     "checksum": "d6ead2aaf9e4412073744c9e8e307a9b",
     "grade": true,
     "grade_id": "cell-4c4abfb9df4037df",
     "locked": true,
     "points": 15,
     "schema_version": 3,
     "solution": false
    }
   },
   "outputs": [],
   "source": [
    "# Autograde cell - do not erase/delete"
   ]
  },
  {
   "cell_type": "code",
   "execution_count": null,
   "metadata": {
    "deletable": false,
    "editable": false,
    "nbgrader": {
     "cell_type": "code",
     "checksum": "e2db3c9236bccf54a1aca338f9a4607d",
     "grade": true,
     "grade_id": "cell-43e8a4cadc4f7f39",
     "locked": true,
     "points": 15,
     "schema_version": 3,
     "solution": false
    }
   },
   "outputs": [],
   "source": [
    "# Autograde cell - do not erase/delete"
   ]
  },
  {
   "cell_type": "code",
   "execution_count": null,
   "metadata": {
    "deletable": false,
    "editable": false,
    "nbgrader": {
     "cell_type": "code",
     "checksum": "cd709de9cced0764ed39edc63e0da0b9",
     "grade": true,
     "grade_id": "cell-e5bf902a45a8dd69",
     "locked": true,
     "points": 15,
     "schema_version": 3,
     "solution": false
    }
   },
   "outputs": [],
   "source": [
    "# Autograde cell - do not erase/delete"
   ]
  },
  {
   "cell_type": "code",
   "execution_count": null,
   "metadata": {
    "deletable": false,
    "editable": false,
    "nbgrader": {
     "cell_type": "code",
     "checksum": "b59a38d2f8056f5b6a3492a5e4525ea7",
     "grade": true,
     "grade_id": "cell-2f15bb137bfe5b16",
     "locked": true,
     "points": 15,
     "schema_version": 3,
     "solution": false
    }
   },
   "outputs": [],
   "source": [
    "# Autograde cell - do not erase/delete"
   ]
  }
 ],
 "metadata": {
  "anaconda-cloud": {},
  "kernelspec": {
   "display_name": "Python 3",
   "language": "python",
   "name": "python3"
  },
  "language_info": {
   "codemirror_mode": {
    "name": "ipython",
    "version": 3
   },
   "file_extension": ".py",
   "mimetype": "text/x-python",
   "name": "python",
   "nbconvert_exporter": "python",
   "pygments_lexer": "ipython3",
   "version": "3.8.5"
  }
 },
 "nbformat": 4,
 "nbformat_minor": 1
}
