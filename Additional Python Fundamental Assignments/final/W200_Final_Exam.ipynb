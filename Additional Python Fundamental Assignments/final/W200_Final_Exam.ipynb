{
 "cells": [
  {
   "cell_type": "markdown",
   "metadata": {},
   "source": [
    "# W200 Introduction to Data Science Programming, UC Berkeley MIDS\n",
    "\n",
    "\n",
    "## Instructions\n",
    "The final exam is designed to evaluate your grasp of Python theory as well as Python coding.\n",
    "\n",
    "- This is an individual exam.\n",
    "- You have 48 hours to complete the exam, starting from the point at which you first access it.\n",
    "- You will be graded on the quality of your answers.  Use clear, persuasive arguments based on concepts we covered in class.\n",
    "- Please double-click the markdown cells where it says \"Your answer here\" to input answers (if you need more cells please make them markdown cells)\n",
    "- Use only Python standard libraries, matplotlib, seaborn, NumPy and Pandas for this exam\n",
    "- Please push the exam to your github repo in the folder /SUBMISSIONS/final_exam/"
   ]
  },
  {
   "cell_type": "markdown",
   "metadata": {},
   "source": [
    "## YOUR NAME HERE\n",
    "Austin Jin"
   ]
  },
  {
   "cell_type": "markdown",
   "metadata": {},
   "source": [
    "## 1: Short Answer Questions (25 pts - each question = 5 pts)\n",
    "\n",
    "a) The following class ```Cart``` and method ```add_to_cart``` are parts of a larger program used by a mobile phone company.  The method ```add_to_cart``` will work when an object of type MobileDevice or of type ServiceContract is passed to it. State whether the method ```add_to_cart``` is a demonstration of the following items (yes/no) and the reasoning (1-2 sentences): \n",
    "\n",
    "    1. Inheritance\n",
    "    2. Polymorphism\n",
    "    3. Duck typing\n",
    "    4. Top-down design\n",
    "    5. Functional programming"
   ]
  },
  {
   "cell_type": "code",
   "execution_count": null,
   "metadata": {},
   "outputs": [],
   "source": [
    "# Method:\n",
    "class Cart():\n",
    "    \n",
    "    def __init__(self):\n",
    "        self.cart = []\n",
    "        self.total = 0\n",
    "    \n",
    "    def add_to_cart(self, item):\n",
    "        self.cart.append(item)\n",
    "        self.total += item.price"
   ]
  },
  {
   "cell_type": "markdown",
   "metadata": {},
   "source": [
    "- a) Your answer here\n",
    "\n",
    "\n",
    "1. Inheritance: No because the Cart class is not a derived (or child) class and does not inherit properties from any parent class. For inheritance to work, the class would need to be defined to take the functionalities/properties from a parent class and allow more to be added which isn't the case with the Cart class. In other words, a class needs to inherit properties from another class for inheritance and since we are not inheriting from any other class in this situation, inheritance is not applicable.\n",
    "\n",
    "2. Polymorphism: No because in polymorphism, another function should be defined with the same function name but with different parameters whereas in the add_to_cart method situation, only a single function is defined which means polymorphism is not applicable.\n",
    "\n",
    "3. Duck typing: Yes because this is a concept of dynamic typing in which the type of the object or variable is less important than the method it defines. Since the add_to_cart method can have different types of object as the parameter, duck typing is applicable. In other words, the add_to_cart method will work when either an object of type MobileDevice or of type ServiceContract is passed to it which means that the Class demonstrates duck typing since the type of an object is less important than the method it defines.\n",
    "\n",
    "4. Top-down design: Yes because the Cart class creates a list for the carts and starting total as 0, then adds onto the list and total through the add_to_cart method per the Object that was passed onto it. The class systematically breaks down the object being passed into smaller parts through the add_to_cart method and puts all of the little pieces together into the reserved __init__ method as a solution at the end. In other words, the Cart class is splitting the design from top to bottom by first defining the cart and then defining the functionalities it requires.\n",
    "\n",
    "5. Functional programming: No because the Cart class is using Object-Oriented Programming to store data into objects. Functional programm cannot store data into objects and can only be transformed by creating functions. In functional programming, the importance is given to the functions but for the Cart class, the important is on the data."
   ]
  },
  {
   "cell_type": "markdown",
   "metadata": {},
   "source": [
    "b) Suppose you have a long list of digits (0-9) that you want to write to a file.  From a storage standpoint, would it be more efficient to use ASCII or UTF-8 as an encoding? What is the most efficient way to create an even smaller file to store the information?"
   ]
  },
  {
   "cell_type": "markdown",
   "metadata": {},
   "source": [
    "- b) Your answer here\n",
    "\n",
    "Even though ASCII and UTF-8 encodings are the same when storing digits as both encodings are identical in this character range  with UTF-8 using 1 byte for the 0-9 numbers just like ASCII, I would like to point out that ASCII may be considered more efficient for the following reasons:\n",
    "\n",
    "In terms of a human readability perspective, UTF-8 uses variable number of bits to store a number which means that the number of bytes cannot be determined due to variable length encoding. By using ASCII as the encoding, complexity of multi-byte encoding would be avoided while retaining at least some human-readability.\n",
    "\n",
    "Another point would be that UTF-8 is filtered over several internet gateways. In case the written file will need to work through the internet, HTTP is a network protocol defined in terms of sequences of octets and it is essential that these sequences correspond to the ASCII encoding of words like \"GET\", \"POST\", \"Accept-Language\" and so on.\n",
    "\n",
    "As for the most efficient way to create an even smaller file to store the information, compression (e.g. Python's standard ZLIB module) would be a viable option since a simple Huffman compression would use around 3 bits per byte for this kind of data and if there are any periodicity patterns, then a modern compression algorithm can take it even further. It would also be worth taking advantage of the fact that long sequences of 10-based values can be presented as 2-base (binary) values."
   ]
  },
  {
   "cell_type": "markdown",
   "metadata": {},
   "source": [
    "c) Why is it important to sanity-check your data before you begin your analysis? What could happen if you don't?"
   ]
  },
  {
   "cell_type": "markdown",
   "metadata": {
    "collapsed": true
   },
   "source": [
    "- c) Your answer here\n",
    "\n",
    "In order for the analysis to be accurate and not skewed, sanity checks are conducted to ensure data accuracy and completeness (e.g. Before analysis, sanity checks are important in determining whether the data is accurate or not as well as checking for any datatype mismatches, variations in how the values were entered or even missing data values). Running sanity checks is an important part of the data wrangling process because the final analysis is only as accurate as the data, which means that it is extremely important to validate the data's accuracy and completeness. A sanity test would allow discovery of any blockers with the analysis and eventually lead to more accurate results if performed prior to the analysis phase. If a sanity check isn't perform prior to data analysis, then there may be wasted time and effort after finding out that the results are skewed or inaccurate due to the data being flawed since the beginning. Examining the data in advance through a sanity check would allow us to surface this data quality issue and then take steps to address it. The preliminary dataset cannot be always trusted so before beginning an analysis, it is essential to encode the data and remove any invalid type of data from the dataset. This lack of trust can arise from various reasons like how was the data collected, what is the source of the data, is the data biased, has data been intentionally tampered with and so on. Performing the first two steps, i.e., initial data analysis and exploratory data analysis, it is easy to identify issues with the data set and not spend any time making false and erroneous models and predictions which in a sense could lead to huge losses of time (e.g. missed deadlines), effort, and costs if sanity checks aren't pereformed prior to analysis. For example: In the context of web applications, there is a possibility of encountering a vulnerability known as Cross Site Scripting (XSS) if the data isn't sanitized."
   ]
  },
  {
   "cell_type": "markdown",
   "metadata": {},
   "source": [
    "d) How do you determine which variables in your dataset you should check for issues prior to starting an analysis? "
   ]
  },
  {
   "cell_type": "markdown",
   "metadata": {
    "collapsed": true
   },
   "source": [
    "- d) Your answer here\n",
    "\n",
    "By performing exploratory data analysis, you would obtain a basic description of the data and focus on getting some descriptive statistics such as checking the first and last rows of the dataframe, counting the number of values in certain columns, and even retrieving samples from the data in order to gain an initial feel of the data. After gathering some information on the data, you would also take a deeper look by querying and indexing the data to test basic hypotheses that you may have about the data. Once the data has been inspected, there would probably be some features that can be of interest to the analysis such as ones that can influence the analysis positively (e.g. with feature engineering and feature selection). By initially exploring the data, you would also gain an idea of the challenges that your data can pose such as missing values or outliers along with how to handle those challenges. Lastly, you can also discover patterns in your data by either visualizing the data with packages such as matplotlib and pandas, or by using specific functions to compute the correlation between attributes. It is also worth noting that determining which variables to check for issues in the dataset may be a situation-based question since we should be choosing the variables that will have the highest impacts on our analysis. For example: In a simple student data, we must make sure that important variables such as Student ID and Student Name are valid and to remove any values from the entry if considered invalid before conducting the analysis. Another way to determine which variables in the dataset to check for issues would be to visualize the completeness of the dataset by using methods such as missingno so that the completeness of the data is less of a problem if it is identified prior to analyzing any given dataset. It can be a disaster if decisions are made on incomplete data. Another way for determination would be to identify correlation between the availability of data for two or more fields such as taking a random sample from that dataset and plotting the data for identifying how frequently the data is missing."
   ]
  },
  {
   "cell_type": "markdown",
   "metadata": {},
   "source": [
    "e1) Explain why the following code prints what it does."
   ]
  },
  {
   "cell_type": "code",
   "execution_count": 1,
   "metadata": {},
   "outputs": [
    {
     "name": "stdout",
     "output_type": "stream",
     "text": [
      "<class 'function'>\n"
     ]
    }
   ],
   "source": [
    "def f(): pass\n",
    "print(type(f))"
   ]
  },
  {
   "cell_type": "markdown",
   "metadata": {},
   "source": [
    "- e1) Your answer here\n",
    "\n",
    "Because the argument to the type() call is a return value of the actual function f, which would return 'function'. In other words, we get the output as <class 'function'> because the type() will return the type of argument it has which in this case the argument to the function type() is f, which would be a function type in the Python language.\n",
    "\n",
    "To break down my response even further, the first statement \"def f(): pass\" defines a function which, when called, does nothing and returns nothing due to pass. The function type() looks at the object provided to it as the argument and returns the type of that object. For example, type(5) will return integer as the type of the object. The second statement \"print(type(f))\" gives f as the argument to the type function. Since f is a function, the type function returns the type as a function, hence the print statement returning <class 'function'> as shown in the results."
   ]
  },
  {
   "cell_type": "markdown",
   "metadata": {},
   "source": [
    "e2) Explain why the following code prints something different."
   ]
  },
  {
   "cell_type": "code",
   "execution_count": 2,
   "metadata": {},
   "outputs": [
    {
     "name": "stdout",
     "output_type": "stream",
     "text": [
      "<class 'NoneType'>\n"
     ]
    }
   ],
   "source": [
    "def f(): pass\n",
    "print(type(f()))"
   ]
  },
  {
   "cell_type": "markdown",
   "metadata": {},
   "source": [
    "- e2) Your answer here\n",
    "\n",
    "Because the argument to the type() call is a return value of the function call, which would return None. In other words, we will get the result as <class 'NoneType'> because we are passing the argument as f() to the type() function, which is a function itself whereas the previous example above would involved passing an instance of the function class.\n",
    "\n",
    "To break down my response even further, the object passed to the type function is f() and not f. Since the function doesn't return anything, the function call f() will not return anything. Therefore, when f() is passed as the argument to the type function, the code will print that argument to the type function as a \"None\" object. This is printed as <class 'NoneType'> as that is what the type of None object is in Python."
   ]
  },
  {
   "cell_type": "markdown",
   "metadata": {},
   "source": [
    "## 2:  General Coding Questions (15 pts - each question 5 pts)"
   ]
  },
  {
   "cell_type": "markdown",
   "metadata": {},
   "source": [
    "a) Using a list comprehension: Make a list of the squared numbers greater than 25 that are the square of non-negative integer less than 10. Fill in a list comprehension below so that we get this desired output."
   ]
  },
  {
   "cell_type": "code",
   "execution_count": 39,
   "metadata": {},
   "outputs": [
    {
     "data": {
      "text/plain": [
       "[36, 49, 64, 81]"
      ]
     },
     "execution_count": 39,
     "metadata": {},
     "output_type": "execute_result"
    }
   ],
   "source": [
    "# 2a) Your code here\n",
    "\n",
    "lst = [i*i for i in range(0,10) if i*i>25]\n",
    "\n",
    "lst"
   ]
  },
  {
   "cell_type": "markdown",
   "metadata": {},
   "source": [
    "b) Below is a data frame of customers that have different cooling systems. Your data science team lead wants the column ```cooling_system``` to be labeled with the integer numbers 1-4 instead of the text as shown below:\n",
    "\n",
    "- 1 = Air Conditioning / AC / Air Con\n",
    "- 2 = Heat Pump / HP\n",
    "- 3 = Evaporative Cooler / Evap Cooler\n",
    "- 4 = Fan\n",
    "\n",
    "Make a new column called ```cooling_type``` that maps the text values to the new numeric values. Filter out the values that are not included in the mapping above. Print out/display this new data frame. Be sure to list any assumptions also!"
   ]
  },
  {
   "cell_type": "code",
   "execution_count": 1,
   "metadata": {},
   "outputs": [
    {
     "data": {
      "text/html": [
       "<div>\n",
       "<style scoped>\n",
       "    .dataframe tbody tr th:only-of-type {\n",
       "        vertical-align: middle;\n",
       "    }\n",
       "\n",
       "    .dataframe tbody tr th {\n",
       "        vertical-align: top;\n",
       "    }\n",
       "\n",
       "    .dataframe thead th {\n",
       "        text-align: right;\n",
       "    }\n",
       "</style>\n",
       "<table border=\"1\" class=\"dataframe\">\n",
       "  <thead>\n",
       "    <tr style=\"text-align: right;\">\n",
       "      <th></th>\n",
       "      <th>Cust_Number</th>\n",
       "      <th>Cooling_System</th>\n",
       "    </tr>\n",
       "  </thead>\n",
       "  <tbody>\n",
       "    <tr>\n",
       "      <th>0</th>\n",
       "      <td>101</td>\n",
       "      <td>AC</td>\n",
       "    </tr>\n",
       "    <tr>\n",
       "      <th>1</th>\n",
       "      <td>102</td>\n",
       "      <td>Heat Pump</td>\n",
       "    </tr>\n",
       "    <tr>\n",
       "      <th>2</th>\n",
       "      <td>103</td>\n",
       "      <td>Air Con</td>\n",
       "    </tr>\n",
       "    <tr>\n",
       "      <th>3</th>\n",
       "      <td>104</td>\n",
       "      <td>Air Conditioning</td>\n",
       "    </tr>\n",
       "    <tr>\n",
       "      <th>4</th>\n",
       "      <td>105</td>\n",
       "      <td>Fan</td>\n",
       "    </tr>\n",
       "    <tr>\n",
       "      <th>5</th>\n",
       "      <td>106</td>\n",
       "      <td>None</td>\n",
       "    </tr>\n",
       "    <tr>\n",
       "      <th>6</th>\n",
       "      <td>107</td>\n",
       "      <td>Evap Cooler</td>\n",
       "    </tr>\n",
       "    <tr>\n",
       "      <th>7</th>\n",
       "      <td>108</td>\n",
       "      <td>None</td>\n",
       "    </tr>\n",
       "    <tr>\n",
       "      <th>8</th>\n",
       "      <td>109</td>\n",
       "      <td>AC</td>\n",
       "    </tr>\n",
       "    <tr>\n",
       "      <th>9</th>\n",
       "      <td>110</td>\n",
       "      <td>Evaporative Cooler</td>\n",
       "    </tr>\n",
       "    <tr>\n",
       "      <th>10</th>\n",
       "      <td>111</td>\n",
       "      <td>geothermal</td>\n",
       "    </tr>\n",
       "    <tr>\n",
       "      <th>11</th>\n",
       "      <td>112</td>\n",
       "      <td>1</td>\n",
       "    </tr>\n",
       "  </tbody>\n",
       "</table>\n",
       "</div>"
      ],
      "text/plain": [
       "    Cust_Number      Cooling_System\n",
       "0           101                  AC\n",
       "1           102           Heat Pump\n",
       "2           103             Air Con\n",
       "3           104    Air Conditioning\n",
       "4           105                 Fan\n",
       "5           106                None\n",
       "6           107         Evap Cooler\n",
       "7           108                None\n",
       "8           109                  AC\n",
       "9           110  Evaporative Cooler\n",
       "10          111          geothermal\n",
       "11          112                   1"
      ]
     },
     "execution_count": 1,
     "metadata": {},
     "output_type": "execute_result"
    }
   ],
   "source": [
    "import pandas\n",
    "\n",
    "# creating a data frame from scratch - list of lists\n",
    "\n",
    "data = [ [101, 'AC'], \n",
    "         [102, 'Heat Pump'], \n",
    "         [103, 'Air Con'], \n",
    "         [104, 'Air Conditioning'],\n",
    "         [105, 'Fan'],\n",
    "         [106, 'None'],\n",
    "         [107, 'Evap Cooler'],\n",
    "         [108, None],\n",
    "         [109, 'AC'],\n",
    "         [110, 'Evaporative Cooler'],\n",
    "         [111, 'geothermal'],\n",
    "         [112, 1]\n",
    "       ]\n",
    "\n",
    "# create a data frame with column names - list of lists\n",
    "\n",
    "col_names = ['Cust_Number', 'Cooling_System']\n",
    "df = pandas.DataFrame(data, columns=col_names)\n",
    "\n",
    "df"
   ]
  },
  {
   "cell_type": "code",
   "execution_count": 3,
   "metadata": {},
   "outputs": [
    {
     "data": {
      "text/html": [
       "<div>\n",
       "<style scoped>\n",
       "    .dataframe tbody tr th:only-of-type {\n",
       "        vertical-align: middle;\n",
       "    }\n",
       "\n",
       "    .dataframe tbody tr th {\n",
       "        vertical-align: top;\n",
       "    }\n",
       "\n",
       "    .dataframe thead th {\n",
       "        text-align: right;\n",
       "    }\n",
       "</style>\n",
       "<table border=\"1\" class=\"dataframe\">\n",
       "  <thead>\n",
       "    <tr style=\"text-align: right;\">\n",
       "      <th></th>\n",
       "      <th>Cust_Number</th>\n",
       "      <th>Cooling_System</th>\n",
       "      <th>cooling_type</th>\n",
       "    </tr>\n",
       "  </thead>\n",
       "  <tbody>\n",
       "    <tr>\n",
       "      <th>0</th>\n",
       "      <td>101</td>\n",
       "      <td>AC</td>\n",
       "      <td>1</td>\n",
       "    </tr>\n",
       "    <tr>\n",
       "      <th>1</th>\n",
       "      <td>102</td>\n",
       "      <td>Heat Pump</td>\n",
       "      <td>2</td>\n",
       "    </tr>\n",
       "    <tr>\n",
       "      <th>2</th>\n",
       "      <td>103</td>\n",
       "      <td>Air Con</td>\n",
       "      <td>1</td>\n",
       "    </tr>\n",
       "    <tr>\n",
       "      <th>3</th>\n",
       "      <td>104</td>\n",
       "      <td>Air Conditioning</td>\n",
       "      <td>1</td>\n",
       "    </tr>\n",
       "    <tr>\n",
       "      <th>4</th>\n",
       "      <td>105</td>\n",
       "      <td>Fan</td>\n",
       "      <td>4</td>\n",
       "    </tr>\n",
       "    <tr>\n",
       "      <th>6</th>\n",
       "      <td>107</td>\n",
       "      <td>Evap Cooler</td>\n",
       "      <td>3</td>\n",
       "    </tr>\n",
       "    <tr>\n",
       "      <th>8</th>\n",
       "      <td>109</td>\n",
       "      <td>AC</td>\n",
       "      <td>1</td>\n",
       "    </tr>\n",
       "    <tr>\n",
       "      <th>9</th>\n",
       "      <td>110</td>\n",
       "      <td>Evaporative Cooler</td>\n",
       "      <td>3</td>\n",
       "    </tr>\n",
       "  </tbody>\n",
       "</table>\n",
       "</div>"
      ],
      "text/plain": [
       "   Cust_Number      Cooling_System  cooling_type\n",
       "0          101                  AC             1\n",
       "1          102           Heat Pump             2\n",
       "2          103             Air Con             1\n",
       "3          104    Air Conditioning             1\n",
       "4          105                 Fan             4\n",
       "6          107         Evap Cooler             3\n",
       "8          109                  AC             1\n",
       "9          110  Evaporative Cooler             3"
      ]
     },
     "execution_count": 3,
     "metadata": {},
     "output_type": "execute_result"
    }
   ],
   "source": [
    "# 2b) Your code here\n",
    "\n",
    "#ASSUMPTIONS: There was no instructions to replace the Cooling_System column with the new cooling_type column so that I added the new column into the original dataframe. Also the instructions specifies to filter out the values that are not included in the mapping above which would mean any values that are not the following: ['Air Conditioning', 'AC', 'Air Con', 'Heat Pump', 'HP', 'Evaporative Cooler', 'Evap Cooler', 'Fan']\n",
    "\n",
    "#define function find_cooling_type to map cooling system to cooling type\n",
    "def find_cooling_type(x):\n",
    "    if x == 'Air Conditioning' or x =='AC' or x=='Air Con':\n",
    "        return 1\n",
    "    elif x =='Heat Pump' or x=='HP':\n",
    "        return 2\n",
    "    elif x=='Evaporative Cooler' or x=='Evap Cooler':\n",
    "        return 3\n",
    "    elif x=='Fan':\n",
    "        return 4\n",
    "\n",
    "\n",
    "#apply function find_cooling_type to column Cooling_System\n",
    "df['cooling_type'] = df['Cooling_System'].apply(find_cooling_type)\n",
    "df\n",
    "\n",
    "#drop nan values\n",
    "df.dropna(inplace=True)\n",
    "\n",
    "#convert data type of column cooling_type from float to integer\n",
    "df['cooling_type'] = df['cooling_type'].astype(int)\n",
    "\n",
    "#print the dataframe\n",
    "\n",
    "df"
   ]
  },
  {
   "cell_type": "markdown",
   "metadata": {},
   "source": [
    "c) From the dataframe below, use groupby in Pandas to show how many total delegates were obtained grouped by favorite color. Print this out."
   ]
  },
  {
   "cell_type": "code",
   "execution_count": 4,
   "metadata": {},
   "outputs": [
    {
     "data": {
      "text/html": [
       "<div>\n",
       "<style scoped>\n",
       "    .dataframe tbody tr th:only-of-type {\n",
       "        vertical-align: middle;\n",
       "    }\n",
       "\n",
       "    .dataframe tbody tr th {\n",
       "        vertical-align: top;\n",
       "    }\n",
       "\n",
       "    .dataframe thead th {\n",
       "        text-align: right;\n",
       "    }\n",
       "</style>\n",
       "<table border=\"1\" class=\"dataframe\">\n",
       "  <thead>\n",
       "    <tr style=\"text-align: right;\">\n",
       "      <th></th>\n",
       "      <th>name</th>\n",
       "      <th>delegates</th>\n",
       "      <th>color</th>\n",
       "      <th>state</th>\n",
       "    </tr>\n",
       "  </thead>\n",
       "  <tbody>\n",
       "    <tr>\n",
       "      <th>0</th>\n",
       "      <td>marco</td>\n",
       "      <td>165</td>\n",
       "      <td>blue</td>\n",
       "      <td>FL</td>\n",
       "    </tr>\n",
       "    <tr>\n",
       "      <th>1</th>\n",
       "      <td>jeb</td>\n",
       "      <td>0</td>\n",
       "      <td>red</td>\n",
       "      <td>FL</td>\n",
       "    </tr>\n",
       "    <tr>\n",
       "      <th>2</th>\n",
       "      <td>chris</td>\n",
       "      <td>0</td>\n",
       "      <td>white</td>\n",
       "      <td>NJ</td>\n",
       "    </tr>\n",
       "    <tr>\n",
       "      <th>3</th>\n",
       "      <td>donald</td>\n",
       "      <td>1543</td>\n",
       "      <td>white</td>\n",
       "      <td>NY</td>\n",
       "    </tr>\n",
       "    <tr>\n",
       "      <th>4</th>\n",
       "      <td>ted</td>\n",
       "      <td>559</td>\n",
       "      <td>blue</td>\n",
       "      <td>TX</td>\n",
       "    </tr>\n",
       "    <tr>\n",
       "      <th>5</th>\n",
       "      <td>john</td>\n",
       "      <td>161</td>\n",
       "      <td>red</td>\n",
       "      <td>OH</td>\n",
       "    </tr>\n",
       "  </tbody>\n",
       "</table>\n",
       "</div>"
      ],
      "text/plain": [
       "     name  delegates  color state\n",
       "0   marco        165   blue    FL\n",
       "1     jeb          0    red    FL\n",
       "2   chris          0  white    NJ\n",
       "3  donald       1543  white    NY\n",
       "4     ted        559   blue    TX\n",
       "5    john        161    red    OH"
      ]
     },
     "execution_count": 4,
     "metadata": {},
     "output_type": "execute_result"
    }
   ],
   "source": [
    "import pandas\n",
    "\n",
    "# creating a data frame from scratch - list of lists\n",
    "\n",
    "data = [ ['marco', 165, 'blue', 'FL'], \n",
    "         ['jeb', 0, 'red', 'FL'], \n",
    "         ['chris', 0, 'white', 'NJ'], \n",
    "         ['donald', 1543, 'white', 'NY'],\n",
    "         ['ted', 559, 'blue', 'TX'],\n",
    "         ['john', 161, 'red', 'OH']\n",
    "       ]\n",
    "\n",
    "# create a data frame with column names - list of lists\n",
    "\n",
    "col_names = ['name', 'delegates', 'color', 'state']\n",
    "df = pandas.DataFrame(data, columns=col_names)\n",
    "df"
   ]
  },
  {
   "cell_type": "code",
   "execution_count": 6,
   "metadata": {},
   "outputs": [
    {
     "data": {
      "text/html": [
       "<div>\n",
       "<style scoped>\n",
       "    .dataframe tbody tr th:only-of-type {\n",
       "        vertical-align: middle;\n",
       "    }\n",
       "\n",
       "    .dataframe tbody tr th {\n",
       "        vertical-align: top;\n",
       "    }\n",
       "\n",
       "    .dataframe thead th {\n",
       "        text-align: right;\n",
       "    }\n",
       "</style>\n",
       "<table border=\"1\" class=\"dataframe\">\n",
       "  <thead>\n",
       "    <tr style=\"text-align: right;\">\n",
       "      <th></th>\n",
       "      <th>color</th>\n",
       "      <th>total delegates</th>\n",
       "    </tr>\n",
       "  </thead>\n",
       "  <tbody>\n",
       "    <tr>\n",
       "      <th>0</th>\n",
       "      <td>blue</td>\n",
       "      <td>724</td>\n",
       "    </tr>\n",
       "    <tr>\n",
       "      <th>1</th>\n",
       "      <td>red</td>\n",
       "      <td>161</td>\n",
       "    </tr>\n",
       "    <tr>\n",
       "      <th>2</th>\n",
       "      <td>white</td>\n",
       "      <td>1543</td>\n",
       "    </tr>\n",
       "  </tbody>\n",
       "</table>\n",
       "</div>"
      ],
      "text/plain": [
       "   color  total delegates\n",
       "0   blue              724\n",
       "1    red              161\n",
       "2  white             1543"
      ]
     },
     "execution_count": 6,
     "metadata": {},
     "output_type": "execute_result"
    }
   ],
   "source": [
    "# 2c) Your code here\n",
    "\n",
    "#ASSUMPTIONS: There are no insturctions on how to present the dataframe so I have renamed the column with total number of delegates per color as \"total delegates\" and assumed that the \"total delegates were obtained grouped by favorite color\" meant the sum of all delegates for each color. I also assumed that there were no need to include name and state information as not defined in the instructions.\n",
    "\n",
    "#display total delegates grouped by favorite color\n",
    "df2 = df.groupby('color')['delegates'].sum()\n",
    "\n",
    "df2 = pandas.DataFrame(df2)\n",
    "df2 = df2.reset_index()\n",
    "df2 = df2.rename(columns = {'delegates':'total delegates'})\n",
    "\n",
    "df2"
   ]
  },
  {
   "cell_type": "markdown",
   "metadata": {},
   "source": [
    "## 3: Bitcoin coding problem (20 points):"
   ]
  },
  {
   "cell_type": "markdown",
   "metadata": {},
   "source": [
    "#### Bitcoin\n",
    "\n",
    "Consider a record of a one-time investment in bitcoin with value of that investment tracked monthly, provided as an (ordered) tuple of dictionaries, where each dictionary comprises one key for the month and corresponding one value for the value of the investment, and the first entry (Jan 2018) is the initial investment made on 01 Jan 2018, shown in `data` below.\n",
    "\n",
    "Write Python code to take such a record of any length (the below <i>data</i> is only a sample), and output a table/dataframe comprising a row for each month with columns for date, start balance, and return. **Print out this table/dataframe.**\n",
    "\n",
    "Also, visualize the record as two vertically arranged plots. \n",
    "- The top plot should show a line plot of start balance vs. month\n",
    "- The bottom plot should show a bar plot of return vs. month, with a black horizontal line at return=0, and bars color-coded such that positive returns are green and negative returns are red.  \n",
    "- The two plots' horizontal axes should align. Demonstrate that your code works by applying it to `data`.\n",
    "\n",
    "Notes: <br>\n",
    "- The gain for each period is the end balance minus the start balance. \n",
    "- The growth factor for each period is the end balance divided by the start balance.  \n",
    "- The return for each period is the growth factor minus 1."
   ]
  },
  {
   "cell_type": "code",
   "execution_count": 51,
   "metadata": {},
   "outputs": [
    {
     "data": {
      "text/plain": [
       "({'Jan 2018': 1000},\n",
       " {'Feb 2018': 1100},\n",
       " {'Mar 2018': 1400},\n",
       " {'Apr 2018': 700},\n",
       " {'May 2018': 800},\n",
       " {'Jun 2018': 500})"
      ]
     },
     "execution_count": 51,
     "metadata": {},
     "output_type": "execute_result"
    }
   ],
   "source": [
    "data = ({\"Jan 2018\":1000},{\"Feb 2018\":1100},{\"Mar 2018\":1400},{\"Apr 2018\":700},{\"May 2018\":800},{\"Jun 2018\":500})\n",
    "data"
   ]
  },
  {
   "cell_type": "code",
   "execution_count": 141,
   "metadata": {},
   "outputs": [
    {
     "data": {
      "text/plain": [
       "Text(0, 0.5, 'Return')"
      ]
     },
     "execution_count": 141,
     "metadata": {},
     "output_type": "execute_result"
    },
    {
     "data": {
      "image/png": "[encoded data removed]",
      "text/plain": [
       "<Figure size 800x960 with 2 Axes>"
      ]
     },
     "metadata": {
      "needs_background": "light"
     },
     "output_type": "display_data"
    },
    {
     "data": {
      "image/png": "[encoded data removed]",
      "text/plain": [
       "<Figure size 800x960 with 1 Axes>"
      ]
     },
     "metadata": {
      "needs_background": "light"
     },
     "output_type": "display_data"
    }
   ],
   "source": [
    "# 3) Your code here\n",
    "\n",
    "#Importing the libraries\n",
    "import pandas as pd\n",
    "import numpy as np\n",
    "import seaborn as sns\n",
    "import matplotlib.pyplot as plt\n",
    "\n",
    "#ASSUMPTIONS: I have recreated the dataset since return values weren't provided in the question and have calculated rough values for the visualization based on the first Note (The gain for each period is the end balance minus the start balance). In other words, the values in Return were calculated to be the gain from one month to the next month and obviously being 0 for January since that is the first month. I have also assumed that the gain for the first period in Jan 2018 would be 0 since no gains are recorded yet until the next period. \n",
    "#There were no instructions on changing the investment column to be \"starting balance\" so I have left the dataframe column names as-is.\n",
    "#There were also no instructions on adding a title, x-axis, y-axis, or labels so I didn't perform any formatting.\n",
    "#Also due to not enough information provided, I have assumed that as long as the values in the x-axis lines up for both graphs and I am able to set my data to be the \"df\" dataframe that I manually created, it would fulfill the following requirement: \"The two plots' horizontal axes should align. Demonstrate that your code works by applying it to data.\"\n",
    "\n",
    "df=pd.DataFrame({\"Date\":[\"Jan 2018\",\"Feb 2018\",\"Mar 2018\",\"Apr 2018\",\"May 2018\",\"Jun 2018\"], \"Investment\":[1000,1100,1400,700,800,500],\"Return\":[0,100,400,-300,-200,-500]})\n",
    "#df\n",
    "\n",
    "#lineplot and bar plot for date versus investment\n",
    "fig,ax=plt.subplots(2,1,figsize=(10,12),dpi=80)\n",
    "sns.lineplot(x='Date',y='Investment',data=df,ax=ax[0])\n",
    "#Please ignore this one barplot below as I only created it to take a look at how the returns would look before adding the necessary green color for positives and red color for negatives as well as the black horizontal line at return=0.\n",
    "sns.barplot(x='Date',y='Return',data=df)\n",
    "\n",
    "#For negative return on the bargraph to show as red and for positive returns to show as green\n",
    "fig,ax=plt.subplots(figsize=(10,12),dpi=80)\n",
    "\n",
    "g=df.plot.bar(x='Date',y='Return',color=(df['Return'] > 0).map({True: 'g', False: 'r'}),ax=ax,legend=None)\n",
    "g.axhline(y=0.0, color='black', linestyle='-', linewidth=2)\n",
    "plt.ylabel('Return')"
   ]
  },
  {
   "cell_type": "markdown",
   "metadata": {},
   "source": [
    "## 4: Clinical disease data (40 pts)\n",
    "\n",
    "Your boss comes to you Monday morning and says “I figured out our next step; we are going to pivot from an online craft store and become a data center for genetic disease information! I found **ClinVar** which is a repository that contains expert curated data, and it is free for the taking. This is a gold mine! Look at the file and tell me what gene and mutation combinations are classified as dangerous.”\n",
    "\n",
    "Make sure that you only give your boss the dangerous mutations and include:\n",
    "\n",
    "1) Gene name\n",
    "\n",
    "2) Mutation ID number\n",
    "\n",
    "3) Mutation Position (chromosome & position)\n",
    "\n",
    "4) Mutation value (reference & alternate bases)\n",
    "\n",
    "5) Clinical significance (CLNSIG)\n",
    "\n",
    "6) Disease that is implicated\n",
    "\n",
    "**Requirements**\n",
    "\n",
    "1) The deliverables are the final result as a dataframe with a short discussion of any specifics. (that is, what data you would present to your boss with the explanation of your results)\n",
    "\n",
    "2) Limit your output to the first 100 harmful mutations and tell your boss how many total harmful mutations were found in the file\n",
    "\n",
    "3) Use the instructor-modified \"clinvar_final.txt\" at this link: https://drive.google.com/file/d/1Zps0YssoJbZHrn6iLte2RDLlgruhAX1s/view?usp=sharing This file was modified to be not exactly the same as 'standard' .vcf file to test your data parsing skills. **This is a large file so do NOT upload it into your github repo!**\n",
    "\n",
    "4) Replace missing values in the dataframe with: 'Not_Given'. Print or display this (including the Not_Given count) for the column `CLNSIG` by using pandas value_counts() function (https://pandas.pydata.org/docs/reference/api/pandas.Series.value_counts.html).\n",
    "\n",
    "5) State in your answer how you define harmful mutations\n",
    "\n",
    "**6) Do your best on getting to above requirements and submit whatever you do before the deadline. If your work is incomplete be sure to describe the blockers that got in your way and how you might get past them (if given more time).**\n",
    "\n",
    "7) You can use as many code blocks as you need. Please clean-up your code and make it readable for the graders!\n",
    "\n",
    "**Hints** \n",
    "* We do not expect you to have any medical knowledge to solve this problem; look at the data, read the documentation provided, and write down your assumptions!\n",
    "\n",
    "* Correct pseudocode will give you partial credit so start with that. \n",
    "\n",
    "* Map out which fields you want to extract: Are they in the same place every time? What strategy will you use to robustly extract and filter your data of interest? How do you plan to handle missing data?\n",
    "\n",
    "* A good way to start is to print out each line, then practice parsing them to see if you can recover the fields of interest\n",
    "\n",
    "* A starting solution for parsing .vcfs can be found here: https://gist.github.com/dceoy/99d976a2c01e7f0ba1c813778f9db744 This solution does **NOT** work due to the changes we've made but can be modified to work. As with any solution that needs modifications, it may take less time to make your own solution!\n",
    "\n",
    "* Filter out junk and lines with no mutation data. Just focus on the data your need to deliver to your boss. \n",
    "\n",
    "* Pandas and NumPy parsers correctly recognize the end of each line in in the ClinVar file.\n",
    "\n",
    "* The unit of observation of this dataset is one row per mutation.\n",
    "\n",
    "* This is similar to a task that one of us tackled at work. You can answer the question with the information provided below or using the (partial) data dictionary file at this link: https://drive.google.com/file/d/1lx9yHdlcqmU_OlHiTUXKC_LQDqYBypH_/view?usp=sharing. Our goal is to see that you can put together a sensible plan, implement a solid parsing strategy, and document and justify the decisions that you made."
   ]
  },
  {
   "cell_type": "markdown",
   "metadata": {
    "collapsed": true
   },
   "source": [
    "### VCF file description (Summarized from version 4.1)\n",
    "\n",
    "```\n",
    "* The VCF specification:\n",
    "\n",
    "VCF is a text file format which contains meta-information lines, a header line, and then data lines each containing information about a position in the genome. The format also can contain genotype information on samples for each position.\n",
    "\n",
    "* Fixed fields:\n",
    "\n",
    "There are 8 fixed fields per record. All data lines are **tab-delimited**. In all cases, missing values are specified with a dot (‘.’). \n",
    "\n",
    "1. CHROM - chromosome number\n",
    "2. POS - position DNA nuceleotide count (bases) along the chromosome\n",
    "3. ID - The unique identifier for each mutation\n",
    "4. REF - reference base(s)\n",
    "5. ALT - alternate base(s)\n",
    "6. FILTER - filter status\n",
    "7. QUAL - quality\n",
    "8. INFO - a semicolon-separated series of keys with values in the format: <key>=<data>\n",
    "\n",
    "```\n",
    "### Applicable INFO field specifications\n",
    "\n",
    "```\n",
    "GENEINFO = <Gene name>\n",
    "CLNSIG =  <Clinical significance>\n",
    "CLNDN = <Disease name>\n",
    "```\n",
    "\n",
    "### Sample ClinVar data (vcf file format - not exactly the same as the file to download!)\n",
    "\n",
    "```\n",
    "##fileformat=VCFv4.1\n",
    "##fileDate=2019-03-19\n",
    "##source=ClinVar\n",
    "##reference=GRCh38\t\t\t\t\t\t\t\n",
    "#CHROM\tPOS\tID\tREF\tALT\tQUAL\tFILTER\tINFO\n",
    "1\t949523\trs786201005\tC\tT\t.\t.\tGENEINFO=ISG15;CLNSIG=5\n",
    "1\t949696\trs672601345\tC\tCG\t.\t.\tGENEINFO=ISG15;CLNSIG=5;CLNDN=Cancer\n",
    "1\t949739\trs672601312\tG\tT\t.\t.\tGENEINFO=ISG15;CLNDBN=Cancer\n",
    "1\t955597\trs115173026\tG\tT\t.\t.\tGENEINFO=AGRN;CLNSIG=2; CLNDN=Cancer\n",
    "1\t955619\trs201073369\tG\tC\t.\t.\tGENEINFO=AGG;CLNDN=Heart_dis \n",
    "1\t957640\trs6657048\tC\tT\t.\t.\tGENEINFO=AGG;CLNSIG=3;CLNDN=Heart_dis \n",
    "1\t976059\trs544749044\tC\tT\t.\t.\tGENEINFO=AGG;CLNSIG=0;CLNDN=Heart_dis \n",
    "```"
   ]
  },
  {
   "cell_type": "code",
   "execution_count": 140,
   "metadata": {},
   "outputs": [
    {
     "data": {
      "text/html": [
       "<div>\n",
       "<style scoped>\n",
       "    .dataframe tbody tr th:only-of-type {\n",
       "        vertical-align: middle;\n",
       "    }\n",
       "\n",
       "    .dataframe tbody tr th {\n",
       "        vertical-align: top;\n",
       "    }\n",
       "\n",
       "    .dataframe thead th {\n",
       "        text-align: right;\n",
       "    }\n",
       "</style>\n",
       "<table border=\"1\" class=\"dataframe\">\n",
       "  <thead>\n",
       "    <tr style=\"text-align: right;\">\n",
       "      <th></th>\n",
       "      <th>POS</th>\n",
       "      <th>ID</th>\n",
       "      <th>REF</th>\n",
       "      <th>INFO</th>\n",
       "      <th>GENEINFO</th>\n",
       "      <th>CLNSIG</th>\n",
       "      <th>CLNDN</th>\n",
       "    </tr>\n",
       "  </thead>\n",
       "  <tbody>\n",
       "    <tr>\n",
       "      <th>0</th>\n",
       "      <td>1014O42</td>\n",
       "      <td>475283</td>\n",
       "      <td>G</td>\n",
       "      <td>AF_ESP=0.00546;AF_EXAC=0.00165;AF_TGP=0.00619;...</td>\n",
       "      <td>ISG15:9636</td>\n",
       "      <td>Benign</td>\n",
       "      <td>Immunodeficiency_38_with_basal_ganglia_calcifi...</td>\n",
       "    </tr>\n",
       "    <tr>\n",
       "      <th>1</th>\n",
       "      <td>1O14122</td>\n",
       "      <td>542074</td>\n",
       "      <td>C</td>\n",
       "      <td>AF_ESP=0.00015;AF_EXAC=0.00010;ALLELEID=514926...</td>\n",
       "      <td>ISG15:9636</td>\n",
       "      <td>Uncertain_significance</td>\n",
       "      <td>Immunodeficiency_38_with_basal_ganglia_calcifi...</td>\n",
       "    </tr>\n",
       "    <tr>\n",
       "      <th>2</th>\n",
       "      <td>1014143</td>\n",
       "      <td>183381</td>\n",
       "      <td>C</td>\n",
       "      <td>ALLELEID=181485;CLNDISDB=MedGen:C4015293,OMIM:...</td>\n",
       "      <td>ISG15:9636</td>\n",
       "      <td>Pathogenic</td>\n",
       "      <td>Immunodeficiency_38_with_basal_ganglia_calcifi...</td>\n",
       "    </tr>\n",
       "    <tr>\n",
       "      <th>3</th>\n",
       "      <td>1014179</td>\n",
       "      <td>542075</td>\n",
       "      <td>C</td>\n",
       "      <td>ALLELEID=514896;CLNDISDB=MedGen:C4015293,OMIM:...</td>\n",
       "      <td>ISG15:9636</td>\n",
       "      <td>Uncertain_significance</td>\n",
       "      <td>Immunodeficiency_38_with_basal_ganglia_calcifi...</td>\n",
       "    </tr>\n",
       "    <tr>\n",
       "      <th>4</th>\n",
       "      <td>1014217</td>\n",
       "      <td>475278</td>\n",
       "      <td>C</td>\n",
       "      <td>AF_ESP=0.00515;AF_EXAC=0.00831;AF_TGP=0.00339;...</td>\n",
       "      <td>ISG15:9636</td>\n",
       "      <td>Benign</td>\n",
       "      <td>Immunodeficiency_38_with_basal_ganglia_calcifi...</td>\n",
       "    </tr>\n",
       "    <tr>\n",
       "      <th>...</th>\n",
       "      <td>...</td>\n",
       "      <td>...</td>\n",
       "      <td>...</td>\n",
       "      <td>...</td>\n",
       "      <td>...</td>\n",
       "      <td>...</td>\n",
       "      <td>...</td>\n",
       "    </tr>\n",
       "    <tr>\n",
       "      <th>97</th>\n",
       "      <td>1044134</td>\n",
       "      <td>128293</td>\n",
       "      <td>C</td>\n",
       "      <td>AF_ESP=0.01076;AF_EXAC=0.00345;AF_TGP=0.01098;...</td>\n",
       "      <td>AGRN:375790</td>\n",
       "      <td>Benign</td>\n",
       "      <td>Myasthenic_syndrome,_congenital,_8|not_specified</td>\n",
       "    </tr>\n",
       "    <tr>\n",
       "      <th>98</th>\n",
       "      <td>1044137</td>\n",
       "      <td>541180</td>\n",
       "      <td>T</td>\n",
       "      <td>AF_ESP=0.00038;AF_EXAC=0.00031;ALLELEID=514950...</td>\n",
       "      <td>AGRN:375790</td>\n",
       "      <td>Likely_benign</td>\n",
       "      <td>Myasthenic_syndrome,_congenital,_8</td>\n",
       "    </tr>\n",
       "    <tr>\n",
       "      <th>99</th>\n",
       "      <td>1044147</td>\n",
       "      <td>578507</td>\n",
       "      <td>G</td>\n",
       "      <td>ALLELEID=556526;CLNDISDB=MedGen:C3808739,OMIM:...</td>\n",
       "      <td>AGRN:375790</td>\n",
       "      <td>Uncertain_significance</td>\n",
       "      <td>Myasthenic_syndrome,_congenital,_8</td>\n",
       "    </tr>\n",
       "    <tr>\n",
       "      <th>100</th>\n",
       "      <td>1044176</td>\n",
       "      <td>263167</td>\n",
       "      <td>G</td>\n",
       "      <td>AF_ESP=0.00231;AF_EXAC=0.00261;AF_TGP=0.00200;...</td>\n",
       "      <td>AGRN:375790</td>\n",
       "      <td>Benign/Likely_benign</td>\n",
       "      <td>Myasthenic_syndrome,_congenital,_8|not_specified</td>\n",
       "    </tr>\n",
       "    <tr>\n",
       "      <th>101</th>\n",
       "      <td>1044179</td>\n",
       "      <td>474103</td>\n",
       "      <td>C</td>\n",
       "      <td>AF_ESP=0.00008;AF_EXAC=0.00003;ALLELEID=447019...</td>\n",
       "      <td>AGRN:375790</td>\n",
       "      <td>Likely_benign</td>\n",
       "      <td>Myasthenic_syndrome,_congenital,_8</td>\n",
       "    </tr>\n",
       "  </tbody>\n",
       "</table>\n",
       "<p>100 rows × 7 columns</p>\n",
       "</div>"
      ],
      "text/plain": [
       "         POS      ID REF                                               INFO  \\\n",
       "0    1014O42  475283   G  AF_ESP=0.00546;AF_EXAC=0.00165;AF_TGP=0.00619;...   \n",
       "1    1O14122  542074   C  AF_ESP=0.00015;AF_EXAC=0.00010;ALLELEID=514926...   \n",
       "2    1014143  183381   C  ALLELEID=181485;CLNDISDB=MedGen:C4015293,OMIM:...   \n",
       "3    1014179  542075   C  ALLELEID=514896;CLNDISDB=MedGen:C4015293,OMIM:...   \n",
       "4    1014217  475278   C  AF_ESP=0.00515;AF_EXAC=0.00831;AF_TGP=0.00339;...   \n",
       "..       ...     ...  ..                                                ...   \n",
       "97   1044134  128293   C  AF_ESP=0.01076;AF_EXAC=0.00345;AF_TGP=0.01098;...   \n",
       "98   1044137  541180   T  AF_ESP=0.00038;AF_EXAC=0.00031;ALLELEID=514950...   \n",
       "99   1044147  578507   G  ALLELEID=556526;CLNDISDB=MedGen:C3808739,OMIM:...   \n",
       "100  1044176  263167   G  AF_ESP=0.00231;AF_EXAC=0.00261;AF_TGP=0.00200;...   \n",
       "101  1044179  474103   C  AF_ESP=0.00008;AF_EXAC=0.00003;ALLELEID=447019...   \n",
       "\n",
       "        GENEINFO                  CLNSIG  \\\n",
       "0     ISG15:9636                  Benign   \n",
       "1     ISG15:9636  Uncertain_significance   \n",
       "2     ISG15:9636              Pathogenic   \n",
       "3     ISG15:9636  Uncertain_significance   \n",
       "4     ISG15:9636                  Benign   \n",
       "..           ...                     ...   \n",
       "97   AGRN:375790                  Benign   \n",
       "98   AGRN:375790           Likely_benign   \n",
       "99   AGRN:375790  Uncertain_significance   \n",
       "100  AGRN:375790    Benign/Likely_benign   \n",
       "101  AGRN:375790           Likely_benign   \n",
       "\n",
       "                                                 CLNDN  \n",
       "0    Immunodeficiency_38_with_basal_ganglia_calcifi...  \n",
       "1    Immunodeficiency_38_with_basal_ganglia_calcifi...  \n",
       "2    Immunodeficiency_38_with_basal_ganglia_calcifi...  \n",
       "3    Immunodeficiency_38_with_basal_ganglia_calcifi...  \n",
       "4    Immunodeficiency_38_with_basal_ganglia_calcifi...  \n",
       "..                                                 ...  \n",
       "97    Myasthenic_syndrome,_congenital,_8|not_specified  \n",
       "98                  Myasthenic_syndrome,_congenital,_8  \n",
       "99                  Myasthenic_syndrome,_congenital,_8  \n",
       "100   Myasthenic_syndrome,_congenital,_8|not_specified  \n",
       "101                 Myasthenic_syndrome,_congenital,_8  \n",
       "\n",
       "[100 rows x 7 columns]"
      ]
     },
     "execution_count": 140,
     "metadata": {},
     "output_type": "execute_result"
    }
   ],
   "source": [
    "# 4) Your code here - can use as many code blocks as you would like\n",
    "\n",
    "#Please uncomment each step to run the code and then comment the step out prior to running the next step to ensure the accurate flow up to the final results that will be presented to the boss.\n",
    "\n",
    "#Step 1 - Since the instructor-modified \"clinvar_final.txt\" dataset is in text file format, my first step was to read into the vcf text file and return a csv file with the following column headers: CHROM as string type, POS as integer type, ID as string type, ALT as string type, QUAL as string type, FILTER as string type, and INFO as string type. Every column was seperated by a tab and the #CHROM column was renamed as CHROM without the #.\n",
    "\n",
    "#import pandas as pd\n",
    "#df = pd.read_csv('clinvar_final.txt', comment='#', sep='\\t')\n",
    "#df\n",
    "\n",
    "\n",
    "#Step 2 - Creating the initial dataframe after parsing the clinvar_final.txt file and making sure that the dataframe contains a column for each of the required columns below:\n",
    "#Gene name (Column Name = GENEINFO)\n",
    "#Mutation ID number (Column Name = ID)\n",
    "#Mutation Position (Column Name = POS)\n",
    "#Mutation Value (Column Name = REF)\n",
    "#Clinical Significant (Column Name = CLNSIG)\n",
    "#Disease that is implicated (Column Name = CLNDN)\n",
    "\n",
    "#df['GENEINFO'] = df['INFO'].str.extract('GENEINFO=([^;]*)')\n",
    "#df['CLNSIG'] = df['INFO'].str.extract('CLNSIG=([^;]*)')\n",
    "#df['CLNDN'] = df['INFO'].str.extract('CLNDN=([^;]*)')\n",
    "#df = pandas.DataFrame(df)\n",
    "#df\n",
    "\n",
    "\n",
    "#Step3 - Removing any columns that won't be need for the analysis nor required for the final report that will be shown to the boss\n",
    "\n",
    "#df.drop('FILTER', inplace=True, axis=1)\n",
    "#df.drop('QUAL', inplace=True, axis=1)\n",
    "#df.drop('ALT', inplace=True, axis=1)\n",
    "#df.drop('CHROM', inplace=True, axis=1)\n",
    "#df\n",
    "\n",
    "\n",
    "#Step 3 - Printing each of the statements below to test the parsed data and analyze the columns/rows for any discrepancies\n",
    "\n",
    "#print(df.columns)\n",
    "#print(df[['ID', 'POS', 'ALT']].head())\n",
    "#print(df['GENEINFO'].head())\n",
    "#print(df['CLNSIG'].head())\n",
    "#print(df['CLNDN'].head())\n",
    "#print(df[['ID', 'POS', 'ALT', 'GENEINFO', 'CLNSIG', 'CLNDN']].head())\n",
    "\n",
    "\n",
    "#Step 4 - Filling missing values in the dataframe with \"Not_Given\" and displaying the value counts for the CLNSIG column including the count of the \"Not_Given\" values\n",
    "\n",
    "#df.fillna(\"Not_Given\", inplace = True)\n",
    "#df[\"CLNSIG\"].value_counts(dropna=True)\n",
    "\n",
    "\n",
    "#Step 5 - Filter the dataframe to show gene and mutation combinations that are classified as dangerous. If the Gene and mutation combination had a definite 'Pathogenic' in the CLNSIG section, that would mean that the combination causes a disease and be considered dangerous. I have specifically filtered the dataframe to be Pathogenic and not the other pathogenic options under the CLNSIG due to variations that didn't seem 100% definite. For example, \"Likely pathogenic\" means that the combination is likely to be pathogenic and not definitely pathogenic as in \"Pathogenic\". The dataframe was also filtered to not include any gene and mutation combinations that had \"Not_Given\" for any of the columns so that each row in the final results had concrete information to provide to the boss. \n",
    "#results_for_boss = df.loc[(df['CLNSIG'] == 'Pathogenic')]\n",
    "#results_for_boss = df.loc[(df['POS'] != 'Not_Given')]\n",
    "#results_for_boss = df.loc[(df['ID'] != 'Not_Given')]\n",
    "#results_for_boss = df.loc[(df['REF'] != 'Not_Given')]\n",
    "#results_for_boss = df.loc[(df['INFO'] != 'Not_Given')]\n",
    "#results_for_boss = df.loc[(df['GENEINFO'] != 'Not_Given')]\n",
    "#results_for_boss = df.loc[(df['CLNDN'] != 'Not_Given')]\n",
    "\n",
    "results_for_boss.iloc[0:100]\n"
   ]
  },
  {
   "cell_type": "markdown",
   "metadata": {},
   "source": [
    "4) Please Write your assumptions here:\n",
    "\n",
    "#I have removed the clinvar_final.txt file right before submission because it was mentioned in the instructions to not upload into the github repo so the graders may need to upload the text file on their end prior to testing my code steps.\n",
    "\n",
    "#Gene and mutation combinations would mean that the Gene name (Column Name = GENEINFO) and Mutation ID number (Column Name = ID) / Mutation Position (Column Name = POS) / Mutation Value (Column Name = REF) are included in the results.\n",
    "\n",
    "#Classified as dangerous would mean that the value in the CLNSIG for the combination is 'Pathogenic' which defines as 100% likely to cause a disease. Any other value in the CLNSIG was filtered out due to uncertainty in the wording such as \"Likely pathogenic\" which isn't a definite value and unclear on how likely the combintion is to be pathogenic. The same logic applies to the other values in the CLNSIG for being filtered out.\n",
    "\n",
    "#The instructions didn't ask for any specific order or sorting so I have just presented the results to be the first 100 rows and have provided the actual total number of harmal mutations that had 'Pathogenic' in the CLNSIG column which was 12313 as shown in the value_counts statement from Step 4.\n",
    "\n",
    "#The 4th requirements asks to replacing missing values in the dataframe with 'Not_Given' and display the count for the amount of Not_Given in the column CLNSIG. It does not specify to only show the counts for 'Not_Given' so I have presented the counts for all values in CLNSIG and not just 'Not_Given'.\n",
    "\n",
    "#There were no instructions on whether to put each step of receiving to the final results in a number of code blocks or all in one code block so I have added all of my code into one code block. It is my assumption that the grader will perform the steps in order of uncomment out the code for Step 1, run the code, then comment out the code for Step 1 and uncomment out the code for Step 2 and run, and so on."
   ]
  },
  {
   "cell_type": "markdown",
   "metadata": {},
   "source": [
    "4) Findings / What would you present to your boss?\n",
    "\n",
    "In terms of the findings, I will be presenting a filtered dataframe (shown in Step 5) that shows the first 100 Gene and Mutation combination that is classified as dangerous which would mean that the clinical significance is pathogenic. The final dataframe also filtered out any rows that had 'Not_Given' to make sure that the first 100 combinations had concrete information provided for each column. As required from the list of columns that needs to be included, below are the names of each column that will be part of the results:\n",
    "\n",
    "#Gene name (Column Name = GENEINFO)\n",
    "#Mutation ID number (Column Name = ID)\n",
    "#Mutation Position (Column Name = POS)\n",
    "#Mutation Value (Column Name = REF)\n",
    "#Clinical Significant (Column Name = CLNSIG)\n",
    "#Disease that is implicated (Column Name = CLNDN)\n",
    "#Information (Column Name = INFO)\n",
    "\n",
    "Even though the INFO column wasn't required, I have made sure to include that column to provide some additional properties information such as allele count in genotypes, allele frequency, ancestral allele, RMS base quality at a certain position, number of samples with data, and more. Otherwise, the unnecessary columns such as \"FILTER\", \"QUAL\", \"ALT\", and \"CHROM\" were filtered out for more concise reporting purposes. Even though it wasn't part of the instructions, I would like to add a statement on what I would've also further done for a real-life scenario which would be to write the results into a csv output or any other type of output in case the boss provided preferences."
   ]
  }
 ],
 "metadata": {
  "kernelspec": {
   "display_name": "Python 3",
   "language": "python",
   "name": "python3"
  },
  "language_info": {
   "codemirror_mode": {
    "name": "ipython",
    "version": 3
   },
   "file_extension": ".py",
   "mimetype": "text/x-python",
   "name": "python",
   "nbconvert_exporter": "python",
   "pygments_lexer": "ipython3",
   "version": "3.8.5"
  }
 },
 "nbformat": 4,
 "nbformat_minor": 1
}
