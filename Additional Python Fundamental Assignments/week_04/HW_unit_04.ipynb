{
 "cells": [
  {
   "cell_type": "markdown",
   "metadata": {},
   "source": [
    "## Week 4 Assignment - W200 Introduction to Data Science Programming, UC Berkeley MIDS"
   ]
  },
  {
   "cell_type": "markdown",
   "metadata": {},
   "source": [
    "Write code in this jupyter Notebook to solve the following problems. Please upload this **Notebook** with your solutions to your GitHub repository in your SUBMISSIONS/week_04 folder by 11:59PM PST the night before class."
   ]
  },
  {
   "cell_type": "markdown",
   "metadata": {},
   "source": [
    "## Objectives:\n",
    "\n",
    "- More practice with for & while loops, if statements and gathering user inputs\n",
    "- Demonstrate use of Python list comprehensions.\n",
    "- Understand the pseudo-coding and algorithm complexities"
   ]
  },
  {
   "cell_type": "markdown",
   "metadata": {},
   "source": [
    "## General Guidelines:\n",
    "\n",
    "- In each code block, do NOT delete the # Q4-x-x comment at the top of a cell (it is needed for the auto-grading!)\n",
    "- Limited user input validation and error checking is encouraged on this assignment. Each question below will indicate the type of input that you can expect. (for example, if the question states the input will be an integer, you can expect the user to input an integer and do not need to check to ensure it is an integer versus a float or a string)\n",
    "- Adding comments in your code is strongly suggested but won't be graded.\n",
    "- The examples given are samples of how we will test/grade your code. Please ensure your code outputs the same information.\n",
    "- If you are stuck on a problem or do not understand a question - please come to office hours or ask questions to the class Google group (please don't post your code though). If it is a coding problem send a private email to all of the instructors at: mids-python-instructors@googlegroups.com\n",
    "- You may use any libraries from the Python Standard Library for this assignment: https://docs.python.org/3/library/\n",
    "- We also have a tutor if you would like a 1 on 1 session!"
   ]
  },
  {
   "cell_type": "markdown",
   "metadata": {},
   "source": [
    "## Grading Rubric\n",
    "\n",
    "General grading rubric guidelines / philosophy:\n",
    "\n",
    "- The total possible points will be shown for each question\n",
    "- Please read each question carefully to understand the requirements\n",
    "- Points for each question are rewarded based on how well your code fulfills those requirements\n",
    "- All of the problems have an example given to help show what is needed and how to format the answer\n",
    "- For the rest of the questions, its up to you to determine the requirements and code them!\n",
    "\n",
    "More on grading:\n",
    "- If the question is blank / not attempted, no points will be given\n",
    "- Most points are given for code that runs (does not crash) and fulfills the requirements\n",
    "- Minor points are given for formatting the answer in accordance with the question"
   ]
  },
  {
   "cell_type": "markdown",
   "metadata": {},
   "source": [
    "## 4-1. Loops\n",
    "### 4-1-1. For Loops (10 points)\n",
    "\n",
    "Write a script that prompts the user for two words (two, one-word strings). Print all the **unique** letters that are common to both words, in alphabetical order, using **for** loops in your solution. A shown below case does not matter.\n",
    "\n",
    "For example:\n",
    "```\n",
    "Enter one word: Home\n",
    "Enter another word: Meter\n",
    "\n",
    "Letters in common: em\n",
    "```"
   ]
  },
  {
   "cell_type": "code",
   "execution_count": 1,
   "metadata": {},
   "outputs": [
    {
     "name": "stdout",
     "output_type": "stream",
     "text": [
      "\n",
      "Enter one word: Home\n",
      "Enter another word: Meter\n",
      "\n",
      "Letters in common: em\n",
      "\n"
     ]
    }
   ],
   "source": [
    "# Q4-1-1 Grading Tag:\n",
    "one = input(\"\\nEnter one word: \")\n",
    "another = input(\"Enter another word: \")\n",
    "\n",
    "my_str = ''\n",
    "for w in set(one.lower()):\n",
    "   for y in set(another.lower()):\n",
    "      if w in y:\n",
    "         my_str += w\n",
    "\n",
    "sorted_characters = sorted(my_str)\n",
    "my_str = \"\".join(sorted_characters)\n",
    "print(\"\\nLetters in common:\", my_str + \"\\n\")"
   ]
  },
  {
   "cell_type": "markdown",
   "metadata": {},
   "source": [
    "### 4-1-2. A Game of Chess (20 points: 5 points Pseudo-code / 15 points Chess)\n",
    "You place a pawn at the top left corner of an n-by-n chess board, labeled (0,0).  For each move, you have a choice: move the pawn down a single space, or move the pawn down one space and right one space.  That is, if the pawn is at position (i,j), you can move the pawn to (i+1,j) or (i+1, j+1).\n",
    "\n",
    "Ask the user for the size of a chessboard, n (**integer**).  Find the number of different paths **starting from (0,0)** that the pawn could take to reach each position on the chess board.  For example, there are two different paths the pawn can take to reach (2,1). Look at the diagrams below to convince yourself of this. You can see the four paths that you can take by move 2.\n",
    "```\n",
    "  Start -> Move 1 -> Move 2\n",
    "\n",
    "  (0,0) ->  (1,0) -> (2,1)\n",
    "  \n",
    "  (0,0) ->  (1,0) -> (2,0)\n",
    "  \n",
    "  (0,0) ->  (1,1) -> (2,1)\n",
    "  \n",
    "  (0,0) ->  (1,1) -> (2,2)\n",
    "```\n",
    "\n",
    "Print the board with the number of ways to reach each square labeled as shown below.\n",
    "\n",
    "For example:\n",
    "```\n",
    "Enter a board size: 4\n",
    "\n",
    "1 0 0 0\n",
    "1 1 0 0\n",
    "1 2 1 0\n",
    "1 3 3 1\n",
    "```\n",
    "\n",
    "#### Please create pseudocode for this problem in the first cell then implement your solution in the second cell. \n",
    "- If you need help creating pseudocode, read this article: https://www.geeksforgeeks.org/how-to-write-a-pseudo-code/ (code is java but principles are the same)"
   ]
  },
  {
   "cell_type": "code",
   "execution_count": null,
   "metadata": {
    "collapsed": true
   },
   "outputs": [],
   "source": [
    "# Pseudocode Here\n",
    "This is a recursive method to find the number of paths and update it in a board\n",
    "\n",
    "function find_paths(board, current row, current column)\n",
    "\n",
    "   If the current row and current column position on the board \texceed the bounds of the board length, exit out of the method\n",
    "\n",
    "   return\n",
    "\n",
    "   Otherwise, add 1 to the current value of row and column.\n",
    "   Move one place down and count the finding paths.\n",
    "   Move one place down and one place to the right and count the finding paths.\n",
    "\n",
    "In the main function\n",
    "\n",
    "   Read and print the board size\n",
    "\n",
    "   Create an n by n list filled with 0s\n",
    "   Count the finding paths starting at row=0 and column=0\n",
    "\n",
    "   Loop through and print the board\n",
    "\n",
    "Call the main function"
   ]
  },
  {
   "cell_type": "code",
   "execution_count": 2,
   "metadata": {},
   "outputs": [
    {
     "name": "stdout",
     "output_type": "stream",
     "text": [
      "Enter a board size: 4\n",
      "\n",
      "1 0 0 0 \n",
      "1 1 0 0 \n",
      "1 2 1 0 \n",
      "1 3 3 1 \n"
     ]
    }
   ],
   "source": [
    "# Q4-1-2 Grading Tag:\n",
    "\n",
    "# Implement Here\n",
    "def find_paths(board, r, c):\n",
    "\n",
    "    if r >= len(board) or c >= len(board[r]):\n",
    "        return\n",
    "\n",
    "    board[r][c] += 1\n",
    "    find_paths(board, r + 1, c)\n",
    "    find_paths(board, r + 1, c + 1)\n",
    "\n",
    "\n",
    "def main():\n",
    "\n",
    "    n = int(input(\"Enter a board size: \"))\n",
    "    print()  # blank line\n",
    "\n",
    "    board = [[0 for i in range(n)] for j in range(n)]\n",
    "    find_paths(board, 0, 0)\n",
    "\n",
    "    for row in board:\n",
    "        for i in row:\n",
    "            print(i, end=' ')\n",
    "        print()\n",
    "\n",
    "\n",
    "main()"
   ]
  },
  {
   "cell_type": "markdown",
   "metadata": {},
   "source": [
    "## 4-2. Algorithms\n",
    "\n",
    "### 4-2-1. Fixing the Bisection Search (15 points)\n",
    "\n",
    "The bisection code below finds the square root of a number. Try inputting 16 into the code to confirm it works. Next, try inputting 0.25 into the bisection search algorithm below and confirm that it doesn't work. Then correct the algorithm so that it works for all positive numbers, including decimals such as 0.25."
   ]
  },
  {
   "cell_type": "code",
   "execution_count": 3,
   "metadata": {},
   "outputs": [
    {
     "name": "stdout",
     "output_type": "stream",
     "text": [
      "enter a number:0.25\n",
      "low = 0.0 high = 1.0\n",
      "low = 0.0 high = 0.5\n",
      "low = 0.25 high = 0.5\n",
      "low = 0.375 high = 0.5\n",
      "low = 0.4375 high = 0.5\n",
      "low = 0.46875 high = 0.5\n",
      "low = 0.484375 high = 0.5\n",
      "low = 0.4921875 high = 0.5\n",
      "low = 0.49609375 high = 0.5\n",
      "low = 0.498046875 high = 0.5\n",
      "low = 0.4990234375 high = 0.5\n",
      "low = 0.49951171875 high = 0.5\n",
      "low = 0.499755859375 high = 0.5\n",
      "low = 0.4998779296875 high = 0.5\n",
      "low = 0.49993896484375 high = 0.5\n",
      "low = 0.499969482421875 high = 0.5\n",
      "number of guesses = 16\n",
      "0.49999237060546875 is close to square root of 0.25\n"
     ]
    }
   ],
   "source": [
    "# Q4-2-1 Grading Tag:\n",
    "## Please fix the code in this cell (that is don't make a new cell)\n",
    "## Bisection Search to Find a Square Root\n",
    "\n",
    "x = float(input(\"enter a number:\"))\n",
    "epsilon = 0.00001\n",
    "num_guesses = 0\n",
    "low = 0.0\n",
    "high = (x<1)*1+(x>1)*x;\n",
    "ans = (high + low)/2.0\n",
    "while high - low >= 2 * epsilon:\n",
    "   print(\"low =\",low,\"high =\", high)\n",
    "   num_guesses += 1\n",
    "   if ans ** 2 < x:\n",
    "      low = ans\n",
    "   else:\n",
    "      high = ans\n",
    "   ans = (high + low)/2.0\n",
    "print('number of guesses =', num_guesses)\n",
    "print(ans, 'is close to square root of', x)"
   ]
  },
  {
   "cell_type": "markdown",
   "metadata": {},
   "source": [
    "### 4-2-2. Bisection Search vs. Brute Force (5 points)\n",
    "\n",
    "Please answer the following questions as a short answer discussion not more than 1-2 paragraphs.  These methods are described in the async video lectures 4.5, 4.6 & 4.7.\n",
    "\n",
    "In your own words, why does the bisection search algorithm for finding square roots work faster on large numbers than the brute force algorithm? Write your answer below."
   ]
  },
  {
   "cell_type": "markdown",
   "metadata": {},
   "source": [
    "**[Type your answer here]**\n",
    "The brute force method tests all of the possible values until the algorithm completes which ends up taking a lot of steps if the number of possible solutions is large whereas the bisection search algorithm allows you to cut the problem into half after every iteration. The bisection search won't just choose a guess at every stage of the algorithm and instead chooses a whole window that contains the actual answer. Compared to the brute force method, this would mean that the bisection search algorithm will conduct a lower number of guesses and steps as well as faster retrivel of returning results due to the fact that the solution space is ordered."
   ]
  },
  {
   "cell_type": "markdown",
   "metadata": {},
   "source": [
    "### 4-2-3. Bisection Search vs Newton's Method (5 points)\n",
    "\n",
    "In your own words, why does Newton's method for finding square roots outperform both the brute force and the bisection search algorithms? Write your answer below."
   ]
  },
  {
   "cell_type": "markdown",
   "metadata": {},
   "source": [
    "**[Type your answer here]**\n",
    "In terms of finding square roots, Newton's method performs a quadratic rate of convergence whereas the bisection method has a linear rate of convergence. The algorithm for Newton's method minimizes a quadratic approximation to the function and since the quadratic approximation is more accurate than the linear approximation, it is reasonable to say that the convergence speed will be faster for Newton's method compared to both the bisection search and brute force algorithms. Since Newton's method is a higher order method with faster convergence speed and better approximation to the results, the algorithm conducts a lower number of guesses and faster retrieval of returning results compared to the other 2 algorithms."
   ]
  },
  {
   "cell_type": "markdown",
   "metadata": {},
   "source": [
    "### 4-2-4. Interpreting Instructions for an Algorithm (20 points)\n",
    "\n",
    "Implement this digit-by-digit algorithm to find the square root of x to a precision of epsilon.\n",
    "  1. Begin with a step size of 1 and guess of zero.\n",
    "  2. Increase the guess by the step size as long as doing so would not cause the guess^2 to exceed x. Repeat this step (step 2) until the next repetition will cause guess^2 to exceed x.\n",
    "  3. If the step size is greater than epsilon, then divide the step size by 10 and go back to step 2.\n",
    "\n",
    "Notice that once a digit has been found, it is not changed again.  Try using your code to find the square root of 10 to an epsilon of 10 decimal places.  This algorithm should not take over 30 seconds to run (if it does you have coded something incorrectly!). \n",
    "\n",
    "If you are getting an answer that is off by epsilon (for example 3.1622776602 instead of 3.1622776601), this might be caused by the floating point error. You can read more about that here: https://docs.python.org/3/tutorial/floatingpoint.html. To fix this problem, you can use the Decimal library here: https://docs.python.org/3/library/decimal.html#module-decimal\n",
    "\n",
    "Hint: It might be helpful to write out by hand an easier example like '4' to understand how the algorithm works.\n",
    "\n",
    "Example output:\n",
    "\n",
    "```\n",
    "Enter a number to find the square root: 10\n",
    "The square root of 10 is 3.1622776601.\n",
    "```"
   ]
  },
  {
   "cell_type": "code",
   "execution_count": 3,
   "metadata": {},
   "outputs": [
    {
     "name": "stdout",
     "output_type": "stream",
     "text": [
      "\n",
      "Enter a number to find the square root: 10\n",
      "The square root of 10 is 3.1622776601.\n",
      "\n"
     ]
    }
   ],
   "source": [
    "# Q4-2-4 Grading Tag:\n",
    "n = int(input(\"\\nEnter a number to find the square root: \"))\n",
    "\n",
    "import sys\n",
    "import math\n",
    "def digitbydigit(x):\n",
    "   ss = 1\n",
    "   g = 0 \n",
    "   e = sys.float_info.epsilon\n",
    "   while True:\n",
    "      if ss< e:\n",
    "         break\n",
    "      if (g+ss)**2<=x:\n",
    "         g += ss\n",
    "      else:\n",
    "         ss /= n\n",
    "   return(g)\n",
    "\n",
    "print(\"The square root of 10 is \", math.trunc(digitbydigit(n)*10**10)/10**10, \".\\n\", sep='')"
   ]
  },
  {
   "cell_type": "markdown",
   "metadata": {},
   "source": [
    "## 4-3. List Comprehensions (25 points - 5 points each)\n",
    "\n",
    "Each list comprehension below can be done in just one line/statement and needs to output one list. \n",
    "\n",
    "A note on displaying lists in Python: sometimes Python displays lists like `[1,2,3]` and other times lists display as \n",
    "```\n",
    "[1,\n",
    " 2,\n",
    " 3]\n",
    "```\n",
    "Either way these lists contain the same values and information (and are the same answer for this problem)."
   ]
  },
  {
   "cell_type": "markdown",
   "metadata": {},
   "source": [
    "**4-3-1. Use a single comprehension** to make a list of the square numbers below 100 that give a remainder of 1 when divided by 3.\n",
    "\n",
    "Example output (these are the first two elements of the list - obviously not the full list!):\n",
    "```\n",
    "[1, 4, ... ]\n",
    "```"
   ]
  },
  {
   "cell_type": "code",
   "execution_count": 6,
   "metadata": {},
   "outputs": [
    {
     "name": "stdout",
     "output_type": "stream",
     "text": [
      "[1, 4, 16, 25, 49, 64]\n"
     ]
    }
   ],
   "source": [
    "# Q4-3-1 Grading Tag:\n",
    "lc1 = [x*x for x in range(1,10) if (x*x)%3==1]\n",
    "\n",
    "print(lc1)"
   ]
  },
  {
   "cell_type": "markdown",
   "metadata": {},
   "source": [
    "**4-3-2.** A string is defined in the code snippet below. **Use a single comprehension** to make a list of the first letter of each word in the snippet.\n",
    "\n",
    "Example output (these are the first two elements of the list - obviously not the full list!):\n",
    "```\n",
    "['I', 'l', ... ]\n",
    "```"
   ]
  },
  {
   "cell_type": "code",
   "execution_count": 8,
   "metadata": {},
   "outputs": [
    {
     "name": "stdout",
     "output_type": "stream",
     "text": [
      "['I', 'l', 'm', 'l', 'a', 'q', 'm', 'a', 'a', 't', 'N', 'e', 'm', 'n', 't', 'm', 'n', 't', 's', 'n', 'm', 't', 'a', 'a', 't', 'b', 'F', 't', 't', 's', 'o', 'l', 'I', 'f']\n"
     ]
    }
   ],
   "source": [
    "# Q4-3-2 Grading Tag:\n",
    "lc2 = [x[0] for x in \"I live my life a quarter mile at a time. \\\n",
    "Nothing else matters: not the mortgage, not the store, \\\n",
    "not my team and all their bullshit. \\\n",
    "For those ten seconds or less, I’m free.\".split(\" \")]\n",
    "\n",
    "print(lc2)"
   ]
  },
  {
   "cell_type": "markdown",
   "metadata": {},
   "source": [
    "**4-3-3.** A Pythagorean triple is a set (x,y,z), with positive integers x ≤ y ≤ z such that $x^2+y^2=z^2$. **Use a single comprehension** to make a list of all Pythagorean triples such that all 3 numbers are below 25.\n",
    "\n",
    "Example output (these are the first two elements of the list - obviously not the full list!):\n",
    "```\n",
    "[(3, 4, 5), (5, 12, 13), ... ]\n",
    "```"
   ]
  },
  {
   "cell_type": "code",
   "execution_count": 4,
   "metadata": {},
   "outputs": [
    {
     "name": "stdout",
     "output_type": "stream",
     "text": [
      "[(3, 4, 5), (5, 12, 13), (6, 8, 10), (8, 15, 17), (9, 12, 15), (12, 16, 20)]\n"
     ]
    }
   ],
   "source": [
    "# Q4-3-3 Grading Tag:\n",
    "lc3 = [(x,y,z) for x in range(1,25) for y in range(1,25) for z in range(1,25) if (x**2+y**2 == z**2) if x <= y <= z]\n",
    "\n",
    "print(lc3)"
   ]
  },
  {
   "cell_type": "markdown",
   "metadata": {},
   "source": [
    "**4-3-4.** Given a word, provided below, **use a single comprehension** to make a list of all strings that can be formed by deleting exactly one character from the word.\n",
    "\n",
    "Required output:\n",
    "```\n",
    "['elcomed', 'Wlcomed', 'Wecomed', 'Welomed', 'Welcmed', 'Welcoed', 'Welcomd', 'Welcome']\n",
    "```"
   ]
  },
  {
   "cell_type": "code",
   "execution_count": 10,
   "metadata": {},
   "outputs": [
    {
     "name": "stdout",
     "output_type": "stream",
     "text": [
      "['elcomed', 'Wlcomed', 'Wecomed', 'Welomed', 'Welcmed', 'Welcoed', 'Welcomd', 'Welcome']\n"
     ]
    }
   ],
   "source": [
    "# Q4-3-4 Grading Tag:\n",
    "word = \"Welcomed\"\n",
    "\n",
    "lc4 = [word[:i] + word[i+1:] for i in range(len(word))]\n",
    "\n",
    "print(lc4)"
   ]
  },
  {
   "cell_type": "markdown",
   "metadata": {},
   "source": [
    "**4-3-5.** Given a word, provided below, **use a single comprehension** to make a list of all strings that can be formed by replacing exactly one vowel in the word with a different vowel (a vowel is a,e,i,o,u).\n",
    "\n",
    "Required output:\n",
    "```\n",
    "['Baoted', 'Beoted', 'Bioted', 'Buoted', 'Boated', 'Boeted', 'Boited', 'Bouted', 'Bootad', 'Bootid', 'Bootod', 'Bootud']\n",
    "```"
   ]
  },
  {
   "cell_type": "code",
   "execution_count": 11,
   "metadata": {},
   "outputs": [
    {
     "name": "stdout",
     "output_type": "stream",
     "text": [
      "['Baoted', 'Beoted', 'Bioted', 'Buoted', 'Boated', 'Boeted', 'Boited', 'Bouted', 'Bootad', 'Bootid', 'Bootod', 'Bootud']\n"
     ]
    }
   ],
   "source": [
    "# Q4-3-5 Grading Tag:\n",
    "word = \"Booted\"\n",
    "\n",
    "lc5 = [word[:i] + j + word[i+1:] for i in range(len(word)) if word[i] in ['a','e','i','o','u'] for j in ['a','e','i','o','u'] if word[i] != j]\n",
    "\n",
    "print(lc5)"
   ]
  },
  {
   "cell_type": "markdown",
   "metadata": {},
   "source": [
    "## If you have feedback for this homework, please submit it using the link below:\n",
    "\n",
    "http://goo.gl/forms/74yCiQTf6k"
   ]
  }
 ],
 "metadata": {
  "kernelspec": {
   "display_name": "Python 3",
   "language": "python",
   "name": "python3"
  },
  "language_info": {
   "codemirror_mode": {
    "name": "ipython",
    "version": 3
   },
   "file_extension": ".py",
   "mimetype": "text/x-python",
   "name": "python",
   "nbconvert_exporter": "python",
   "pygments_lexer": "ipython3",
   "version": "3.8.5"
  }
 },
 "nbformat": 4,
 "nbformat_minor": 1
}
